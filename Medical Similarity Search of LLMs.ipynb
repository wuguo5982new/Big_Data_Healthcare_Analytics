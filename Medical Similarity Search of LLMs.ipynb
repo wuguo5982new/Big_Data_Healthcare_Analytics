{
 "cells": [
  {
   "cell_type": "markdown",
   "id": "3591acc0",
   "metadata": {},
   "source": [
    "# Similarity Search for Keyword of Medical Terminology \n",
    "## Two Vector Databases: FAISS and Chroma\n",
    "### 1. Vector library: FAISS\n"
   ]
  },
  {
   "cell_type": "code",
   "execution_count": 1,
   "id": "de4d5059",
   "metadata": {},
   "outputs": [],
   "source": [
    "# %pip install faiss-cpu==1.7.4 chromadb==0.3.21\n",
    "# !pip install sentence_transformers"
   ]
  },
  {
   "cell_type": "code",
   "execution_count": 2,
   "id": "60473832",
   "metadata": {},
   "outputs": [
    {
     "name": "stderr",
     "output_type": "stream",
     "text": [
      "C:\\Users\\Sealion\\anaconda3\\lib\\site-packages\\scipy\\__init__.py:146: UserWarning: A NumPy version >=1.16.5 and <1.23.0 is required for this version of SciPy (detected version 1.26.0\n",
      "  warnings.warn(f\"A NumPy version >={np_minversion} and <{np_maxversion}\"\n",
      "Found cached dataset parquet (C:/Users/Sealion/Desktop/SOS_JOB/datasets/gamino___parquet/gamino--wiki_medical_terms-a58e77d291ee0a19/0.0.0/14a00e99c0d15a23649d0db8944380ac81082d4b021f398733dd84f3a6c569a7)\n"
     ]
    },
    {
     "data": {
      "application/vnd.jupyter.widget-view+json": {
       "model_id": "94909205734b4b528ca38b40ac12c155",
       "version_major": 2,
       "version_minor": 0
      },
      "text/plain": [
       "  0%|          | 0/1 [00:00<?, ?it/s]"
      ]
     },
     "metadata": {},
     "output_type": "display_data"
    },
    {
     "data": {
      "text/plain": [
       "DatasetDict({\n",
       "    train: Dataset({\n",
       "        features: ['page_title', 'page_text', '__index_level_0__'],\n",
       "        num_rows: 6861\n",
       "    })\n",
       "})"
      ]
     },
     "execution_count": 2,
     "metadata": {},
     "output_type": "execute_result"
    }
   ],
   "source": [
    "import pandas as pd\n",
    "from datasets import load_dataset\n",
    "from transformers import pipeline\n",
    "\n",
    "med_dataset = load_dataset(\"gamino/wiki_medical_terms\", cache_dir=\"../datasets/\")  \n",
    "med_dataset  "
   ]
  },
  {
   "cell_type": "code",
   "execution_count": 3,
   "id": "a981609a",
   "metadata": {},
   "outputs": [
    {
     "data": {
      "text/html": [
       "<div>\n",
       "<style scoped>\n",
       "    .dataframe tbody tr th:only-of-type {\n",
       "        vertical-align: middle;\n",
       "    }\n",
       "\n",
       "    .dataframe tbody tr th {\n",
       "        vertical-align: top;\n",
       "    }\n",
       "\n",
       "    .dataframe thead th {\n",
       "        text-align: right;\n",
       "    }\n",
       "</style>\n",
       "<table border=\"1\" class=\"dataframe\">\n",
       "  <thead>\n",
       "    <tr style=\"text-align: right;\">\n",
       "      <th></th>\n",
       "      <th>page_title</th>\n",
       "      <th>page_text</th>\n",
       "      <th>__index_level_0__</th>\n",
       "    </tr>\n",
       "  </thead>\n",
       "  <tbody>\n",
       "    <tr>\n",
       "      <th>0</th>\n",
       "      <td>Paracetamol poisoning</td>\n",
       "      <td>Paracetamol poisoning, also known as acetamino...</td>\n",
       "      <td>0</td>\n",
       "    </tr>\n",
       "    <tr>\n",
       "      <th>1</th>\n",
       "      <td>Acromegaly</td>\n",
       "      <td>Acromegaly is a disorder that results from exc...</td>\n",
       "      <td>1</td>\n",
       "    </tr>\n",
       "    <tr>\n",
       "      <th>2</th>\n",
       "      <td>Actinic keratosis</td>\n",
       "      <td>Actinic keratosis (AK), sometimes called solar...</td>\n",
       "      <td>2</td>\n",
       "    </tr>\n",
       "    <tr>\n",
       "      <th>3</th>\n",
       "      <td>Congenital adrenal hyperplasia</td>\n",
       "      <td>Congenital adrenal hyperplasia (CAH) is a grou...</td>\n",
       "      <td>3</td>\n",
       "    </tr>\n",
       "    <tr>\n",
       "      <th>4</th>\n",
       "      <td>Adrenocortical carcinoma</td>\n",
       "      <td>Adrenocortical carcinoma  (ACC) is an aggressi...</td>\n",
       "      <td>4</td>\n",
       "    </tr>\n",
       "  </tbody>\n",
       "</table>\n",
       "</div>"
      ],
      "text/plain": [
       "                       page_title  \\\n",
       "0           Paracetamol poisoning   \n",
       "1                      Acromegaly   \n",
       "2               Actinic keratosis   \n",
       "3  Congenital adrenal hyperplasia   \n",
       "4        Adrenocortical carcinoma   \n",
       "\n",
       "                                           page_text  __index_level_0__  \n",
       "0  Paracetamol poisoning, also known as acetamino...                  0  \n",
       "1  Acromegaly is a disorder that results from exc...                  1  \n",
       "2  Actinic keratosis (AK), sometimes called solar...                  2  \n",
       "3  Congenital adrenal hyperplasia (CAH) is a grou...                  3  \n",
       "4  Adrenocortical carcinoma  (ACC) is an aggressi...                  4  "
      ]
     },
     "execution_count": 3,
     "metadata": {},
     "output_type": "execute_result"
    }
   ],
   "source": [
    "med_df = pd.DataFrame.from_dict(med_dataset['train'])\n",
    "med_df.head(5)"
   ]
  },
  {
   "cell_type": "code",
   "execution_count": 4,
   "id": "00b0f0fd",
   "metadata": {},
   "outputs": [
    {
     "data": {
      "text/plain": [
       "'Acromegaly is a disorder that results from excess growth hormone (GH) after the growth plates have closed. The initial symptom is typically enlargement of the hands and feet. There may also be an enlargement of the forehead, jaw, and nose. Other symptoms may include joint pain, thicker skin, deepening of the voice, headaches, and problems with vision. Complications of the disease may include type 2 diabetes, sleep apnea, and high blood pressure.Acromegaly is usually caused by the pituitary gland producing excess growth hormone. In more than 95% of cases the excess production is due to a benign tumor, known as a pituitary adenoma. The condition is not inherited from a persons parents. Acromegaly is rarely due to a tumor in another part of the body. Diagnosis is by measuring growth hormone after a person has consumed a glucose solution, or by measuring insulin-like growth factor I in the blood. After diagnosis, medical imaging of the pituitary is carried out to determine if an adenoma is present. If excess growth hormone is produced during childhood, the result is the condition gigantism rather than acromegaly, and it is characterized by excessive height.Treatment options include surgery to remove the tumor, medications, and radiation therapy. Surgery is usually the preferred treatment; the smaller the tumor, the more likely surgery will be curative. If surgery is contraindicated or not curative, somatostatin analogues or GH receptor antagonists may be used. Radiation therapy may be used if neither surgery nor medications are completely effective. Without treatment, life expectancy is reduced by 10 years; with treatment, life expectancy is not reduced.Acromegaly affects about 3 per 50,000 people. It is most commonly diagnosed in middle age. Males and females are affected with equal frequency. It was first described in the medical literature by Nicolas Saucerotte in 1772. The term is from the Greek ἄκρον (akron) meaning \"extremity\", and μέγα (mega) meaning \"large\".\\n\\nSigns and symptoms\\nFeatures that may result from a high level of GH or expanding tumor include:\\nHeadaches – often severe and prolonged\\nSoft tissue swelling visibly resulting in enlargement of the hands, feet, nose, lips, and ears, and a general thickening of the skin\\nSoft tissue swelling of internal organs, notably the heart with the attendant weakening of its muscularity, and the kidneys, also the vocal cords resulting in a characteristic thick, deep voice and slowing of speech\\nGeneralized expansion of the skull at the fontanelle\\nPronounced brow protrusion, often with ocular distension (frontal bossing)\\nPronounced lower jaw protrusion (prognathism) with attendant macroglossia (enlargement of the tongue) and teeth spacing\\nHypertrichosis, hyperpigmentation and hyperhidrosis may occur in these people.:\\u200a499\\u200a\\nSkin tags\\nCarpal tunnel syndrome\\n\\nComplications\\nProblems with bones and joints, including osteoarthritis, nerve compression syndrome due to bony overgrowth, and carpal tunnel syndrome\\nHypertension\\nDiabetes mellitus\\nCardiomyopathy, potentially leading to heart failure\\nColorectal cancer\\nSleep Apnea\\nThyroid nodules and thyroid cancer\\nHypogonadism\\nCompression of the optic chiasm by the growth of pituitary adenoma leading to visual problems\\n\\nCauses\\nPituitary adenoma\\nAbout 98% of cases of acromegaly are due to the overproduction of growth hormone by a benign tumor of the pituitary gland called an adenoma. These tumors produce excessive growth hormone and compress surrounding brain tissues as they grow larger. In some cases, they may compress the optic nerves. Expansion of the tumor may cause headaches and visual disturbances. In addition, compression of the surrounding normal pituitary tissue can alter production of other hormones, leading to changes in menstruation and breast discharge in women and impotence in men because of reduced testosterone production.A marked variation in rates of GH production and the aggressiveness of the tumor occurs. Some adenomas grow slowly and symptoms of GH excess are often not noticed for many years. Other adenomas grow rapidly and invade surrounding brain areas or the sinuses, which are located near the pituitary. In general, younger people tend to have more aggressive tumors.Most pituitary tumors arise spontaneously and are not genetically inherited. Many pituitary tumors arise from a genetic alteration in a single pituitary cell that leads to increased cell division and tumor formation. This genetic change, or mutation, is not present at birth but is acquired during life. The mutation occurs in a gene that regulates the transmission of chemical signals within pituitary cells; it permanently switches on the signal that tells the cell to divide and secrete growth hormones. The events within the cell that cause disordered pituitary cell growth and GH oversecretion currently are the subject of intensive research.Pituitary adenomas and diffuse somatomammotroph hyperplasia may result from somatic mutations activating GNAS, which may be acquired or associated with McCune-Albright syndrome.\\n\\nOther tumors\\nIn a few people, acromegaly is caused not by pituitary tumors, but by tumors of the pancreas, lungs, and adrenal glands. These tumors also lead to an excess of GH, either because they produce GH themselves or, more frequently, because they produce GHRH (growth hormone-releasing hormone), the hormone that stimulates the pituitary to make GH. In these people, the excess GHRH can be measured in the blood and establishes that the cause of the acromegaly is not due to a pituitary defect. When these nonpituitary tumors are surgically removed, GH levels fall and the symptoms of acromegaly improve.In people with GHRH-producing, non-pituitary tumors, the pituitary still may be enlarged and may be mistaken for a tumor. Therefore, it is important that physicians carefully analyze all \"pituitary tumors\" removed from people with acromegaly so as to not overlook the possibility that a tumor elsewhere in the body is causing the disorder.\\n\\nDiagnosis\\nIf acromegaly is suspected, medical laboratory investigations followed by medical imaging if the lab tests are positive confirms or rules out the presence of this condition.\\nIGF1 provides the most sensitive lab test for the diagnosis of acromegaly, and a GH suppression test following an oral glucose load, which is a very specific lab test, will confirm the diagnosis following a positive screening test for IGF1. A single value of the GH is not useful in view of its pulsatility (levels in the blood vary greatly even in healthy individuals). GH levels taken 2 hours after a 75- or 100-gram glucose tolerance test are helpful in the diagnosis: GH levels are suppressed below 1 μg/L in normal people, and levels higher than this cutoff are confirmatory of acromegaly.Other pituitary hormones must be assessed to address the secretory effects of the tumor, as well as the mass effect of the tumor on the normal pituitary gland. They include thyroid stimulating hormone (TSH), gonadotropic hormones (FSH, LH), adrenocorticotropic hormone, and prolactin.An MRI of the brain focusing on the sella turcica after gadolinium administration allows for clear delineation of the pituitary and the hypothalamus and the location of the tumor. A number of other overgrowth syndromes can result in similar problems.\\n\\nDifferential diagnosis\\nPseudoacromegaly is a condition with the usual acromegaloid features, but without an increase in growth hormone and IGF-1. It is frequently associated with insulin resistance. Cases have been reported due to minoxidil at an unusually high dose. It can also be caused by a selective post receptor defect of insulin signalling, leading to the impairment of metabolic, but preservation of mitogenic, signalling.\\n\\nTreatment\\nThe goals of treatment are to reduce GH production to normal levels thereby reversing or ameliorating the signs and symptoms of acromegaly, to relieve the pressure that the growing pituitary tumor exerts on the surrounding brain areas, and to preserve normal pituitary function. Currently, treatment options include surgical removal of the tumor, drug therapy, and radiation therapy of the pituitary.\\n\\nMedications\\nSomatostatin analogues\\nThe primary current medical treatment of acromegaly is to use somatostatin analogues – octreotide (Sandostatin) or lanreotide (Somatuline).\\nThese somatostatin analogues are synthetic forms of a brain hormone, somatostatin, which stops GH production. The long-acting forms of these drugs must be injected every 2 to 4 weeks for effective treatment. Most people with acromegaly respond to this medication. In many people with acromegaly, GH levels fall within one hour and headaches improve within minutes after the injection. Octreotide and lanreotide are effective for long-term treatment. Octreotide and lanreotide have also been used successfully to treat people with acromegaly caused by non-pituitary tumors.Somatostatin analogues are also sometimes used to shrink large tumors before surgery.Because octreotide inhibits gastrointestinal and pancreatic function, long-term use causes digestive problems such as loose stools, nausea, and gas in one third of people. In addition, approximately 25 percent of people with acromegaly develop gallstones, which are usually asymptomatic. In some cases, octreotide treatment can cause diabetes due to the fact that somatostatin and its analogues can inhibit the release of insulin. With an aggressive adenoma that is not able to be operated on, there may be a resistance to octreotide and in which case a second generation SSA, pasireotide, may be used for tumor control. However, insulin and glucose levels should be carefully monitored as pasireotide has been associated with hyperglycemia by reducing insulin secretion.\\n\\nDopamine agonists\\nFor those who are unresponsive to somatostatin analogues, or for whom they are otherwise contraindicated, it is possible to treat using one of the dopamine agonists, bromocriptine or cabergoline. As tablets rather than injections, they cost considerably less. These drugs can also be used as an adjunct to somatostatin analogue therapy. They are most effective in those whose pituitary tumours cosecrete prolactin. Side effects of these dopamine agonists include gastrointestinal upset, nausea, vomiting, light-headedness when standing, and nasal congestion. These side effects can be reduced or eliminated if medication is started at a very low dose at bedtime, taken with food, and gradually increased to the full therapeutic dose. Bromocriptine lowers GH and IGF-1 levels and reduces tumor size in fewer than half of people with acromegaly. Some people report improvement in their symptoms although their GH and IGF-1 levels still are elevated.\\n\\nGrowth hormone receptor antagonists\\nThe latest development in the medical treatment of acromegaly is the use of growth hormone receptor antagonists. The only available member of this family is pegvisomant (Somavert). By blocking the action of the endogenous growth hormone molecules, this compound is able to control the disease activity of acromegaly in virtually everyone with acromegaly. Pegvisomant has to be administered subcutaneously by daily injections. Combinations of long-acting somatostatin analogues and weekly injections of pegvisomant seem to be equally effective as daily injections of pegvisomant.\\n\\nSurgery\\nSurgical removal of the pituitary tumor is usually effective in lowering growth hormone levels. Two surgical procedures are available for use. The first is endonasal transsphenoidal surgery, which involves the surgeon reaching the pituitary through an incision in the nasal cavity wall. The wall is reached by passing through the nostrils with microsurgical instruments. The second method is transsphenoidal surgery during which an incision is made into the gum beneath the upper lip. Further incisions are made to cut through the septum to reach the nasal cavity, where the pituitary is located. Endonasal transsphenoidal surgery is a less invasive procedure with a shorter recovery time than the older method of transsphenoidal surgery, and the likelihood of removing the entire tumor is greater with reduced side effects. Consequently, endonasal transsphenoidal surgery is the more common surgical choice.These procedures normally relieve the pressure on the surrounding brain regions and lead to a lowering of GH levels. Surgery is most successful in people with blood GH levels below 40 ng/ml before the operation and with pituitary tumors no larger than 10 mm in diameter. Success depends on the skill and experience of the surgeon. The success rate also depends on what level of GH is defined as a cure. The best measure of surgical success is the normalization of GH and IGF-1 levels. Ideally, GH should be less than 2 ng/ml after an oral glucose load. A review of GH levels in 1,360 people worldwide immediately after surgery revealed that 60% had random GH levels below 5 ng/ml. Complications of surgery may include cerebrospinal fluid leaks, meningitis, or damage to the surrounding normal pituitary tissue, requiring lifelong pituitary hormone replacement.Even when surgery is successful and hormone levels return to normal, people must be carefully monitored for years for possible recurrence. More commonly, hormone levels may improve, but not return completely to normal. These people may then require additional treatment, usually with medications.\\n\\nRadiation therapy\\nRadiation therapy has been used both as a primary treatment and combined with surgery or drugs. It is usually reserved for people who have tumor remaining after surgery. These people often also receive medication to lower GH levels. Radiation therapy is given in divided doses over four to six weeks. This treatment lowers GH levels by about 50 percent over 2 to 5 years. People monitored for more than 5 years show significant further improvement. Radiation therapy causes a gradual loss of production of other pituitary hormones with time. Loss of vision and brain injury, which have been reported, are very rare complications of radiation treatments.\\n\\nSelection of treatment\\nThe initial treatment chosen should be individualized depending on the persons characteristics, such as age and tumor size. If the tumor has not yet invaded surrounding brain tissues, removal of the pituitary adenoma by an experienced neurosurgeon is usually the first choice. After surgery, a person must be monitored long-term for increasing GH levels.If surgery does not normalize hormone levels or a relapse occurs, a doctor will usually begin additional drug therapy. The current first choice is generally octreotide or lanreotide; however, bromocriptine and cabergoline are both cheaper and easier to administer. With all of these medications, long-term therapy is necessary, because their withdrawal can lead to rising GH levels and tumor re-expansion.Radiation therapy is generally used for people whose tumors are not completely removed by surgery, for people who are not good candidates for surgery because of other health problems, and for people who do not respond adequately to surgery and medication.\\n\\nPrognosis\\nLife expectancy of people with acromegaly is dependent on how early the disease is detected. Life expectancy after the successful treatment of early disease is equal to that of the general population. Acromegaly can often go on for years before diagnosis, resulting in poorer outcome, and it is suggested that the better the growth hormone is controlled, the better the outcome. Upon successful surgical treatment, headaches and visual symptoms tend to resolve. One exception is sleep apnea, which is present in around 70% of cases, but does not tend to resolve with successful treatment of growth hormone level. While hypertension is a complication of 40% of cases, it typically responds well to regular regimens of blood pressure medication. Diabetes that occurs with acromegaly is treated with the typical medications, but successful lowering of growth hormone levels often alleviates symptoms of diabetes. Hypogonadism without gonad destruction is reversible with treatment. Acromegaly is associated with a slightly elevated risk of cancer.\\n\\nNotable people\\nFamous people with acromegaly include:\\n\\nDaniel Cajanus (1704–1749), \"The Finnish Goliath\". His natural size portrait and femur are still extant. His height was estimated to have been 247 cm (8 1\").\\nMary Ann Bevan (1874–1933), an English woman, who after developing acromegaly, toured the sideshow circuit as \"the ugliest woman in the world\".\\nAndré the Giant (born André Roussimoff, 1946–1993), French professional wrestler and actor\\nSalvatore Baccaro (1932–1984), Italian character actor. Active in B-movies, comedies, and horrors because of his peculiar features and spontaneous sympathy\\nPaul Benedict (1938–2008), American actor. Best known for portraying Harry Bentley, The Jeffersons English next door neighbour\\nBig Show (born Paul Wight; 1972), American professional wrestler and actor, had his pituitary tumor removed in 1991.\\nEddie Carmel, born Oded Ha-Carmeili (1936–1972), Israeli-born entertainer with gigantism and acromegaly, popularly known as \"The Jewish Giant\"\\nTed Cassidy (1932–1979), American actor. Best known for portraying Lurch in the TV sitcom The Addams Family\\nRondo Hatton (1894–1946), American journalist and actor. A Hollywood favorite in B-movie horror films of the 1930s and 1940s. Hattons disfigurement, due to acromegaly, developed over time, beginning during his service in World War I.\\nSultan Kösen, the worlds tallest man\\nMaximinus Thrax, Roman emperor (c.\\u2009 173, reigned 235–238). Descriptions, as well as depictions, indicate acromegaly, though remains of his body are yet to be found.\\nThe Great Khali (born Dalip Singh Rana), Indian professional wrestler, is best known for his tenure with WWE. He had his pituitary tumor removed in 2012 at age 39.\\nPrimo Carnera (1906–1967), nicknamed the Ambling Alp, was an Italian professional boxer and wrestler who reigned as the boxing World Heavyweight Champion from 29 June 1933 to 14 June 1934.\\nMaurice Tillet (1903–1954), Russian-born French professional wrestler, is better known by his ring name, the French Angel.\\nRichard Kiel (1939–2014), actor, \"Jaws\" from two James Bond movies and Mr. Larson in Happy Gilmore\\nPío Pico, the last Mexican Governor of California (1801–1894), manifested acromegaly without gigantism between at least 1847 and 1858. Some time after 1858, signs of the growth hormone-producing tumor disappeared along with all the secondary effects the tumor had caused in him. He looked normal in his 90s. His remarkable recovery is likely an example of spontaneous selective pituitary tumor apoplexy.\\nEarl Nightingale (March 12, 1921 – March 25, 1989) was an American radio speaker and author, dealing mostly with the subjects of human character development, motivation, and meaningful existence. He was the voice during the early 1950s of Sky King, the hero of a radio adventure series, and was a WGN radio program host from 1950 to 1956. Nightingale was the author of The Strangest Secret, which economist Terry Savage has termed \"…one of the great motivational books of all time.\" Nightingale’s daughter, Pamela, mentioned her father had acromegaly during a podcast about her father that aired in June 2022.\\nTony Robbins, motivational speaker\\nCarel Struycken, Dutch actor, 2.13 m (7.0 ft), is best known for playing Lurch in The Addams Family film trilogy, The Giant in Twin Peaks, Lwaxana Trois silent Servant Mr. Homn in Star Trek: The Next Generation, and The Moonlight Man in Geralds Game, based on the Stephen King book.\\nPeter Mayhew (1944–2019), British-American actor, was diagnosed with gigantism at age eight. Best known for portraying Chewbacca in the Star Wars film series.\\nIrwin Keyes, American actor. Best known for portraying Hugo Mojoloweski, Georges occasional bodyguard on The Jeffersons\\nMorteza Mehrzad, Iranian Paralympian and medalist. Member of the Iranian sitting volleyball team. Top scorer in the 2016 gold medal match\\nNeil McCarthy, British actor. Known for roles in Zulu, Time Bandits, and many British television series\\nNikolai Valuev, Russian politician and former professional boxer\\nAntônio \"Bigfoot\" Silva, Brazilian kickboxer and mixed martial arts fighter.\\n(Leonel) Edmundo Rivero, Argentine tango singer, composer and impresarioIt has been argued that Lorenzo de Medici (1449–92) may have had acromegaly. Historical documents and portraits, as well as a later analysis of his skeleton, support the speculation.\\nPianist and composer Sergei Rachmaninoff, noted for his hands that could comfortably stretch a 13th on the piano, was never diagnosed with acromegaly in his lifetime, but a medical article from 2006 suggests that he might have had it.The Bogdanoff twins had shown some signs of acromegaly and their continued denials that they had plastic surgery that greatly altered their facial appearance made some consider the disease. However, acromegaly was not proven before they died.\\n\\nSee also\\nHypothalamic–pituitary–somatic axis\\nMacrognathism\\n\\nReferences\\nExternal links\\nAcromegaly at Curlie\\n2011 American Association of Clinical Endocrinologists Guideline Archived 29 August 2017 at the Wayback Machine\\nEndocrine and Metabolic Diseases Information Service'"
      ]
     },
     "execution_count": 4,
     "metadata": {},
     "output_type": "execute_result"
    }
   ],
   "source": [
    "med_df['page_text'][1]"
   ]
  },
  {
   "cell_type": "code",
   "execution_count": 5,
   "id": "f2c81c53",
   "metadata": {},
   "outputs": [
    {
     "data": {
      "text/html": [
       "<div>\n",
       "<style scoped>\n",
       "    .dataframe tbody tr th:only-of-type {\n",
       "        vertical-align: middle;\n",
       "    }\n",
       "\n",
       "    .dataframe tbody tr th {\n",
       "        vertical-align: top;\n",
       "    }\n",
       "\n",
       "    .dataframe thead th {\n",
       "        text-align: right;\n",
       "    }\n",
       "</style>\n",
       "<table border=\"1\" class=\"dataframe\">\n",
       "  <thead>\n",
       "    <tr style=\"text-align: right;\">\n",
       "      <th></th>\n",
       "      <th>page_title</th>\n",
       "      <th>page_text</th>\n",
       "      <th>__index_level_0__</th>\n",
       "      <th>id</th>\n",
       "    </tr>\n",
       "  </thead>\n",
       "  <tbody>\n",
       "    <tr>\n",
       "      <th>0</th>\n",
       "      <td>Paracetamol poisoning</td>\n",
       "      <td>Paracetamol poisoning, also known as acetamino...</td>\n",
       "      <td>0</td>\n",
       "      <td>0</td>\n",
       "    </tr>\n",
       "    <tr>\n",
       "      <th>1</th>\n",
       "      <td>Acromegaly</td>\n",
       "      <td>Acromegaly is a disorder that results from exc...</td>\n",
       "      <td>1</td>\n",
       "      <td>1</td>\n",
       "    </tr>\n",
       "    <tr>\n",
       "      <th>2</th>\n",
       "      <td>Actinic keratosis</td>\n",
       "      <td>Actinic keratosis (AK), sometimes called solar...</td>\n",
       "      <td>2</td>\n",
       "      <td>2</td>\n",
       "    </tr>\n",
       "    <tr>\n",
       "      <th>3</th>\n",
       "      <td>Congenital adrenal hyperplasia</td>\n",
       "      <td>Congenital adrenal hyperplasia (CAH) is a grou...</td>\n",
       "      <td>3</td>\n",
       "      <td>3</td>\n",
       "    </tr>\n",
       "    <tr>\n",
       "      <th>4</th>\n",
       "      <td>Adrenocortical carcinoma</td>\n",
       "      <td>Adrenocortical carcinoma  (ACC) is an aggressi...</td>\n",
       "      <td>4</td>\n",
       "      <td>4</td>\n",
       "    </tr>\n",
       "    <tr>\n",
       "      <th>...</th>\n",
       "      <td>...</td>\n",
       "      <td>...</td>\n",
       "      <td>...</td>\n",
       "      <td>...</td>\n",
       "    </tr>\n",
       "    <tr>\n",
       "      <th>6856</th>\n",
       "      <td>Gephyrophobia</td>\n",
       "      <td>Gephyrophobia is the anxiety disorder or speci...</td>\n",
       "      <td>7271</td>\n",
       "      <td>6856</td>\n",
       "    </tr>\n",
       "    <tr>\n",
       "      <th>6857</th>\n",
       "      <td>Coronary artery bypass surgery</td>\n",
       "      <td>Coronary artery bypass surgery, also known as ...</td>\n",
       "      <td>7272</td>\n",
       "      <td>6857</td>\n",
       "    </tr>\n",
       "    <tr>\n",
       "      <th>6858</th>\n",
       "      <td>Unemployment</td>\n",
       "      <td>Unemployment, according to the OECD (Organisat...</td>\n",
       "      <td>7273</td>\n",
       "      <td>6858</td>\n",
       "    </tr>\n",
       "    <tr>\n",
       "      <th>6859</th>\n",
       "      <td>Surgical instrument</td>\n",
       "      <td>A surgical instrument is a tool or device for ...</td>\n",
       "      <td>7274</td>\n",
       "      <td>6859</td>\n",
       "    </tr>\n",
       "    <tr>\n",
       "      <th>6860</th>\n",
       "      <td>Occipital neuralgia</td>\n",
       "      <td>Occipital neuralgia (ON) is a painful conditio...</td>\n",
       "      <td>7275</td>\n",
       "      <td>6860</td>\n",
       "    </tr>\n",
       "  </tbody>\n",
       "</table>\n",
       "<p>6861 rows × 4 columns</p>\n",
       "</div>"
      ],
      "text/plain": [
       "                          page_title  \\\n",
       "0              Paracetamol poisoning   \n",
       "1                         Acromegaly   \n",
       "2                  Actinic keratosis   \n",
       "3     Congenital adrenal hyperplasia   \n",
       "4           Adrenocortical carcinoma   \n",
       "...                              ...   \n",
       "6856                   Gephyrophobia   \n",
       "6857  Coronary artery bypass surgery   \n",
       "6858                    Unemployment   \n",
       "6859             Surgical instrument   \n",
       "6860             Occipital neuralgia   \n",
       "\n",
       "                                              page_text  __index_level_0__  \\\n",
       "0     Paracetamol poisoning, also known as acetamino...                  0   \n",
       "1     Acromegaly is a disorder that results from exc...                  1   \n",
       "2     Actinic keratosis (AK), sometimes called solar...                  2   \n",
       "3     Congenital adrenal hyperplasia (CAH) is a grou...                  3   \n",
       "4     Adrenocortical carcinoma  (ACC) is an aggressi...                  4   \n",
       "...                                                 ...                ...   \n",
       "6856  Gephyrophobia is the anxiety disorder or speci...               7271   \n",
       "6857  Coronary artery bypass surgery, also known as ...               7272   \n",
       "6858  Unemployment, according to the OECD (Organisat...               7273   \n",
       "6859  A surgical instrument is a tool or device for ...               7274   \n",
       "6860  Occipital neuralgia (ON) is a painful conditio...               7275   \n",
       "\n",
       "        id  \n",
       "0        0  \n",
       "1        1  \n",
       "2        2  \n",
       "3        3  \n",
       "4        4  \n",
       "...    ...  \n",
       "6856  6856  \n",
       "6857  6857  \n",
       "6858  6858  \n",
       "6859  6859  \n",
       "6860  6860  \n",
       "\n",
       "[6861 rows x 4 columns]"
      ]
     },
     "metadata": {},
     "output_type": "display_data"
    }
   ],
   "source": [
    "med_df[\"id\"] = med_df.index\n",
    "display(med_df)"
   ]
  },
  {
   "cell_type": "code",
   "execution_count": 6,
   "id": "29782268",
   "metadata": {},
   "outputs": [],
   "source": [
    "from sentence_transformers import InputExample\n",
    "med_data = med_df.head(1000)\n",
    "def example_create_fn(doc1: pd.Series) -> InputExample:\n",
    "    return InputExample(texts=[doc1])\n",
    "\n",
    "faiss_train_examples = med_data.apply(lambda x: example_create_fn(x[\"page_text\"]), axis=1).tolist()"
   ]
  },
  {
   "cell_type": "code",
   "execution_count": 7,
   "id": "8a2bceec",
   "metadata": {},
   "outputs": [],
   "source": [
    "# faiss_train_examples"
   ]
  },
  {
   "cell_type": "code",
   "execution_count": 8,
   "id": "7d6c1744",
   "metadata": {},
   "outputs": [],
   "source": [
    "from sentence_transformers import SentenceTransformer\n",
    "model = SentenceTransformer(\n",
    "    \"all-MiniLM-L6-v2\", \n",
    "    cache_folder=\"../datasets/\"\n",
    ") "
   ]
  },
  {
   "cell_type": "code",
   "execution_count": 9,
   "id": "9060a7c7",
   "metadata": {},
   "outputs": [
    {
     "data": {
      "text/plain": [
       "(1000, 384)"
      ]
     },
     "execution_count": 9,
     "metadata": {},
     "output_type": "execute_result"
    }
   ],
   "source": [
    "faiss_title_embedding = model.encode(med_data['page_text'].values.tolist())\n",
    "len(faiss_title_embedding), len(faiss_title_embedding[0])"
   ]
  },
  {
   "cell_type": "code",
   "execution_count": 10,
   "id": "4eeeb64a",
   "metadata": {},
   "outputs": [
    {
     "data": {
      "text/plain": [
       "array([[ 0.05954915, -0.0980249 , -0.00072011, ..., -0.00089188,\n",
       "        -0.00025767,  0.04045081],\n",
       "       [-0.02811945,  0.02960755, -0.00459793, ..., -0.00498677,\n",
       "         0.03072072, -0.0202143 ],\n",
       "       [-0.04736273, -0.047802  ,  0.00530074, ..., -0.02512635,\n",
       "        -0.01709105,  0.12578441],\n",
       "       ...,\n",
       "       [ 0.00785826,  0.02391542, -0.03233958, ..., -0.02174725,\n",
       "        -0.08354437,  0.02829496],\n",
       "       [ 0.01757784, -0.02052802,  0.0084214 , ...,  0.0577838 ,\n",
       "         0.11799286,  0.02630357],\n",
       "       [ 0.09343956,  0.02290077, -0.07832339, ..., -0.00363539,\n",
       "         0.06051032, -0.04366893]], dtype=float32)"
      ]
     },
     "execution_count": 10,
     "metadata": {},
     "output_type": "execute_result"
    }
   ],
   "source": [
    "faiss_title_embedding"
   ]
  },
  {
   "cell_type": "code",
   "execution_count": 11,
   "id": "8a02dc13",
   "metadata": {},
   "outputs": [],
   "source": [
    "import numpy as np\n",
    "import faiss\n",
    "## Save emdbedding vectors to FAISS index\n",
    "med_data_to_index = med_data.set_index([\"id\"], drop=False)\n",
    "id_index = np.array(med_data.id.values).flatten().astype(\"int\")\n",
    "\n",
    "content_encoded_normalized = faiss_title_embedding.copy()\n",
    "faiss.normalize_L2(content_encoded_normalized)\n",
    "## Build index\n",
    "index_content = faiss.IndexIDMap(faiss.IndexFlatIP(len(faiss_title_embedding[0])))\n",
    "index_content.add_with_ids(content_encoded_normalized, id_index)"
   ]
  },
  {
   "cell_type": "code",
   "execution_count": 12,
   "id": "45a21217",
   "metadata": {},
   "outputs": [],
   "source": [
    "def search_content(query, pdf_to_index, k=100):\n",
    "    query_vector = model.encode([query])\n",
    "    faiss.normalize_L2(query_vector)\n",
    "\n",
    "    # We set k to limit the number of vectors we want to return\n",
    "    top_k = index_content.search(query_vector, k)\n",
    "    ids = top_k[1][0].tolist()\n",
    "    similarities = top_k[0][0].tolist()\n",
    "    results = pdf_to_index.loc[ids]\n",
    "    results[\"similarities\"] = similarities\n",
    "    return results"
   ]
  },
  {
   "cell_type": "code",
   "execution_count": 13,
   "id": "dafd9278",
   "metadata": {},
   "outputs": [
    {
     "data": {
      "text/html": [
       "<div>\n",
       "<style scoped>\n",
       "    .dataframe tbody tr th:only-of-type {\n",
       "        vertical-align: middle;\n",
       "    }\n",
       "\n",
       "    .dataframe tbody tr th {\n",
       "        vertical-align: top;\n",
       "    }\n",
       "\n",
       "    .dataframe thead th {\n",
       "        text-align: right;\n",
       "    }\n",
       "</style>\n",
       "<table border=\"1\" class=\"dataframe\">\n",
       "  <thead>\n",
       "    <tr style=\"text-align: right;\">\n",
       "      <th></th>\n",
       "      <th>page_title</th>\n",
       "      <th>page_text</th>\n",
       "      <th>__index_level_0__</th>\n",
       "      <th>id</th>\n",
       "      <th>similarities</th>\n",
       "    </tr>\n",
       "  </thead>\n",
       "  <tbody>\n",
       "    <tr>\n",
       "      <th>997</th>\n",
       "      <td>Hypotension</td>\n",
       "      <td>Hypotension is low blood pressure. Blood press...</td>\n",
       "      <td>997</td>\n",
       "      <td>997</td>\n",
       "      <td>0.543309</td>\n",
       "    </tr>\n",
       "    <tr>\n",
       "      <th>730</th>\n",
       "      <td>Reflex bradycardia</td>\n",
       "      <td>Reflex bradycardia is a bradycardia (decrease ...</td>\n",
       "      <td>730</td>\n",
       "      <td>730</td>\n",
       "      <td>0.458467</td>\n",
       "    </tr>\n",
       "    <tr>\n",
       "      <th>682</th>\n",
       "      <td>Orthostatic hypotension</td>\n",
       "      <td>Orthostatic hypotension, also known as postura...</td>\n",
       "      <td>682</td>\n",
       "      <td>682</td>\n",
       "      <td>0.427391</td>\n",
       "    </tr>\n",
       "    <tr>\n",
       "      <th>749</th>\n",
       "      <td>Primary aldosteronism</td>\n",
       "      <td>Primary aldosteronism (PA), also known as prim...</td>\n",
       "      <td>749</td>\n",
       "      <td>749</td>\n",
       "      <td>0.426620</td>\n",
       "    </tr>\n",
       "    <tr>\n",
       "      <th>292</th>\n",
       "      <td>Pulmonary hypertension</td>\n",
       "      <td>Pulmonary hypertension (PH or PHTN) is a condi...</td>\n",
       "      <td>292</td>\n",
       "      <td>292</td>\n",
       "      <td>0.406415</td>\n",
       "    </tr>\n",
       "    <tr>\n",
       "      <th>...</th>\n",
       "      <td>...</td>\n",
       "      <td>...</td>\n",
       "      <td>...</td>\n",
       "      <td>...</td>\n",
       "      <td>...</td>\n",
       "    </tr>\n",
       "    <tr>\n",
       "      <th>30</th>\n",
       "      <td>Beta blocker</td>\n",
       "      <td>Beta blockers, also spelled β-blockers, are a ...</td>\n",
       "      <td>30</td>\n",
       "      <td>30</td>\n",
       "      <td>0.192487</td>\n",
       "    </tr>\n",
       "    <tr>\n",
       "      <th>227</th>\n",
       "      <td>Malignant hyperthermia</td>\n",
       "      <td>Malignant hyperthermia (MH) is a type of sever...</td>\n",
       "      <td>227</td>\n",
       "      <td>227</td>\n",
       "      <td>0.190498</td>\n",
       "    </tr>\n",
       "    <tr>\n",
       "      <th>475</th>\n",
       "      <td>Livedo reticularis</td>\n",
       "      <td>Livedo reticularis is a common skin finding co...</td>\n",
       "      <td>475</td>\n",
       "      <td>475</td>\n",
       "      <td>0.190146</td>\n",
       "    </tr>\n",
       "    <tr>\n",
       "      <th>487</th>\n",
       "      <td>Precordium</td>\n",
       "      <td>In anatomy, the precordium or praecordium is t...</td>\n",
       "      <td>487</td>\n",
       "      <td>487</td>\n",
       "      <td>0.189950</td>\n",
       "    </tr>\n",
       "    <tr>\n",
       "      <th>750</th>\n",
       "      <td>Gestational diabetes</td>\n",
       "      <td>Gestational diabetes is a condition in which a...</td>\n",
       "      <td>750</td>\n",
       "      <td>750</td>\n",
       "      <td>0.188941</td>\n",
       "    </tr>\n",
       "  </tbody>\n",
       "</table>\n",
       "<p>100 rows × 5 columns</p>\n",
       "</div>"
      ],
      "text/plain": [
       "                  page_title  \\\n",
       "997              Hypotension   \n",
       "730       Reflex bradycardia   \n",
       "682  Orthostatic hypotension   \n",
       "749    Primary aldosteronism   \n",
       "292   Pulmonary hypertension   \n",
       "..                       ...   \n",
       "30              Beta blocker   \n",
       "227   Malignant hyperthermia   \n",
       "475       Livedo reticularis   \n",
       "487               Precordium   \n",
       "750     Gestational diabetes   \n",
       "\n",
       "                                             page_text  __index_level_0__  \\\n",
       "997  Hypotension is low blood pressure. Blood press...                997   \n",
       "730  Reflex bradycardia is a bradycardia (decrease ...                730   \n",
       "682  Orthostatic hypotension, also known as postura...                682   \n",
       "749  Primary aldosteronism (PA), also known as prim...                749   \n",
       "292  Pulmonary hypertension (PH or PHTN) is a condi...                292   \n",
       "..                                                 ...                ...   \n",
       "30   Beta blockers, also spelled β-blockers, are a ...                 30   \n",
       "227  Malignant hyperthermia (MH) is a type of sever...                227   \n",
       "475  Livedo reticularis is a common skin finding co...                475   \n",
       "487  In anatomy, the precordium or praecordium is t...                487   \n",
       "750  Gestational diabetes is a condition in which a...                750   \n",
       "\n",
       "      id  similarities  \n",
       "997  997      0.543309  \n",
       "730  730      0.458467  \n",
       "682  682      0.427391  \n",
       "749  749      0.426620  \n",
       "292  292      0.406415  \n",
       "..   ...           ...  \n",
       "30    30      0.192487  \n",
       "227  227      0.190498  \n",
       "475  475      0.190146  \n",
       "487  487      0.189950  \n",
       "750  750      0.188941  \n",
       "\n",
       "[100 rows x 5 columns]"
      ]
     },
     "metadata": {},
     "output_type": "display_data"
    }
   ],
   "source": [
    "## Search keyword ('high blood pressure') related context.\n",
    "display(search_content(\"high blood pressure\", med_data))"
   ]
  },
  {
   "cell_type": "code",
   "execution_count": 14,
   "id": "62c283ad",
   "metadata": {},
   "outputs": [],
   "source": [
    "query_vector = model.encode([\"high blood pressure\"])\n",
    "# print(query_vector)\n",
    "faiss.normalize_L2(query_vector)"
   ]
  },
  {
   "cell_type": "code",
   "execution_count": 15,
   "id": "766a5d83",
   "metadata": {},
   "outputs": [
    {
     "name": "stdout",
     "output_type": "stream",
     "text": [
      "(array([[0.54330915, 0.45846665, 0.42739114, 0.4266203 , 0.40641522,\n",
      "        0.38544655, 0.3498581 , 0.34232524, 0.34155926, 0.32575178]],\n",
      "      dtype=float32), array([[997, 730, 682, 749, 292, 856, 665, 558, 506,  69]], dtype=int64))\n",
      "[997, 730, 682, 749, 292, 856, 665, 558, 506, 69]\n",
      "[0.5433091521263123, 0.45846664905548096, 0.4273911416530609, 0.4266203045845032, 0.4064152240753174, 0.38544654846191406, 0.3498581051826477, 0.34232524037361145, 0.3415592610836029, 0.32575178146362305]\n"
     ]
    }
   ],
   "source": [
    "top_k = index_content.search(query_vector, 10)\n",
    "print(top_k)\n",
    "ids = top_k[1][0].tolist()\n",
    "print(ids)\n",
    "similarities = top_k[0][0].tolist()\n",
    "print(similarities)"
   ]
  },
  {
   "cell_type": "code",
   "execution_count": 16,
   "id": "c9593642",
   "metadata": {},
   "outputs": [
    {
     "data": {
      "text/html": [
       "<div>\n",
       "<style scoped>\n",
       "    .dataframe tbody tr th:only-of-type {\n",
       "        vertical-align: middle;\n",
       "    }\n",
       "\n",
       "    .dataframe tbody tr th {\n",
       "        vertical-align: top;\n",
       "    }\n",
       "\n",
       "    .dataframe thead th {\n",
       "        text-align: right;\n",
       "    }\n",
       "</style>\n",
       "<table border=\"1\" class=\"dataframe\">\n",
       "  <thead>\n",
       "    <tr style=\"text-align: right;\">\n",
       "      <th></th>\n",
       "      <th>page_title</th>\n",
       "      <th>page_text</th>\n",
       "      <th>__index_level_0__</th>\n",
       "      <th>id</th>\n",
       "      <th>similarities</th>\n",
       "    </tr>\n",
       "    <tr>\n",
       "      <th>id</th>\n",
       "      <th></th>\n",
       "      <th></th>\n",
       "      <th></th>\n",
       "      <th></th>\n",
       "      <th></th>\n",
       "    </tr>\n",
       "  </thead>\n",
       "  <tbody>\n",
       "    <tr>\n",
       "      <th>997</th>\n",
       "      <td>Hypotension</td>\n",
       "      <td>Hypotension is low blood pressure. Blood press...</td>\n",
       "      <td>997</td>\n",
       "      <td>997</td>\n",
       "      <td>0.543309</td>\n",
       "    </tr>\n",
       "    <tr>\n",
       "      <th>730</th>\n",
       "      <td>Reflex bradycardia</td>\n",
       "      <td>Reflex bradycardia is a bradycardia (decrease ...</td>\n",
       "      <td>730</td>\n",
       "      <td>730</td>\n",
       "      <td>0.458467</td>\n",
       "    </tr>\n",
       "    <tr>\n",
       "      <th>682</th>\n",
       "      <td>Orthostatic hypotension</td>\n",
       "      <td>Orthostatic hypotension, also known as postura...</td>\n",
       "      <td>682</td>\n",
       "      <td>682</td>\n",
       "      <td>0.427391</td>\n",
       "    </tr>\n",
       "    <tr>\n",
       "      <th>749</th>\n",
       "      <td>Primary aldosteronism</td>\n",
       "      <td>Primary aldosteronism (PA), also known as prim...</td>\n",
       "      <td>749</td>\n",
       "      <td>749</td>\n",
       "      <td>0.426620</td>\n",
       "    </tr>\n",
       "    <tr>\n",
       "      <th>292</th>\n",
       "      <td>Pulmonary hypertension</td>\n",
       "      <td>Pulmonary hypertension (PH or PHTN) is a condi...</td>\n",
       "      <td>292</td>\n",
       "      <td>292</td>\n",
       "      <td>0.406415</td>\n",
       "    </tr>\n",
       "    <tr>\n",
       "      <th>856</th>\n",
       "      <td>Secondary hypertension</td>\n",
       "      <td>Secondary hypertension (or, less commonly, ine...</td>\n",
       "      <td>856</td>\n",
       "      <td>856</td>\n",
       "      <td>0.385447</td>\n",
       "    </tr>\n",
       "    <tr>\n",
       "      <th>665</th>\n",
       "      <td>Hyperproteinemia</td>\n",
       "      <td>Hyperproteinemia is the state of having overly...</td>\n",
       "      <td>665</td>\n",
       "      <td>665</td>\n",
       "      <td>0.349858</td>\n",
       "    </tr>\n",
       "    <tr>\n",
       "      <th>558</th>\n",
       "      <td>Pseudohyperaldosteronism</td>\n",
       "      <td>Pseudohyperaldosteronism (also pseudoaldostero...</td>\n",
       "      <td>558</td>\n",
       "      <td>558</td>\n",
       "      <td>0.342325</td>\n",
       "    </tr>\n",
       "    <tr>\n",
       "      <th>506</th>\n",
       "      <td>Tachycardia</td>\n",
       "      <td>Tachycardia, also called tachyarrhythmia, is a...</td>\n",
       "      <td>506</td>\n",
       "      <td>506</td>\n",
       "      <td>0.341559</td>\n",
       "    </tr>\n",
       "    <tr>\n",
       "      <th>69</th>\n",
       "      <td>Altitude sickness</td>\n",
       "      <td>Altitude sickness, the mildest form being acut...</td>\n",
       "      <td>69</td>\n",
       "      <td>69</td>\n",
       "      <td>0.325752</td>\n",
       "    </tr>\n",
       "  </tbody>\n",
       "</table>\n",
       "</div>"
      ],
      "text/plain": [
       "                   page_title  \\\n",
       "id                              \n",
       "997               Hypotension   \n",
       "730        Reflex bradycardia   \n",
       "682   Orthostatic hypotension   \n",
       "749     Primary aldosteronism   \n",
       "292    Pulmonary hypertension   \n",
       "856    Secondary hypertension   \n",
       "665          Hyperproteinemia   \n",
       "558  Pseudohyperaldosteronism   \n",
       "506               Tachycardia   \n",
       "69          Altitude sickness   \n",
       "\n",
       "                                             page_text  __index_level_0__  \\\n",
       "id                                                                          \n",
       "997  Hypotension is low blood pressure. Blood press...                997   \n",
       "730  Reflex bradycardia is a bradycardia (decrease ...                730   \n",
       "682  Orthostatic hypotension, also known as postura...                682   \n",
       "749  Primary aldosteronism (PA), also known as prim...                749   \n",
       "292  Pulmonary hypertension (PH or PHTN) is a condi...                292   \n",
       "856  Secondary hypertension (or, less commonly, ine...                856   \n",
       "665  Hyperproteinemia is the state of having overly...                665   \n",
       "558  Pseudohyperaldosteronism (also pseudoaldostero...                558   \n",
       "506  Tachycardia, also called tachyarrhythmia, is a...                506   \n",
       "69   Altitude sickness, the mildest form being acut...                 69   \n",
       "\n",
       "      id  similarities  \n",
       "id                      \n",
       "997  997      0.543309  \n",
       "730  730      0.458467  \n",
       "682  682      0.427391  \n",
       "749  749      0.426620  \n",
       "292  292      0.406415  \n",
       "856  856      0.385447  \n",
       "665  665      0.349858  \n",
       "558  558      0.342325  \n",
       "506  506      0.341559  \n",
       "69    69      0.325752  "
      ]
     },
     "metadata": {},
     "output_type": "display_data"
    }
   ],
   "source": [
    "results = med_data_to_index.loc[ids]\n",
    "results[\"similarities\"] = similarities\n",
    "display(results)"
   ]
  },
  {
   "cell_type": "markdown",
   "id": "8f81d73e",
   "metadata": {},
   "source": [
    "### 2. Vector Database: Chroma"
   ]
  },
  {
   "cell_type": "code",
   "execution_count": 59,
   "id": "030a8e40",
   "metadata": {},
   "outputs": [],
   "source": [
    "# !pip install chromadb openai \n",
    "# cache_dir=\"../datasets/\""
   ]
  },
  {
   "cell_type": "code",
   "execution_count": 60,
   "id": "f94b3513",
   "metadata": {},
   "outputs": [
    {
     "name": "stderr",
     "output_type": "stream",
     "text": [
      "Found cached dataset parquet (C:/Users/Sealion/Desktop/SOS_JOB/datasets/rungalileo___parquet/rungalileo--medical_transcription_4-cc509920750fa75b/0.0.0/14a00e99c0d15a23649d0db8944380ac81082d4b021f398733dd84f3a6c569a7)\n"
     ]
    },
    {
     "data": {
      "application/vnd.jupyter.widget-view+json": {
       "model_id": "be08aed4b9d642f6afc6d2e68fbb2f6b",
       "version_major": 2,
       "version_minor": 0
      },
      "text/plain": [
       "  0%|          | 0/2 [00:00<?, ?it/s]"
      ]
     },
     "metadata": {},
     "output_type": "display_data"
    },
    {
     "data": {
      "text/plain": [
       "DatasetDict({\n",
       "    train: Dataset({\n",
       "        features: ['id', 'text', 'label'],\n",
       "        num_rows: 4499\n",
       "    })\n",
       "    test: Dataset({\n",
       "        features: ['id', 'text', 'label'],\n",
       "        num_rows: 500\n",
       "    })\n",
       "})"
      ]
     },
     "execution_count": 60,
     "metadata": {},
     "output_type": "execute_result"
    }
   ],
   "source": [
    "med_dataset = load_dataset(\"rungalileo/medical_transcription_4\", cache_dir=\"../datasets/\")  \n",
    "med_dataset  "
   ]
  },
  {
   "cell_type": "code",
   "execution_count": 61,
   "id": "a9b46c1c",
   "metadata": {},
   "outputs": [
    {
     "data": {
      "text/html": [
       "<div>\n",
       "<style scoped>\n",
       "    .dataframe tbody tr th:only-of-type {\n",
       "        vertical-align: middle;\n",
       "    }\n",
       "\n",
       "    .dataframe tbody tr th {\n",
       "        vertical-align: top;\n",
       "    }\n",
       "\n",
       "    .dataframe thead th {\n",
       "        text-align: right;\n",
       "    }\n",
       "</style>\n",
       "<table border=\"1\" class=\"dataframe\">\n",
       "  <thead>\n",
       "    <tr style=\"text-align: right;\">\n",
       "      <th></th>\n",
       "      <th>id</th>\n",
       "      <th>text</th>\n",
       "      <th>label</th>\n",
       "    </tr>\n",
       "  </thead>\n",
       "  <tbody>\n",
       "    <tr>\n",
       "      <th>0</th>\n",
       "      <td>0</td>\n",
       "      <td>2-D STUDY,1. Mild aortic stenosis, widely calc...</td>\n",
       "      <td>0</td>\n",
       "    </tr>\n",
       "    <tr>\n",
       "      <th>1</th>\n",
       "      <td>1</td>\n",
       "      <td>PREOPERATIVE DIAGNOSES: , Dysphagia and esopha...</td>\n",
       "      <td>3</td>\n",
       "    </tr>\n",
       "    <tr>\n",
       "      <th>2</th>\n",
       "      <td>2</td>\n",
       "      <td>CHIEF COMPLAINT:,  The patient comes for three...</td>\n",
       "      <td>0</td>\n",
       "    </tr>\n",
       "    <tr>\n",
       "      <th>3</th>\n",
       "      <td>3</td>\n",
       "      <td>PROCEDURE: , Bilateral L5, S1, S2, and S3 radi...</td>\n",
       "      <td>3</td>\n",
       "    </tr>\n",
       "    <tr>\n",
       "      <th>4</th>\n",
       "      <td>4</td>\n",
       "      <td>DISCHARGE DIAGNOSES:,1. Chronic obstructive pu...</td>\n",
       "      <td>0</td>\n",
       "    </tr>\n",
       "  </tbody>\n",
       "</table>\n",
       "</div>"
      ],
      "text/plain": [
       "   id                                               text  label\n",
       "0   0  2-D STUDY,1. Mild aortic stenosis, widely calc...      0\n",
       "1   1  PREOPERATIVE DIAGNOSES: , Dysphagia and esopha...      3\n",
       "2   2  CHIEF COMPLAINT:,  The patient comes for three...      0\n",
       "3   3  PROCEDURE: , Bilateral L5, S1, S2, and S3 radi...      3\n",
       "4   4  DISCHARGE DIAGNOSES:,1. Chronic obstructive pu...      0"
      ]
     },
     "execution_count": 61,
     "metadata": {},
     "output_type": "execute_result"
    }
   ],
   "source": [
    "med_sample = pd.DataFrame.from_dict(med_dataset['train'])\n",
    "med_sample.head(5)"
   ]
  },
  {
   "cell_type": "code",
   "execution_count": 62,
   "id": "1c95ce82",
   "metadata": {},
   "outputs": [
    {
     "data": {
      "text/html": [
       "<div>\n",
       "<style scoped>\n",
       "    .dataframe tbody tr th:only-of-type {\n",
       "        vertical-align: middle;\n",
       "    }\n",
       "\n",
       "    .dataframe tbody tr th {\n",
       "        vertical-align: top;\n",
       "    }\n",
       "\n",
       "    .dataframe thead th {\n",
       "        text-align: right;\n",
       "    }\n",
       "</style>\n",
       "<table border=\"1\" class=\"dataframe\">\n",
       "  <thead>\n",
       "    <tr style=\"text-align: right;\">\n",
       "      <th></th>\n",
       "      <th>id</th>\n",
       "      <th>document</th>\n",
       "      <th>class</th>\n",
       "    </tr>\n",
       "  </thead>\n",
       "  <tbody>\n",
       "    <tr>\n",
       "      <th>0</th>\n",
       "      <td>0</td>\n",
       "      <td>2-D STUDY,1. Mild aortic stenosis, widely calc...</td>\n",
       "      <td>Medical Records</td>\n",
       "    </tr>\n",
       "    <tr>\n",
       "      <th>1</th>\n",
       "      <td>1</td>\n",
       "      <td>PREOPERATIVE DIAGNOSES: , Dysphagia and esopha...</td>\n",
       "      <td>Surgery</td>\n",
       "    </tr>\n",
       "    <tr>\n",
       "      <th>2</th>\n",
       "      <td>2</td>\n",
       "      <td>CHIEF COMPLAINT:,  The patient comes for three...</td>\n",
       "      <td>Medical Records</td>\n",
       "    </tr>\n",
       "    <tr>\n",
       "      <th>3</th>\n",
       "      <td>3</td>\n",
       "      <td>PROCEDURE: , Bilateral L5, S1, S2, and S3 radi...</td>\n",
       "      <td>Surgery</td>\n",
       "    </tr>\n",
       "    <tr>\n",
       "      <th>4</th>\n",
       "      <td>4</td>\n",
       "      <td>DISCHARGE DIAGNOSES:,1. Chronic obstructive pu...</td>\n",
       "      <td>Medical Records</td>\n",
       "    </tr>\n",
       "    <tr>\n",
       "      <th>...</th>\n",
       "      <td>...</td>\n",
       "      <td>...</td>\n",
       "      <td>...</td>\n",
       "    </tr>\n",
       "    <tr>\n",
       "      <th>4494</th>\n",
       "      <td>4494</td>\n",
       "      <td>CHIEF COMPLAINT:, Headaches.,HEADACHE HISTORY:...</td>\n",
       "      <td>Medical Records</td>\n",
       "    </tr>\n",
       "    <tr>\n",
       "      <th>4495</th>\n",
       "      <td>4495</td>\n",
       "      <td>DATE OF INJURY : October 4, 2000,DATE OF EXAMI...</td>\n",
       "      <td>Medical Records</td>\n",
       "    </tr>\n",
       "    <tr>\n",
       "      <th>4496</th>\n",
       "      <td>4496</td>\n",
       "      <td>PREOPERATIVE DIAGNOSES:,1.  Lumbar osteomyelit...</td>\n",
       "      <td>Other</td>\n",
       "    </tr>\n",
       "    <tr>\n",
       "      <th>4497</th>\n",
       "      <td>4497</td>\n",
       "      <td>PREOPERATIVE DIAGNOSIS:,  Prostate cancer.,POS...</td>\n",
       "      <td>Surgery</td>\n",
       "    </tr>\n",
       "    <tr>\n",
       "      <th>4498</th>\n",
       "      <td>4498</td>\n",
       "      <td>IDENTIFYING DATA:  ,Mr. T is a 45-year-old whi...</td>\n",
       "      <td>Medical Records</td>\n",
       "    </tr>\n",
       "  </tbody>\n",
       "</table>\n",
       "<p>4499 rows × 3 columns</p>\n",
       "</div>"
      ],
      "text/plain": [
       "        id                                           document            class\n",
       "0        0  2-D STUDY,1. Mild aortic stenosis, widely calc...  Medical Records\n",
       "1        1  PREOPERATIVE DIAGNOSES: , Dysphagia and esopha...          Surgery\n",
       "2        2  CHIEF COMPLAINT:,  The patient comes for three...  Medical Records\n",
       "3        3  PROCEDURE: , Bilateral L5, S1, S2, and S3 radi...          Surgery\n",
       "4        4  DISCHARGE DIAGNOSES:,1. Chronic obstructive pu...  Medical Records\n",
       "...    ...                                                ...              ...\n",
       "4494  4494  CHIEF COMPLAINT:, Headaches.,HEADACHE HISTORY:...  Medical Records\n",
       "4495  4495  DATE OF INJURY : October 4, 2000,DATE OF EXAMI...  Medical Records\n",
       "4496  4496  PREOPERATIVE DIAGNOSES:,1.  Lumbar osteomyelit...            Other\n",
       "4497  4497  PREOPERATIVE DIAGNOSIS:,  Prostate cancer.,POS...          Surgery\n",
       "4498  4498  IDENTIFYING DATA:  ,Mr. T is a 45-year-old whi...  Medical Records\n",
       "\n",
       "[4499 rows x 3 columns]"
      ]
     },
     "execution_count": 62,
     "metadata": {},
     "output_type": "execute_result"
    }
   ],
   "source": [
    "class_dict = {0: \"Medical Records\", 1:\"Other\", 2:\"Internal Medicine\", 3: \"Surgery\"}\n",
    "med_sample['class'] = med_sample['label'].map(class_dict)\n",
    "med_sample = med_sample[['id', 'text', 'class']]\n",
    "med_sample.columns = ['id', 'document', 'class']\n",
    "med_sample"
   ]
  },
  {
   "cell_type": "code",
   "execution_count": 63,
   "id": "8950f380",
   "metadata": {},
   "outputs": [
    {
     "data": {
      "text/plain": [
       "Surgery              1442\n",
       "Medical Records      1126\n",
       "Internal Medicine    1040\n",
       "Other                 891\n",
       "Name: class, dtype: int64"
      ]
     },
     "execution_count": 63,
     "metadata": {},
     "output_type": "execute_result"
    }
   ],
   "source": [
    "med_sample['class'].value_counts()"
   ]
  },
  {
   "cell_type": "code",
   "execution_count": 64,
   "id": "b8195ca0",
   "metadata": {},
   "outputs": [],
   "source": [
    "import chromadb\n",
    "from chromadb.config import Settings\n",
    "chroma_client = chromadb.Client(Settings(persist_directory=\"../datasets/\"))"
   ]
  },
  {
   "cell_type": "code",
   "execution_count": 65,
   "id": "eb931279",
   "metadata": {
    "scrolled": true
   },
   "outputs": [
    {
     "name": "stdout",
     "output_type": "stream",
     "text": [
      "Creating collection: 'blood'\n"
     ]
    }
   ],
   "source": [
    "collection_name = \"blood\"\n",
    "# If you have created the collection before, you need delete the collection first\n",
    "if len(chroma_client.list_collections()) > 0 and collection_name in [\n",
    "    chroma_client.list_collections()[0].name\n",
    "]:\n",
    "    chroma_client.delete_collection(name=collection_name)\n",
    "else:\n",
    "    print(f\"Creating collection: '{collection_name}'\")\n",
    "    collection = chroma_client.create_collection(name=collection_name)"
   ]
  },
  {
   "cell_type": "code",
   "execution_count": 66,
   "id": "b0c3c7be",
   "metadata": {},
   "outputs": [],
   "source": [
    "collection.add(\n",
    "    documents=med_sample[\"document\"][:100].tolist(),\n",
    "    metadatas=[{\"topic\": topic} for topic in med_sample[\"class\"][:100].tolist()],\n",
    "    ids=[f\"id{x}\" for x in range(100)],\n",
    ")"
   ]
  },
  {
   "cell_type": "code",
   "execution_count": 67,
   "id": "f9ee4812",
   "metadata": {},
   "outputs": [
    {
     "name": "stdout",
     "output_type": "stream",
     "text": [
      "{\n",
      "    \"ids\": [\n",
      "        [\n",
      "            \"id63\",\n",
      "            \"id73\",\n",
      "            \"id23\",\n",
      "            \"id19\",\n",
      "            \"id70\",\n",
      "            \"id57\",\n",
      "            \"id26\",\n",
      "            \"id0\",\n",
      "            \"id11\",\n",
      "            \"id59\"\n",
      "        ]\n",
      "    ],\n",
      "    \"distances\": [\n",
      "        [\n",
      "            1.4575092792510986,\n",
      "            1.4775474071502686,\n",
      "            1.5190160274505615,\n",
      "            1.5684528350830078,\n",
      "            1.5876195430755615,\n",
      "            1.5903375148773193,\n",
      "            1.631920576095581,\n",
      "            1.670737862586975,\n",
      "            1.6719961166381836,\n",
      "            1.6817744970321655\n",
      "        ]\n",
      "    ],\n",
      "    \"metadatas\": [\n",
      "        [\n",
      "            {\n",
      "                \"topic\": \"Medical Records\"\n",
      "            },\n",
      "            {\n",
      "                \"topic\": \"Medical Records\"\n",
      "            },\n",
      "            {\n",
      "                \"topic\": \"Internal Medicine\"\n",
      "            },\n",
      "            {\n",
      "                \"topic\": \"Internal Medicine\"\n",
      "            },\n",
      "            {\n",
      "                \"topic\": \"Internal Medicine\"\n",
      "            },\n",
      "            {\n",
      "                \"topic\": \"Medical Records\"\n",
      "            },\n",
      "            {\n",
      "                \"topic\": \"Internal Medicine\"\n",
      "            },\n",
      "            {\n",
      "                \"topic\": \"Medical Records\"\n",
      "            },\n",
      "            {\n",
      "                \"topic\": \"Medical Records\"\n",
      "            },\n",
      "            {\n",
      "                \"topic\": \"Internal Medicine\"\n",
      "            }\n",
      "        ]\n",
      "    ],\n",
      "    \"embeddings\": null,\n",
      "    \"documents\": [\n",
      "        [\n",
      "            \"CHIEF COMPLAINT:,  Cut on foot.,HISTORY OF PRESENT ILLNESS:,  This is a 32-year-old male who had a piece of glass fall on to his right foot today.  The patient was concerned because of the amount of bleeding that occurred with it.  The bleeding has been stopped and the patient does not have any pain.  The patient has normal use of his foot, there is no numbness or weakness, the patient is able to ambulate well without any discomfort.  The patient denies any injuries to any other portion of his body.  He has not had any recent illness.  The patient has no other problems or complaints.,PAST MEDICAL HISTORY:,  Asthma.,CURRENT MEDICATION: , Albuterol.,ALLERGIES:,  NO KNOWN DRUG ALLERGIES.,SOCIAL HISTORY: , The patient is a smoker.,PHYSICAL EXAMINATION:,  VITAL SIGNS:  Temperature 98.8 oral, blood pressure 132/86, pulse is 76, and respirations 16.  Oxygen saturation is 100% on room air and interpreted as normal.  CONSTITUTIONAL:  The patient is well-nourished, well-developed, the patient appears to be healthy.  The patient is calm and comfortable in no acute distress and looks well.  The patient is pleasant and cooperative.  HEENT:  Head is atraumatic, normocephalic, and nontender.  Eyes are normal with clear conjunctiva and cornea bilaterally.  NECK:  Supple with full range of motion.  CARDIOVASCULAR:  Peripheral pulse is +2 to the right foot.  Capillary refills less than two seconds to all the digits of the right foot.  RESPIRATIONS:  No shortness of breath.  MUSCULOSKELETAL:  The patient has a 4-mm partial thickness laceration to the top of the right foot and about the area of the mid foot.  There is no palpable foreign body, no foreign body is visualized.  There is no active bleeding, there is no exposed deeper tissues and certainly no exposed tendons, bone, muscle, nerves, or vessels.  It appears that the laceration may have nicked a small varicose vein, which would have accounted for the heavier than usual bleeding that currently occurred at home.  The patient does not have any tenderness to the foot.  The patient has full range of motion to all the joints, all the toes, as well as the ankles.  The patient ambulates well without any difficulty or discomfort.  There are no other injuries noted to the rest of the body.  SKIN:  The 4-mm partial thickness laceration to the right foot as previously described.  No other injuries are noted.  NEUROLOGIC:  Motor is 5/5 to all the muscle groups of the right lower extremity.  Sensory is intact to light touch to all the dermatomes of the right foot.  The patient has normal speech and normal ambulation.  PSYCHIATRIC:  The patient is alert and oriented x4.  Normal mood and affect.  HEMATOLOGIC/LYMPHATIC:  No active bleeding is occurring at this time.  No evidence of bruising is noted to the body.,EMERGENCY DEPARTMENT COURSE:,  The patient had antibiotic ointment and a bandage applied to his foot.,DIAGNOSES:,1.  A 4-MM LACERATION TO THE RIGHT FOOT.,2.  ACUTE RIGHT FOOT PAIN, NOW RESOLVED.,CONDITION UPON DISPOSITION: , Stable.,DISPOSITION:,  To home.  The patient was given discharge instructions on wound care and asked to return to emergency room should he have any evidence or signs and symptoms of infection.  The patient was precautioned that there may still be a small piece of glass retained in the foot and that there is a possibility of infection or that the piece of glass may be extruded later on.emergency room reports, foot pain, cut on foot, piece of glass, foreign body, active bleeding, foot, injuries, atraumatic, laceration, bleeding, body, \",\n",
      "            \"REASON FOR CONSULTATION: , Atrial fibrillation management.,HISTORY OF PRESENT ILLNESS: ,The patient is a very pleasant 62-year-old African American female with a history of hypertension, hypercholesterolemia, and CVA, referred by Dr. X for evaluation and management of atrial fibrillation.  The patient states that on Monday during routine Holt exam, it was detected by Dr. X that her heart was irregular on exam.  EKG obtained after that revealed atrial fibrillation, and subsequently the patient was started on Coumadin as well as having Toprol and referred for evaluation.  The patient states that for the last 3 years, she has had episodes of her heart racing.  It may last for minutes up to most 1 hour, and it will occasionally be related to eating a heavy meal or her caffeine or chocolate intake.  Denies dyspnea, diaphoresis, presyncope or syncope with the events, and she has had no episodes of chest pain.  They subsequently resolve on their own and do not limit her in anyway.  However, she states that for the last several years may be up to 7 years that she can recollect that she has been fatigued, and over the past couple of years, her symptoms have become more severe.  She said she can walk no more than 25 feet without becoming tired.  She states that she has to rest then her symptoms will go away, but she has been limited from that standpoint.  Denies peripheral edema, PND, orthopnea, abdominal pain, swelling, recent fever or chills.  She actually today has no complaints, and states that she has been compliant with her medications and has started taking her Coumadin as directed.,PAST MEDICAL HISTORY:,1.  Hypertension.,2.  Myocardial infarction in 2003.,3.  Left heart catheterization at University Hospital.,4.  Hypercholesterolemia.,5.  Arthritis.,6.  CVA in 2002 and in 2003 with right eye blindness.,PAST SURGICAL HISTORY:,1.  Left total knee replacement in 2002.,2.  Left lower quadrant abscess drainage in 12/07,FAMILY MEDICAL HISTORY: , Significant for lung and brain cancer.  There is no history that she is aware of cardiovascular disease in her family nor has any family member had sudden cardiac death.,SOCIAL HISTORY: , She is retired as a cook in a school cafeteria, where she worked for 34 years.  She retired 7 years ago because of low back pain.  She used to smoke 2-1/2 packs per day for 32 years, but quit in 1995.  Denies alcohol, and denies IV or illicit drug use.,ALLERGIES: , No known drug allergies.,MEDICATIONS:,1.  Coumadin 5 mg a day.,2.  Toprol-XL 50 mg a day.,3.  Aspirin 81 mg a day.,4.  Hydrochlorothiazide 25 mg a day.,5.  Plendil 10 mg daily.,6.  Lipitor 40 mg daily.,REVIEW OF SYSTEMS:  ,As above stating that following her stroke, she has right eye blindness, but she does have some minimal vision in her periphery.,PHYSICAL EXAMINATION:,VITAL SIGNS:  Blood pressure 138/66, pulse 96, and weight 229 pounds or 104 kg.  GENERAL:  A well-developed, well-nourished, middle-aged African American female in no acute distress.  NECK:  Supple.  No JVD.  No carotid bruits.  CARDIOVASCULAR:  Irregularly irregular rate and rhythm.  Normal S1 and S2.  No murmurs, gallops or rubs.  LUNGS:  Clear to auscultation bilaterally.  ABDOMEN:  Bowel sounds positive, soft, nontender, and nondistended.  No masses.  EXTREMITIES:  No clubbing, cyanosis or edema.  Pulses 2+ bilaterally.,LABORATORY DATA: , EKG today revealed atrial fibrillation with nonspecific lateral T-wave abnormalities and a rate of 94.,IMPRESSION:  ,The patient is a very pleasant 62-year-old African American female with atrial fibrillation of unknown duration with symptoms of paroxysmal episodes of palpitations, doing well today.,RECOMMENDATIONS:,1.  Her rate is suboptimally controlled, we will increase her Toprol-XL to 75 mg per day.,2.  We will obtain a transthoracic echocardiogram to evaluate her LV function as well as her valvular function.,3.  We will check a thyroid function panel.,4.  We will continue Coumadin as directed and to follow up with Dr. X for INR management.,5.  Given the patient's history of a stroke in her age and recurrent atrial fibrillation, the patient should be continued on Coumadin indefinitely.,6.  Depending upon the results of her transthoracic echocardiogram, the patient may benefit from repeat heart catheterization.  We will await results of transthoracic echocardiogram.,7.  We will arrange for the patient to wear a Holter monitor to monitor the rate controlled on a 24-hour period.  She will then return to the electrophysiology clinic in 1 month for followup visit with Dr. Y.,The patient was seen, discussed, and examined with Dr. Y in electrophysiology.nan\",\n",
      "            \"REASON FOR FOLLOWUP:,  Care conference with family at the bedside and decision to change posture of care from aggressive full code status to terminal wean with comfort care measures in a patient with code last night with CPR and advanced cardiac life support.,HISTORY OF PRESENT ILLNESS: , This is a 65-year-old patient originally admitted by me several weeks ago with profound hyponatremia and mental status changes.  Her history is also significant for likely recurrent aspiration pneumonia and intubation earlier on this admission as well.  Previously while treating this patient I had met with the family and discussed how aggressive the patient would wish her level of care to be given that there was evidence of possible ovarian malignancy with elevated CA-125 and a complex mass located in the ovary.  As the patient was showing signs of improvement with some speech and ability to follow commands, decision was made to continue to pursue an aggressive level of care, treat her dysphagia, hypertension, debilitation and this was being done.  However, last night the patient had apparently catastrophic event around 2:40 in the morning.  Rapid response was called and the patient was intubated, started on pressure support, and given CPR.  This morning I was called to the bedside by nursing stating the family had wished at this point not to continue this aggressive level of care.  The patient was seen and examined, she was intubated and sedated.  Limbs were cool.  Cardiovascular exam revealed tachycardia.  Lungs had coarse breath sounds.  Abdomen was soft.  Extremities were cool to the touch.  Pupils were 6 to 2 mm, doll's eyes were not intact.  They were not responsive to light.  Based on discussion with all family members involved including both sons, daughter and daughter-in-law, a decision was made to proceed with terminal wean and comfort care measures.  All pressure support was discontinued.  The patient was started on intravenous morphine and respiratory was requested to remove the ET tube.  Monitors were turned off and the patient was made as comfortable as possible.  Family is at the bedside at this time.  The patient appears comfortable and the family is in agreement that this would be her wishes per my understanding of the family and the patient dynamics over the past month, this is a very reasonable and appropriate approach given the patient's failure to turn around after over a month of aggressive treatment with likely terminal illness from ovarian cancer and associated comorbidities.,Total time spent at the bedside today in critical care services, medical decision making and explaining options to the family and proceeding with terminal weaning was excess of 37 minutes.general medicine, full code status, terminal wean, comfort care, cpr, advanced cardiac life support, care conference, family, bedsideNOTE,: Thesetranscribed medical transcription sample reports and examples are provided by various users andare for reference purpose only. MTHelpLine does not certify accuracy and quality of sample reports.These transcribed medical transcription sample reports may include some uncommon or unusual formats;this would be due to the preference of the dictating physician. All names and dates have beenchanged (or removed) to keep confidentiality. Any resemblance of any type of name or date orplace or anything else to real world is purely incidental.\",\n",
      "            \"HISTORY AND CLINICAL DATA:  ,The patient is an 88-year-old gentleman followed by Dr. X, his primary care physician, Dr. Y for the indication of CLL and Dr. Z for his cardiovascular issues.  He presents to the Care Center earlier today with approximately a one-week history of increased progressive shortness of breath, orthopnea over the course of the past few nights, mild increase in peripheral edema, and active wheezing with dyspnea presenting this morning.,He reports no clear-cut chest discomfort or difficulty with angina.  He has had no dizziness, lightheadedness, no near or true syncope, nothing supportive of CVA, TIA, nor peripheral vascular claudication.,REVIEW OF SYSTEMS:,  General review of system is significant for difficulty with intermittent constipation, which has been problematic recently.  He reports no fever, shaking chills, nothing supportive of GI or GU blood loss, no productive or nonproductive cough.,PAST MEDICAL HISTORY:,  Remarkable for hypertension, diabetes, prostate cancer, status post radium seed implant, COPD, single vessel coronary disease, esophageal reflux, CLL, osteopenia, significant hearing loss, anxiety, and degenerative joint disease.,SOCIAL HISTORY: , Remarkable for being married, retired, quit smoking in 1997, rare use of alcohol, lives locally with his wife.,MEDICATIONS AT HOME:,  Include, Lortab 7.5 mg up to three times daily for chronic arthritic discomfort, Miacalcin nasal spray once daily, omeprazole 20 mg daily, Diovan 320 mg daily, Combivent two puffs t.i.d., folate, one adult aspirin daily, glyburide 5 mg daily, atenolol 50 mg daily, furosemide 40 mg daily, amlodipine 5 mg daily, hydralazine 50 mg p.o. t.i.d., in addition to Tekturna 150 mg daily, Zoloft 25 mg daily.,ALLERGIES:  ,He has known history of allergy to clonidine, Medifast does fatigue.,DIAGNOSTIC AND LABORATORY DATA: , Chest x-ray upon presentation to the Ellis Emergency Room this evening demonstrate significant congestive heart failure with moderate-sized bilateral pleural effusions.,A 12-lead EKG, sinus rhythm at a rate of 68 per minute, right bundle-branch block type IVCV with moderate nonspecific ST changes.  Low voltage in the limb leads.,WBC 29,000, hemoglobin 10.9, hematocrit 31, platelets 187,000.  Low serum sodium at 132, potassium 4, BUN 28, creatinine 1.2, random glucose 179.  Low total protein 5.7.  Magnesium level 2.3, troponin 0.404 with the B-natriuretic peptide of 8200.,PHYSICAL EXAMINATION:  ,He is an elderly gentleman, who appears to be in no acute distress, lying comfortably flat at 30 degrees, measured pressure of 150/80 with a pulse of 68 and regular.  JVD difficult to assess.  Normal carotids with obvious bruits.  Conjunctivae pink.  Oropharynx clear.  Mild kyphosis.  Diffusely depressed breath sounds halfway up both posterior lung fields.  No active wheezing.  Cardiac Exam:  Regular, soft, 1-2/6 early systolic ejection murmur best heard at the base.  Abdomen:  Soft, nontender, protuberant, benign.  Extremities:  2+ bilateral pitting edema to the level of the knees.  Neuro Exam:  Appears alert, oriented x3.  Appropriate manner and affect, exceedingly hard of hearing.,OVERALL IMPRESSION:,  An 88-year-old white male with the following major medical issues:,1.  Presentation consists with subclinical congestive heart failure possibly systolic, no recent echocardiogram available for review.,2.  Hypertension with suboptimal controlled currently.,3.  Diabetes.,4.  Prostate CA, status post radium seed implant.,5.  COPD, on metered-dose inhaler.,6.  CLL followed by Dr. Y.,7.  Single-vessel coronary disease, no recent anginal quality chest pain, no changes in ECG suggestive of acute ischemia; however, initial troponin 0.4 - to be followed with serial enzyme determinations and telemetry.,8.  Hearing loss, anxiety.,9.  Significant degenerative joint disease.,PLAN:,1.  Admit to A4 with telemetry, congestive heart failure pathway, intravenous diuretic therapy.,2.  Strict I&O, Foley catheter has already been placed.,3.  Daily BMP.,4.  Two-dimensional echocardiogram to assess left ventricular systolic function.  Serum iron determination to exclude the possibility of a subclinical ischemic cardiac event.  Further recommendations will be forthcoming pending his clinical course and hospital.nan\",\n",
      "            \"PROCEDURES PERFORMED:,1.  DDDR permanent pacemaker.,2.  Insertion of a steroid-eluting screw in right atrial lead.,3.  Insertion of a steroid-eluting screw in right ventricular apical lead.,4.  Pulse generator insertion, model Sigma.,SITE: , Left subclavian vein access.,INDICATION: , The patient is a 73-year-old African-American female with symptomatic bradycardia and chronotropic incompetence with recurrent heart failure and symptoms of hypoperfusion, and for a Class 2a indication for a permanent pacemaker was ascertained.,COMPLICATIONS:,  None.,ESTIMATED BLOOD LOSS: , Minimal.,Risks, benefits, and alternatives of the procedure were all explained in detail to the patient and the patient's family at length.  They all consented for the procedure, and the consent was signed and placed on the chart.,PROCEDURE: , The patient was taken to cardiac cath lab where she was monitored throughout all procedure.  The area of the left pectoral deltoid and subclavian area was sterilely prepped and draped in the usual manner.  We also scrubbed for approximately eight minutes.  Using lidocaine with epinephrine, the area of the left pectoral deltoid region and subclavian area was then fully anesthetized.  Using an #18 gauge Cook needle, the left subclavian vein was cannulated at two separate sites without difficulty, where two separate guidewires were inserted into the left subclavian vein.  The Cook needles were removed.  Then the guidewires were secured in place with hemostat.  Using a #10 and #15 scalpel blade, a 5 cm horizontal incision was made in the left pectodeltoid groove, where the skin was dissected and blunted on to the pectoralis major muscle.  The skin was then undermined making a pocket for the generator.  The guidewires were then tunneled through the performed pocket.  Subsequently, the atrial and ventricular leads were inserted through each one of the Cordis separately and respectively.  Initially, the ventricular lead was inserted, where a Cordis sheath was placed and the guidewire was removed.  After the thresholds and appropriate position was obtained for the ventricular lead, the Cordis sheath was then inserted for the atrial lead.  After the atrial lead was inserted and appropriately placed and thresholds were obtained, the Cordis was removed and then both leads were sutured in place with pectoralis major muscle with #1-0 silk suture.  The leads were then connected to a pulse generator.  The pocket was then irrigated and cleansed, where then the leads and the generators were inserted into that pocket.  The subcutaneous tissue was then closed with gut sutures and the skin was then closed with #4-0 polychrome sutures using a subcuticular uninterrupted technique.  The area was then cleansed and dry.  Steri-Strips and pressure dressing were applied.  The patient tolerated the procedure well.  There were no complications.,Information on the pacemaker:,The implanted device are as follows:,PULSE GENERATOR,Model Name:  Sigma.,Model #:  SDR203.,Serial #:  123456.,ATRIAL LEAD,Model #:  4568-45 cm.,Serial #:  123456.,RIGHT VENTRICULAR APICAL STEROID-eluting SCREW IN LEAD:,Model #:  4068-52 cm.,Serial #:  123456.,STIMULATION THRESHOLDS ARE AS FOLLOWS:,The right atrial chamber polarity is bipolar, pulse width is 0.50 milliseconds, 1.5 volts of voltage, 3.7 milliamps of current, 557 ohms of impedance, and P-wave sensing of 3.3 millivolts.,The right ventricular polarity is bipolar, pulse width is 0.50 milliseconds, 0.7 volts of voltage, 1.4 milliamps of current, impedance of 700 ohms, and R-wave sensing of 14 millivolts.,The brady parameter settings were set as follows:,The atrial and ventricular appendages were set at 3.5 volts with 0.4 milliseconds of pulse width, atrial sensitivity of 0.5 with 180 milliseconds of blanking.  Ventricular sensitivity was set at 2.8 with 28 milliseconds of blanking.  The pacing mode was DDDR, mode switch was on lower rate of 70 and upper rate of 130.,The patient tolerated the procedure well.  There were no complications.  The patient went to Recovery in satisfactory condition.  Family was updated.  Orders are all in the chart.  Please see orders.,Again, thank you for allowing to participate in this care.nan\",\n",
      "            \"REASON FOR CONSULTATION: , New murmur with bacteremia.,HISTORY OF PRESENT ILLNESS:,  The patient is an 84-year-old female admitted with jaundice and a pancreatic mass who was noted to have a new murmur, bacteremia, and fever.  The patient states that apart from the fever, she was having no other symptoms and denies any previous cardiac history.  She denies any orthopnea or paroxysmal nocturnal dyspnea.  Denies any edema, chest pain, palpitations, or syncope.  She has had TIAs in the past, but none recently.,PAST MEDICAL HISTORY:,  Significant for diabetes, hypertension, and TIA.,MEDICATIONS: , Include:,1.  Acidophilus supplement.,2.  Cholestyramine.,3.  Creon 20 three times daily.,4.  Diovan 160 mg twice daily.,6.  Lantus 10 daily.,7.  Norvasc 5 mg daily.,8.  NovoLog 70/30, 10 units at 12 noon daily.,9.  Pamelor 15 mL every evening.,10.  Vitamin D3 one tablet weekly.,ALLERGIES: , THE PATIENT IS ALLERGIC TO CODEINE, COREG, AND VANCOMYCIN.,FAMILY HISTORY:  ,The patient's daughter apparently has history of a murmur, but no diagnosis of congenital heart disease.  The patient's father died in his 80s of CHF.,SOCIAL HISTORY: , The patient denies ever having smoked, denies any significant alcohol use, and lives with her daughter in Pasadena.,REVIEW OF SYSTEMS: , The patient has had fever and chills.  She has also had some jaundice.  Denies any nausea or vomiting.  Denies any chest pain or abdominal pain.  Denies orthopnea, paroxysmal nocturnal dyspnea or edema.  She has had TIAs in the past, but denies any recent neurological symptoms such as motor weakness or focal sensory deficits.  Denies melena or hematochezia.  All other systems were reviewed and were found to be negative.,PHYSICAL EXAMINATION,GENERAL:  An elderly Caucasian female, awake and alert, and in no distress.,VITAL SIGNS:  Temperature is 98.8, heart rate 96, sinus, blood pressure 138/55, respiratory rate 20, and oxygen saturation 92%.,HEAD AND NECK:  Her head is atraumatic.  She is normocephalic.  Her neck is supple.  There is no JVD.  No palpable adenopathy or thyromegaly.  There is some icterus of the sclerae bilaterally.  Oral mucosa is moist.,CHEST:  Symmetrical expansion with normal percussion note.  There are no inspiratory crackles or expiratory wheeze.,CARDIAC:  Heart sounds S1 and S2 are regular.  There is a 2/6 systolic murmur heard through the precordium.  There is no gallop or rub.  There is no palpable thrill or retrosternal lift.,ABDOMEN:  Soft, nondistended, and nontender with normal bowel sounds.  No audible bruits.,EXTREMITIES:  No pitting edema, no clubbing, no cyanosis, and peripheral pulses are 2+.,NEUROLOGIC:  She exhibits no focal motor or sensory findings.,LABORATORY DATA: , The patient's sodium was 133, potassium 2.8, chloride 99, bicarbonate 31, glucose 75, BUN 12, creatinine 0.8, calcium 8.6, total bilirubin 3.2, AST 63, and ALT 43.  White count 5.4, hemoglobin 9.1, hematocrit 26.6, and platelet count 128,000.  Lipase less than 10.,DIAGNOSTIC IMAGING: , The patient had a CT scan of the abdomen that demonstrated a pancreatic mass with biliary obstruction.  Previous biliary stent was present.,EKG shows normal sinus rhythm.  There are no acute ST-T changes.,ASSESSMENT: , This is an 84-year-old female with newly found murmur.  No previous history of heart disease.  This murmur has occurred in the setting of fever and bacteremia.  The patient also has a pancreatic mass with jaundice, history of hypertension, and now has hyponatremia and hypokalemia.,PLAN:  ,The patient should undergo an echocardiogram to assess for the possibility of endocarditis, which may be contributing to her symptoms.  Blood pressure control should be maintained with Diovan and Norvasc.  Potassium should be replaced, and hyponatremia should be on proactive.nan\",\n",
      "            \"REASON FOR VISIT:,  Followup on chronic kidney disease.,HISTORY OF PRESENT ILLNESS:,  The patient is a 78-year-old gentleman with stage III chronic kidney disease who on his last visit with me presented with classic anginal symptoms.  He was admitted to hospital and found to have an acute myocardial infarction.  He had a complex hospital course, which resulted in cardiac catheterization and two stents being placed.  His creatinine did pop above up to 3 but then came back to baseline.  His hospital stay was also complicated by urinary retention requiring a catheter and Flomax.  He returns today to re-establish care.  Of note, he was noted to have atrial fibrillation while hospitalized and had massive epistaxis.,ALLERGIES:,  None.,MEDICATIONS: , Starlix 120 mg b.i.d., Compazine b.i.d., aspirin 81 mg daily, Plavix 75 mg daily, glipizide 15 mg b.i.d., multivitamin daily, potassium 10 mEq daily, Cozaar 25 mg daily, Prilosec 20 mg daily, digoxin 0.125 mg every other day, vitamin C 250 mg daily, ferrous sulphate 325 mg b.i.d., metoprolol 6.25 mg daily, Lasix 80 mg b.i.d., Flomax 0.4 mg daily, Zocor 80 mg daily, and Tylenol p.r.n.,PAST MEDICAL HISTORY:,1.  Stage III CKD with baseline creatinine in the 2 range.,2.  Status post MI on May 30, 2006.,3.  Coronary artery disease status post stents of the circumflex.,4.  Congestive heart failure.,5.  Atrial fibrillation.,6.  COPD.,7.  Diabetes.,8.  Anemia.,9.  Massive epistaxis.,REVIEW OF SYSTEMS:,  Cardiovascular:  No chest pain.  He has occasional dyspnea on exertion.  No orthopnea.  No PND.  He has occasional edema of his right leg.  He has been dizzy and his dose of metoprolol has been gradually decreased.  GU:  No hematuria, foamy urine, pyuria, frequency, dysuria, weak stream or dribbling.,PHYSICAL EXAMINATION: , VITAL SIGNS:  Pulse 70.  Blood pressure 114/58.  Weight 79.5 kg.  GENERAL:  He is in no apparent distress.  HEART:  Irregularly irregular.  No murmurs, rubs, or gallops.  LUNGS:  Clear bilaterally.  ABDOMEN:  Soft, nontender, and nondistended.  EXTREMITIES:  Trace edema on the right.,LABORATORY DATA: , Dated 07/05/06, hematocrit is 30.2, platelets 380, sodium 139, potassium 4.9, chloride 100, CO2 28, BUN 38, creatinine 2.2, glucose 226, calcium 9.7, and albumin 3.7.,IMPRESSION:,1.  Stage III chronic kidney disease with return to baseline GFR of 31 mL/min.  He is on an ARB.,2.  Coronary artery disease, status post stenting.,3.  Hypertension.  Blood pressures are on the low side at present.  I hesitate to increase his Cozaar although I would do this if tolerated in the future.,4.  Anemia of renal disease.  He is to start Aranesp.,5.  ? Atrial fibrillation.  We discussed anticoagulation issues involved with chronic Afib.  He may be popping in and out or this could just be a sinus arrhythmia.,PLAN:,1.  Check EKG.,2.  Start Aranesp 60 mcg every two weeks.,3.  Otherwise see him in four months.,4.  If EKG shows atrial fibrillation, I wanted to talk to Dr. XYZ about Coumadin.nan\",\n",
      "            \"2-D STUDY,1. Mild aortic stenosis, widely calcified, minimally restricted.,2. Mild left ventricular hypertrophy but normal systolic function.,3. Moderate biatrial enlargement.,4. Normal right ventricle.,5. Normal appearance of the tricuspid and mitral valves.,6. Normal left ventricle and left ventricular systolic function.,DOPPLER,1. There is 1 to 2+ aortic regurgitation easily seen, but no aortic stenosis.,2. Mild tricuspid regurgitation with only mild increase in right heart pressures, 30-35 mmHg maximum.,SUMMARY,1. Normal left ventricle.,2. Moderate biatrial enlargement.,3. Mild tricuspid regurgitation, but only mild increase in right heart pressures.radiology, 2-d study, doppler, tricuspid regurgitation, heart pressures, stenosis, ventricular, heart, ventricle, tricuspid, regurgitation,\",\n",
      "            \"HISTORY OF PRESENT ILLNESS:,  The patient is an 85-year-old gentleman who follows as an outpatient with Dr. A.  He is known to us from his last admission.  At that time, he was admitted with a difficulty voiding and constipation.  His urine cultures ended up being negative.  He was seen by Dr. B and discharged home on Levaquin for five days.,He presents to the ER today with hematuria that began while he was sleeping last night.  He denies any pain, nausea, vomiting or diarrhea.  In the ER, a Foley catheter was placed and was irrigated with saline.  White count was 7.6, H and H are 10.8 and 38.7, and BUN and creatinine are of 27 and 1.9.  Urine culture is pending.  Chest x-ray is pending.  His UA did show lots of red cells.  The patient currently is comfortable.  CBI is running.  His urine is clear.,PAST MEDICAL HISTORY:,1.  Hypertension.,2.  High cholesterol.,3.  Bladder cancer.,4.  Bilateral total knee replacements.,5.  Cataracts.,6.  Enlarged prostate.,ALLERGIES:,  SULFA.,MEDICATIONS AT HOME:,1.  Atenolol.,2.  Cardura.,3.  Zegerid.,4.  Flomax.,5.  Levaquin.,6.  Proscar.,7.  Vicodin.,8.  Morphine.,9.  Phenergan.,10.  Ativan.,11.  Zocor.,12.  Prinivil.,13.  Hydrochlorothiazide.,14.  Folic acid.,15.  Digoxin.,16.  Vitamin B12.,17.  Multivitamin.,SOCIAL HISTORY: , The patient lives at home with his daughter.  He does not smoke, occasionally drinks alcohol.  He is independent with his activities of daily living.,REVIEW OF SYSTEMS:,  Not additionally rewarding.,PHYSICAL EXAMINATION:,GENERAL:  An awake and alert 85-year-old gentleman who is afebrile.,VITAL SIGNS:  BP of 162/60 and pulse oximetry of 98% on room air.,HEENT:  Pink conjunctivae.  Anicteric sclerae.  Oral mucosa is moist.,NECK:  Supple.,CHEST:  Clear to auscultation.,HEART:  Regular S1 and S2.,ABDOMEN:  Soft and nontender to palpation.,EXTREMITIES:  Without edema.,He has a Foley catheter in place.  His urine is clear.,LABORATORY DATA:,  Reviewed.,IMPRESSION:,1.  Hematuria.nan\",\n",
      "            \"PROCEDURE DONE:  ,Resting Myoview and adenosine Myoview SPECT.,INDICATIONS:,  Chest pain.,PROCEDURE:,  13.3 mCi of Tc-99m tetrofosmin was injected and resting Myoview SPECT was obtained.  Pharmacologic stress testing was done using adenosine infusion.  Patient received 38 mg of adenosine infused at 140 mcg/kg/minute over a period of four minutes.  Two minutes during adenosine infusion, 31.6 mCi of Tc-99m tetrofosmin was injected.  Resting heart rate was 90 beats per minute.  Resting blood pressure was 130/70.  Peak heart rate obtained during adenosine infusion was 102 beats per minute.  Blood pressure obtained during adenosine infusion was 112/70.  During adenosine infusion, patient experienced dizziness and shortness of breath.  No significant ST segment, T wave changes, or arrhythmias were seen.,Resting Myoview and adenosine Myoview SPECT showed uniform uptake of isotope throughout myocardium without any perfusion defect.  Gated dynamic imaging showed normal wall motion and normal systolic thickening throughout left ventricular myocardium.  Left ventricular ejection fraction obtained during adenosine Myoview SPECT was 77%.  Lung heart ratio was 0.40.  TID ratio was 0.88.,IMPRESSION:,  Normal adenosine Myoview myocardial perfusion SPECT.  Normal left ventricular regional and global function with left ventricular ejection fraction of 77%.cardiovascular / pulmonary, myoview, gated dynamic imaging, myoview spect, resting myoview, spect, tc-99m, adenosine myoview, adenosine infusion, ejection fraction, myocardium, systolic thickening, tetrofosmin, adenosine myoview spect, adenosine,\"\n",
      "        ]\n",
      "    ]\n",
      "}\n"
     ]
    }
   ],
   "source": [
    "import json\n",
    "results = collection.query(query_texts=[\"high blood pressure\"], n_results=10)\n",
    "print(json.dumps(results, indent=4))"
   ]
  },
  {
   "cell_type": "code",
   "execution_count": 68,
   "id": "367b9a34",
   "metadata": {},
   "outputs": [
    {
     "data": {
      "text/plain": [
       "{'ids': [['id36',\n",
       "   'id10',\n",
       "   'id33',\n",
       "   'id40',\n",
       "   'id23',\n",
       "   'id19',\n",
       "   'id26',\n",
       "   'id77',\n",
       "   'id86',\n",
       "   'id22']],\n",
       " 'distances': [[1.3553173542022705,\n",
       "   1.4489495754241943,\n",
       "   1.6044704914093018,\n",
       "   1.60764741897583,\n",
       "   1.6720105409622192,\n",
       "   1.6940916776657104,\n",
       "   1.700006127357483,\n",
       "   1.7105464935302734,\n",
       "   1.738896369934082,\n",
       "   1.747157335281372]],\n",
       " 'metadatas': [[{'topic': 'Internal Medicine'},\n",
       "   {'topic': 'Internal Medicine'},\n",
       "   {'topic': 'Internal Medicine'},\n",
       "   {'topic': 'Internal Medicine'},\n",
       "   {'topic': 'Internal Medicine'},\n",
       "   {'topic': 'Internal Medicine'},\n",
       "   {'topic': 'Internal Medicine'},\n",
       "   {'topic': 'Internal Medicine'},\n",
       "   {'topic': 'Internal Medicine'},\n",
       "   {'topic': 'Internal Medicine'}]],\n",
       " 'embeddings': None,\n",
       " 'documents': [['CHIEF COMPLAINT:,  Itchy rash.,HISTORY OF PRESENT ILLNESS: , This 34-year-old gentleman awoke this morning noting some itchiness to his back and then within very a short period of time realized that he had an itchy rash all over his torso and arms.  No facial swelling.  No tongue or lip swelling.  No shortness of breath, wheezing, or other associated symptoms.  He cannot think of anything that could have triggered this off.  There have been no changes in his foods, medications, or other exposures as far as he knows.  He states a couple of days ago he did work and was removing some insulation but does not remember feeling itchy that day.,PAST MEDICAL HISTORY: , Negative for chronic medical problems.  No local physician.  Has had previous back surgery and appendectomy, otherwise generally healthy.,REVIEW OF SYSTEMS: , As mentioned denies any oropharyngeal swelling.  No lip or tongue swelling.  No wheezing or shortness of breath.  No headache.  No nausea.  Notes itchy rash, especially on his torso and upper arms.,SOCIAL HISTORY: , The patient is accompanied with his wife.,FAMILY HISTORY: , Negative.,MEDICATIONS: , None.,ALLERGIES: , TORADOL, MORPHINE, PENICILLIN, AND AMPICILLIN.,PHYSICAL EXAMINATION: , VITAL SIGNS:  The patient was afebrile.  He is slightly tachycardic, 105, but stable blood pressure and respiratory rate.  GENERAL:  The patient is in no distress.  Sitting quietly on the gurney.  HEENT:  Unremarkable.  His oral mucosa is moist and well hydrated.  Lips and tongue look normal.  Posterior pharynx is clear.  NECK:  Supple.  His trachea is midline.  There is no stridor.  LUNGS:  Very clear with good breath sounds in all fields.  There is no wheezing.  Good air movement in all lung fields.  CARDIAC:  Without murmur.  Slight tachycardia.  ABDOMEN:  Soft, nontender.  SKIN:  Notable for a confluence erythematous, blanching rash on the torso as well as more of a blotchy papular, macular rash on the upper arms.  He noted some on his buttocks as well.  Remaining of the exam is unremarkable.,ED COURSE: , The patient was treated with epinephrine 1:1000, 0.3 mL subcutaneously along with 50 mg of Benadryl intramuscularly.  After about 15-20 minutes he states that itching started to feel better.  The rash has started to fade a little bit and feeling a lot more comfortable.,IMPRESSION:,  ACUTE ALLERGIC REACTION WITH URTICARIA AND PRURITUS.,ASSESSMENT AND PLAN: , The patient has what looks to be some type of allergic reaction, although the underlying cause is difficult to assess.  He will make sure he goes home to look around to see if there is in fact anything that changed recently that could have triggered this off.  In the meantime, I think he can be managed with some antihistamine over-the-counter.  He is responding already to Benadryl and the epinephrine that we gave him here.  He is told that if he develops any respiratory complaints, shortness of breath, wheezing, or tongue or lip swelling he will return immediately for evaluation.  He is discharged in stable condition.general medicine, urticaria, pruritus, lip swelling, allergic reaction, itchy rash, torso, swelling, itchy, rash, ',\n",
       "   \"HISTORY OF PRESENT ILLNESS:, The patient is a 71-year-old Caucasian female with a history of diabetes, osteoarthritis, atrial fibrillation, hypertension, asthma, obstructive sleep apnea on CPAP, diabetic foot ulcer, anemia and left lower extremity cellulitis. She was brought in by the EMS service to Erlanger emergency department with pulseless electrical activity. Her husband states that he was at home with his wife, when she presented to him complaining of fever and chills. She became acutely unresponsive. She was noted to have worsening of her breathing. She took several of her MDIs and then was placed on her CPAP. He went to notify EMS and when he returned, she was found to not be breathing. He stated that she was noted to have no breathing in excess of 10 minutes. He states that the EMS system arrived at the home and she was found not breathing. The patient was intubated at the scene and upon arrival to Erlanger Medical Center, she was found to have pupils fixed and dilated. She was seen by me in the emergency department and was on Neo-Synephrine, dopamine with a blood pressure of 97/22 with a rapid heart rate and again, in an unresponsive state.,REVIEW OF SYSTEMS:, Review of systems was not obtainable.,PAST MEDICAL HISTORY:, Diabetes, osteoarthritis, hypertension, asthma, atrial fibrillation, diabetic foot ulcer and anemia.,PAST SURGICAL HISTORY:, Noncontributory to above.,FAMILY HISTORY:, Mother with history of coronary artery disease.,SOCIAL HISTORY:, The patient is married. She uses no ethanol, no tobacco and no illicits. She has a very support family unit.,MEDICATIONS:, Augmentin; Detrol LA; lisinopril.,IMMUNIZATIONS:, Immunizations were up to date for influenza, negative for Pneumovax.,ALLERGIES:, PENICILLIN.,LABORATORY AT PRESENTATION:, White blood cell count 11, hemoglobin 10.5, hematocrit 32.2, platelets 175,000. Sodium 148, potassium 5.2, BUN 30, creatinine 2.2 and glucose 216. PT was 22.4.,RADIOLOGIC DATA:, Chest x-ray revealed a diffuse pulmonary edema.,PHYSICAL EXAMINATION:,VITAL SIGNS: Blood pressure 97/52, pulse of 79, respirations 16, O2 sat 100%.,HEENT: The patient's pupils were again, fixed and dilated and intubated on the monitor.,CHEST: Poor air movement bilateral with bilateral rales.,CARDIOVASCULAR: Regular rate and rhythm.,ABDOMEN: The abdomen was obese, nondistended and nontender.,EXTREMITIES: Left diabetic foot had oozing pus drainage from the foot.,GU: Foley catheter was in place.,IMPRESSION AND PLAN:,1. Acute cardiac arrest with pulseless electrical activity with hypotensive shock and respiratory failure: Will continue ventilator support. Will rule out pulmonary embolus, rule out myocardial infarction. Continue pressors. The patient is currently on dopamine, Neo-Synephrine and Levophed.,2. Acute respiratory distress syndrome: Will continue ventilatory support.,3. Questionable sepsis: Will obtain blood cultures, intravenous vancomycin and Rocephin given.,4. Hypotensive shock: Will continue pressors. Will check random cortisol. Hydrocortisone was added.,Further inpatient management for this patient will be provided by Dr. R. The patient's status was discussed with her daughter and her husband. The husband states that his wife has been very ill in the past with multiple admissions, but he had never seen her as severely ill as with this event. He states that she completely was not breathing at all and he is aware of the severity of her illness and the gravity of her current prognosis. Will obtain the assistance with cardiology with this admission and will continue pressors and supportive therapy. The family will make an assessment and final decision concerning her long-term management after a 24 hour period.nan\",\n",
       "   'CHIEF COMPLAINT:,  Arm and leg jerking.,HISTORY OF PRESENT ILLNESS:  ,The patient is a 10-day-old Caucasian female here for approximately 1 minute bilateral arm and leg jerks, which started at day of life 1 and have occurred 6 total times since then.  Mom denies any apnea, perioral cyanosis, or color changes.  These movements are without any back arching.  They mainly occur during sleep, so mom is unaware of any eye rolling.  Mom is able to wake the patient up during this periods and stop the patient\\'s extremity movements.,Otherwise, this patient has been active, breast-feeding well, although she falls asleep at the breast.  She is currently taking in 15 to 20 minutes of breast milk every 2 to 3 hours.  She is having increased diapers up to 8 wet and 6 to 7 dirty-yellow stools per day.,REVIEW OF SYSTEMS:,  Negative fever, negative fussiness, tracks with her eyes, some sneezing and hiccups.  This patient has developed some upper airway congestion in the past day.  She has not had any vomiting or diarrhea.  Per mom, she does not spit up, and mom is also unable to notice any relationship between these movements and feeds.  This patient has not had any rashes.  Mom was notified by the nurses at birth that her temperature may be low of approximately 97.5 degrees Fahrenheit.  Otherwise, the above history of present illness and other review of systems negative.,BIRTH/PAST MEDICAL HISTORY: , The patient was an 8 pound 11 ounce baby, ex-41-weeker born via vaginal delivery without vacuum assist or forceps.  There were no complications during pregnancy such as diabetes or hypertension.  Prenatal care started at approximately 3 weeks, and mom maintained all visits.  She also denies any smoking, alcohol, or drug use during the pregnancy.  Mom was GBS status positive, but denies any other infections such as urinary tract infections.  She did not have any fever during labor and received inadequate intrapartum antibiotics prophylaxis.  After delivery, this patient did not receive antibiotics secondary to \"borderline labs.\"  She was jaundiced after birth and received photo treatments.  Her discharge bilirubin level was approximately 11.  Mom and child stayed in the hospital for approximately 3-1/2 days.,Mom denies any history of sexually transmitted disease in her or dad.  She specifically denies any blistering, herpetic genital lesions.  She does have a history though of human papillomavirus warts (vaginal), removed 20 years ago.,PAST SURGICAL HISTORY:,  Negative.,ALLERGIES: , No known drug allergies.,MEDICATIONS: , None.,SOCIAL HISTORY: , At home live mom, dad, and 18-, 16-, 14-, 12-year-old brothers, and a 3-year-old sister.  All the residents at home are sick currently with cold, cough, runny nose, except for mom.  At home also live 2 dogs and 2 outside cats.  Mom denies any recent travel history, especially during the recent holidays and no smoke exposures.,FAMILY HISTORY:,  Dad is with a stepdaughter with seizures starting at 14 years old, on medications currently.  The patient\\'s 16-year-old brother has incessant nonsustained ventricular tachycardia.  The maternal grandmother is notable for hypertension and diabetes.  There are no other children in the family who see a specialist or no child death less than 1 year of age.,PHYSICAL EXAMINATION:nan',\n",
       "   'REASON FOR VISIT:,  Kidney transplant.,HISTORY OF PRESENT ILLNESS: , The patient is a 52-year-old gentleman with ESRD secondary to hypertension, status post kidney transplant in February 2006.  He had to back down on his WelChol because of increased backache.  He actually increased his Pravachol and is tolerating this with minimal problems.  He comes in for followup.,ALLERGIES: , Aspirin and Altace caused cough, Lipitor and Pravachol at higher doses caused myalgias, Zetia caused myalgias.,MEDICATIONS:,  Gengraf 125/50 mg daily, CellCept 500 mg q.i.d., acyclovir 800 mg q.i.d., DexFol daily, ferrous sulfate Mondays, Wednesdays and Fridays, metoprolol 50 mg b.i.d., vitamin C daily, baby aspirin 81 mg daily, Bactrim Single Strength daily, Cozaar 50 mg daily, WelChol 625 mg daily, and Pravachol 10 mg daily.,PAST MEDICAL HISTORY:,1.  ESRD secondary to hypertension.,2.  Cadaveric kidney in February 2006.,3.  Gunshot wound in Southeast Asia.,4.  Hyperlipidemia.,REVIEW OF SYSTEMS: , Cardiovascular:  No chest pain, dyspnea on exertion, orthopnea, PND or edema.  GU:  No hematuria, foamy urine, pyuria, frequency or dysuria.  He has occasional tingling over his graft, but this is not bothering him today.,PHYSICAL EXAMINATION:,  VITAL SIGNS:  Pulse 82.  Blood pressure is 108/64.  Weight is 64.5 kg.  GENERAL:  He is in no apparent distress.  HEART:  Regular rate and rhythm.  No murmurs, rubs or gallops.  LUNGS:  Clear bilaterally.  ABDOMEN:  Soft, nontender, and nondistended.  Multiple scars.  Right lower quadrant graft is unremarkable.  EXTREMITIES:  No edema.,LABORATORY DATA:,  Labs dated 07-11-06, hematocrit 34.8, sodium 137, magnesium 1.9, potassium 4.9, chloride 102, CO2 25, BUN is 37, creatinine is 1.3, calcium 10.1, phosphorus 3.7, and albumin 4.4.  LFTs unremarkable.  Cholesterol 221, triglycerides 104, HDL 42, LDL 158, and cyclosporine 163.,IMPRESSION:,1.  Status post cadaveric kidney transplant with stable function.,2.  Hypertension under excellent control.,3.  Hyperlipidemia not at goal.  He simply is not tolerating higher doses of medications.,PLAN:,1.  We will add over-the-counter fish oil b.i.d.,2.  Continue all current medications.,3.  Recheck labs today including urinalysis.,4.  He will see transplant in two weeks and me in four weeks.  We will plan to send urine for decoy cells on his next visit.nephrology, esrd secondary to hypertension, status post cadaveric kidney transplant, transplant with stable function, cadaveric kidney transplant, secondary to hypertension, stable function, cadaveric kidney, kidney transplant, esrd, hyperlipidemia, edema, cadaveric, welchol, orthopnea, kidney, transplant, ',\n",
       "   \"REASON FOR FOLLOWUP:,  Care conference with family at the bedside and decision to change posture of care from aggressive full code status to terminal wean with comfort care measures in a patient with code last night with CPR and advanced cardiac life support.,HISTORY OF PRESENT ILLNESS: , This is a 65-year-old patient originally admitted by me several weeks ago with profound hyponatremia and mental status changes.  Her history is also significant for likely recurrent aspiration pneumonia and intubation earlier on this admission as well.  Previously while treating this patient I had met with the family and discussed how aggressive the patient would wish her level of care to be given that there was evidence of possible ovarian malignancy with elevated CA-125 and a complex mass located in the ovary.  As the patient was showing signs of improvement with some speech and ability to follow commands, decision was made to continue to pursue an aggressive level of care, treat her dysphagia, hypertension, debilitation and this was being done.  However, last night the patient had apparently catastrophic event around 2:40 in the morning.  Rapid response was called and the patient was intubated, started on pressure support, and given CPR.  This morning I was called to the bedside by nursing stating the family had wished at this point not to continue this aggressive level of care.  The patient was seen and examined, she was intubated and sedated.  Limbs were cool.  Cardiovascular exam revealed tachycardia.  Lungs had coarse breath sounds.  Abdomen was soft.  Extremities were cool to the touch.  Pupils were 6 to 2 mm, doll's eyes were not intact.  They were not responsive to light.  Based on discussion with all family members involved including both sons, daughter and daughter-in-law, a decision was made to proceed with terminal wean and comfort care measures.  All pressure support was discontinued.  The patient was started on intravenous morphine and respiratory was requested to remove the ET tube.  Monitors were turned off and the patient was made as comfortable as possible.  Family is at the bedside at this time.  The patient appears comfortable and the family is in agreement that this would be her wishes per my understanding of the family and the patient dynamics over the past month, this is a very reasonable and appropriate approach given the patient's failure to turn around after over a month of aggressive treatment with likely terminal illness from ovarian cancer and associated comorbidities.,Total time spent at the bedside today in critical care services, medical decision making and explaining options to the family and proceeding with terminal weaning was excess of 37 minutes.general medicine, full code status, terminal wean, comfort care, cpr, advanced cardiac life support, care conference, family, bedsideNOTE,: Thesetranscribed medical transcription sample reports and examples are provided by various users andare for reference purpose only. MTHelpLine does not certify accuracy and quality of sample reports.These transcribed medical transcription sample reports may include some uncommon or unusual formats;this would be due to the preference of the dictating physician. All names and dates have beenchanged (or removed) to keep confidentiality. Any resemblance of any type of name or date orplace or anything else to real world is purely incidental.\",\n",
       "   'HISTORY AND CLINICAL DATA:  ,The patient is an 88-year-old gentleman followed by Dr. X, his primary care physician, Dr. Y for the indication of CLL and Dr. Z for his cardiovascular issues.  He presents to the Care Center earlier today with approximately a one-week history of increased progressive shortness of breath, orthopnea over the course of the past few nights, mild increase in peripheral edema, and active wheezing with dyspnea presenting this morning.,He reports no clear-cut chest discomfort or difficulty with angina.  He has had no dizziness, lightheadedness, no near or true syncope, nothing supportive of CVA, TIA, nor peripheral vascular claudication.,REVIEW OF SYSTEMS:,  General review of system is significant for difficulty with intermittent constipation, which has been problematic recently.  He reports no fever, shaking chills, nothing supportive of GI or GU blood loss, no productive or nonproductive cough.,PAST MEDICAL HISTORY:,  Remarkable for hypertension, diabetes, prostate cancer, status post radium seed implant, COPD, single vessel coronary disease, esophageal reflux, CLL, osteopenia, significant hearing loss, anxiety, and degenerative joint disease.,SOCIAL HISTORY: , Remarkable for being married, retired, quit smoking in 1997, rare use of alcohol, lives locally with his wife.,MEDICATIONS AT HOME:,  Include, Lortab 7.5 mg up to three times daily for chronic arthritic discomfort, Miacalcin nasal spray once daily, omeprazole 20 mg daily, Diovan 320 mg daily, Combivent two puffs t.i.d., folate, one adult aspirin daily, glyburide 5 mg daily, atenolol 50 mg daily, furosemide 40 mg daily, amlodipine 5 mg daily, hydralazine 50 mg p.o. t.i.d., in addition to Tekturna 150 mg daily, Zoloft 25 mg daily.,ALLERGIES:  ,He has known history of allergy to clonidine, Medifast does fatigue.,DIAGNOSTIC AND LABORATORY DATA: , Chest x-ray upon presentation to the Ellis Emergency Room this evening demonstrate significant congestive heart failure with moderate-sized bilateral pleural effusions.,A 12-lead EKG, sinus rhythm at a rate of 68 per minute, right bundle-branch block type IVCV with moderate nonspecific ST changes.  Low voltage in the limb leads.,WBC 29,000, hemoglobin 10.9, hematocrit 31, platelets 187,000.  Low serum sodium at 132, potassium 4, BUN 28, creatinine 1.2, random glucose 179.  Low total protein 5.7.  Magnesium level 2.3, troponin 0.404 with the B-natriuretic peptide of 8200.,PHYSICAL EXAMINATION:  ,He is an elderly gentleman, who appears to be in no acute distress, lying comfortably flat at 30 degrees, measured pressure of 150/80 with a pulse of 68 and regular.  JVD difficult to assess.  Normal carotids with obvious bruits.  Conjunctivae pink.  Oropharynx clear.  Mild kyphosis.  Diffusely depressed breath sounds halfway up both posterior lung fields.  No active wheezing.  Cardiac Exam:  Regular, soft, 1-2/6 early systolic ejection murmur best heard at the base.  Abdomen:  Soft, nontender, protuberant, benign.  Extremities:  2+ bilateral pitting edema to the level of the knees.  Neuro Exam:  Appears alert, oriented x3.  Appropriate manner and affect, exceedingly hard of hearing.,OVERALL IMPRESSION:,  An 88-year-old white male with the following major medical issues:,1.  Presentation consists with subclinical congestive heart failure possibly systolic, no recent echocardiogram available for review.,2.  Hypertension with suboptimal controlled currently.,3.  Diabetes.,4.  Prostate CA, status post radium seed implant.,5.  COPD, on metered-dose inhaler.,6.  CLL followed by Dr. Y.,7.  Single-vessel coronary disease, no recent anginal quality chest pain, no changes in ECG suggestive of acute ischemia; however, initial troponin 0.4 - to be followed with serial enzyme determinations and telemetry.,8.  Hearing loss, anxiety.,9.  Significant degenerative joint disease.,PLAN:,1.  Admit to A4 with telemetry, congestive heart failure pathway, intravenous diuretic therapy.,2.  Strict I&O, Foley catheter has already been placed.,3.  Daily BMP.,4.  Two-dimensional echocardiogram to assess left ventricular systolic function.  Serum iron determination to exclude the possibility of a subclinical ischemic cardiac event.  Further recommendations will be forthcoming pending his clinical course and hospital.nan',\n",
       "   'REASON FOR VISIT:,  Followup on chronic kidney disease.,HISTORY OF PRESENT ILLNESS:,  The patient is a 78-year-old gentleman with stage III chronic kidney disease who on his last visit with me presented with classic anginal symptoms.  He was admitted to hospital and found to have an acute myocardial infarction.  He had a complex hospital course, which resulted in cardiac catheterization and two stents being placed.  His creatinine did pop above up to 3 but then came back to baseline.  His hospital stay was also complicated by urinary retention requiring a catheter and Flomax.  He returns today to re-establish care.  Of note, he was noted to have atrial fibrillation while hospitalized and had massive epistaxis.,ALLERGIES:,  None.,MEDICATIONS: , Starlix 120 mg b.i.d., Compazine b.i.d., aspirin 81 mg daily, Plavix 75 mg daily, glipizide 15 mg b.i.d., multivitamin daily, potassium 10 mEq daily, Cozaar 25 mg daily, Prilosec 20 mg daily, digoxin 0.125 mg every other day, vitamin C 250 mg daily, ferrous sulphate 325 mg b.i.d., metoprolol 6.25 mg daily, Lasix 80 mg b.i.d., Flomax 0.4 mg daily, Zocor 80 mg daily, and Tylenol p.r.n.,PAST MEDICAL HISTORY:,1.  Stage III CKD with baseline creatinine in the 2 range.,2.  Status post MI on May 30, 2006.,3.  Coronary artery disease status post stents of the circumflex.,4.  Congestive heart failure.,5.  Atrial fibrillation.,6.  COPD.,7.  Diabetes.,8.  Anemia.,9.  Massive epistaxis.,REVIEW OF SYSTEMS:,  Cardiovascular:  No chest pain.  He has occasional dyspnea on exertion.  No orthopnea.  No PND.  He has occasional edema of his right leg.  He has been dizzy and his dose of metoprolol has been gradually decreased.  GU:  No hematuria, foamy urine, pyuria, frequency, dysuria, weak stream or dribbling.,PHYSICAL EXAMINATION: , VITAL SIGNS:  Pulse 70.  Blood pressure 114/58.  Weight 79.5 kg.  GENERAL:  He is in no apparent distress.  HEART:  Irregularly irregular.  No murmurs, rubs, or gallops.  LUNGS:  Clear bilaterally.  ABDOMEN:  Soft, nontender, and nondistended.  EXTREMITIES:  Trace edema on the right.,LABORATORY DATA: , Dated 07/05/06, hematocrit is 30.2, platelets 380, sodium 139, potassium 4.9, chloride 100, CO2 28, BUN 38, creatinine 2.2, glucose 226, calcium 9.7, and albumin 3.7.,IMPRESSION:,1.  Stage III chronic kidney disease with return to baseline GFR of 31 mL/min.  He is on an ARB.,2.  Coronary artery disease, status post stenting.,3.  Hypertension.  Blood pressures are on the low side at present.  I hesitate to increase his Cozaar although I would do this if tolerated in the future.,4.  Anemia of renal disease.  He is to start Aranesp.,5.  ? Atrial fibrillation.  We discussed anticoagulation issues involved with chronic Afib.  He may be popping in and out or this could just be a sinus arrhythmia.,PLAN:,1.  Check EKG.,2.  Start Aranesp 60 mcg every two weeks.,3.  Otherwise see him in four months.,4.  If EKG shows atrial fibrillation, I wanted to talk to Dr. XYZ about Coumadin.nan',\n",
       "   'PREOPERATIVE DIAGNOSIS: , Breast mass, left.,POSTOPERATIVE DIAGNOSIS:,  Breast mass, left.,PROCEDURE:,  Excision of left breast mass.,OPERATION: , After obtaining an informed consent, the patient was taken to the operating room where he underwent general endotracheal anesthesia.  The time-out process was followed.  Preoperative antibiotic was given.  The patient was prepped and draped in the usual fashion.  The mass was identified adjacent to the left nipple.  It was freely mobile and it did not seem to hold the skin.  An elliptical skin incision was made over the mass and carried down in a pyramidal fashion towards the pectoral fascia.  The whole of specimen including the skin, the mass, and surrounding subcutaneous tissue and fascia were excised en bloc.  Hemostasis was achieved with the cautery.  The specimen was sent to Pathology and the tissues were closed in layers including a subcuticular suture of Monocryl.  A small pressure dressing was applied.,Estimated blood loss was minimal and the patient who tolerated the procedure very well was sent to recovery room in satisfactory condition.hematology - oncology, breast mass excision, freely mobile, breast mass, endotracheal, fascia, specimen,',\n",
       "   'PREOPERATIVE DIAGNOSIS: , Refractory dyspepsia.,POSTOPERATIVE DIAGNOSIS:,1.  Hiatal hernia.,2.  Reflux esophagitis.,PROCEDURE PERFORMED:,  Esophagogastroduodenoscopy with pseudo and esophageal biopsy.,ANESTHESIA:,  Conscious sedation with Demerol and Versed.,SPECIMEN: , Esophageal biopsy.,COMPLICATIONS: , None.,HISTORY:,  The patient is a 52-year-old female morbidly obese black female who has a long history of reflux and GERD type symptoms including complications such as hoarseness and chronic cough.  She has been on multiple medical regimens and continues with dyspeptic symptoms.,PROCEDURE: , After proper informed consent was obtained, the patient was brought to the endoscopy suite.  She was placed in the left lateral position and was given IV Demerol and Versed for sedation.  When adequate level of sedation achieved, the gastroscope was inserted into the hypopharynx and the esophagus was easily intubated.  At the GE junction, a hiatal hernia was present.  There were mild inflammatory changes consistent with reflux esophagitis.  The scope was then passed into the stomach.  It was insufflated and the scope was coursed along the greater curvature to the antrum.  The pylorus was patent.  There was evidence of bile reflux in the antrum.  The duodenal bulb and sweep were examined and were without evidence of mass, ulceration, or inflammation.  The scope was then brought back into the antrum.,A retroflexion was attempted multiple times, however, the patient was having difficulty holding the air and adequate retroflexion view was not visualized.  The gastroscope was then slowly withdrawn.  There were no other abnormalities noted in the fundus or body.  Once again at the GE junction, esophageal biopsy was taken.  The scope was then completely withdrawn.  The patient tolerated the procedure and was transferred to the recovery room in stable condition.  She will return to the General Medical Floor.  We will continue b.i.d proton-pump inhibitor therapy as well as dietary restrictions.  She should also attempt significant weight loss.gastroenterology, refractory dyspepsia, hiatal hernia, reflux esophagitis, esophagogastroduodenoscopy, esophageal, pseudo, esophageal biopsy, ge junction, hiatal, hernia, esophagitis, antrum, gerd,',\n",
       "   'HISTORY OF PRESENT ILLNESS: , Mr. A is a 50-year-old gentleman with a history of atrial fibrillation in the past, more recently who has had atrial flutter, who estimates he has had six cardioversions since 10/09, and estimates that he has had 12 to 24 in his life beginning in 2006 when the atrial fibrillation first emerged.  He, since 10:17 p.m. on 01/17/10, noted recurrence of his atrial fibrillation, called our office this morning, that is despite being on flecainide, atenolol, and he is maintained on Coumadin.,The patient has noted some lightheadedness as well as chest discomfort and shortness of breath when atrial flutter recurred and we see that on his 12-lead EKG here.  Otherwise, no chest pain.,PAST MEDICAL HISTORY: , Significant for atrial fibrillation/atrial flutter and again he had atrial fibrillation more persistently in 2006, but more recently it has been atrial flutter and that is despite use of antiarrhythmics including flecainide.  He completed a stress test in my office within the past several weeks that was normal without evidence of ischemia.  Other medical history is significant for hyperlipidemia.,MEDICATIONS:,As outpatient,,1.  Atenolol 25 mg once a day.,2.  Altace 2.5 mg once a day.,3.  Zocor 20 mg once a day.,4.  Flecainide 200 in the morning and 100 in the evening.,5.  Coumadin as directed by our office.,ALLERGIES: , TO MEDICATIONS ARE NONE.  HE DENIES SHRIMP, SEA FOOD OR DYE ALLERGY.,FAMILY HISTORY: , He has a nephew who was his sister\\'s son who passed away at age 22 reportedly from an MI, but was reported to have hypertrophic cardiomyopathy as well.  The patient has previously met with the electrophysiologist, Dr. X, at General Hospital and it sounds like he had a negative EP study.,SOCIAL HISTORY: , The patient does not smoke cigarettes, abuse alcohol nor drink any caffeine.  No use of illicit drugs.  He has been married for 22 years and he is actually accompanied throughout today\\'s cardiology consultation by his wife.  He is not participating in regular exercises now because he states since starting flecainide, he has gotten sluggish.  He is employed as an attorney and while he states that overall his mental stress is better, he has noted more recent mental stress this past weekend when he was taking his daughter back to college.,REVIEW OF SYSTEMS: , He denies any history of stroke, cancer, vomiting of blood, coughing up blood, bright red blood per rectum, bleeding stomach ulcers, renal calculi.  There are some questions especially as his wife has told me that he may have obstructive sleep apnea and not had a formal sleep study.,PHYSICAL EXAM: , Blood pressure 156/93, pulse is 100, respiratory rate 18.  On general exam, he is a pleasant overweight gentleman, in no acute distress.  HEENT:  Shows cranium is normocephalic and atraumatic.  He has moist mucosal membranes.  Neck veins are not distended.  There are no carotid bruits.  Visible skin warm and perfused.  Affect appropriate.  He is quite oriented and pleasant.  No significant kyphoscoliosis on recumbent back exam.  Lungs are clear to auscultation anteriorly.  No wheezes.  No egophony.  Cardiac Exam:  S1, S2.  Regular rate, controlled.  No significant murmurs, rubs or gallops.  PMI is nondisplaced.  Abdomen is soft, nondistended, appears benign.  Extremities without significant edema.  Pulses grossly intact.,DIAGNOSTIC STUDIES/LAB DATA:,  Initial ECG shows atrial flutter.,IMPRESSION: , Mr. A is a 50-year-old gentleman with a history of paroxysmal atrial fibrillation in the past, more recently is having breakthrough atrial flutter despite flecainide and we had performed a transesophageal echocardiogram-guided cardioversion for him in late 12/20/09, who now has another recurrence within the past 41 hours or so.  I have reviewed again with him in detail regarding risks, benefits, and alternatives of proceeding with cardioversion, which the patient is in favor of.  After in depth explanation of the procedure with him that there would be more definitive resumption of normal sinus rhythm by using electrocardioversion with less long-term side effects, past the acute procedure, alternatives being continued atrial flutter with potential for electrophysiologic consultation for ablation and/or heart rate control with anticoagulation, which the patient was not interested nor was I primarily recommending as the next step, and risks including, but not limited to and the patient was aware and this was all done in the presence of his wife that this is not an all-inclusive list, but the risks include but not limited to oversedation from conscious sedation, risk of aspiration pneumonia from regurgitation of stomach contents, which would be less likely as I did confirm with the patient that he had been n.p.o. for greater than 15 hours, risk of induction of other arrhythmias including tachyarrhythmias requiring further management including cardioversion or risk of bradyarrhythmias, in the past when we had a cardioverter with 150 joules, he did have a 5.5-second pause especially while he is on antiarrhythmic therapy, statistically less significant risk of CVA, although we cannot really make that null.  The patient expressed understanding of this risk, benefit, and alternative analysis.  I invited questions from him and his wife and once their questions were answered to their self-stated satisfaction, we planned to go forward with the procedure.,PROCEDURE NOTE:  ,The patient received a total of 7 mg of Versed and 50 micrograms of fentanyl utilizing titrate-down sedation with good effect and this was after the appropriate time-out procedure had been done as per the Medical Center universal protocol with appropriate identification of the patient, position, procedure documentation, procedure indication, and there were no questions.  The patient did actively participate in this time-out procedure.  After the universal protocol was done, he then received the cardioversion attempt with 50 joules using \"lollipop posterior patch\" with hands-driven paddle on the side, which was 50 joules of synchronized biphasic energy.  There was successful resumption of normal sinus rhythm, in fact this time there was not a significant pause as compared to when he had this done previously in late 12/09 and this sinus rhythm was confirmed by a 12-lead EKG.,IMPRESSION: , Cardioversion shows successful resumption of normal sinus rhythm from atrial flutter and that is while the patient has been maintained on Coumadin and his INR is 3.22.  We are going to watch him and discharge him from the Medical Center area on his current flecainide of 200 mg in the morning and 100 mg in the evening, atenolol 25 mg once a day, Coumadin _____ as currently being diagnosed.  I had previously discussed with the patient and he was agreeable with meeting with his electrophysiologist again, Dr. X, at Electrophysiology Unit at General Hospital and I will be planning to place a call for Dr. X myself.  Again, he has no ischemia on this most recent stress test and I suppose in the future it may be reasonable to get obstructive sleep apnea evaluation and that may be one issue promulgating his symptoms.,I had previously discussed the case with Dr. Y who is the patient\\'s general cardiologist as well as updated his wife at the patient\\'s bedside regarding our findings.nan']]}"
      ]
     },
     "execution_count": 68,
     "metadata": {},
     "output_type": "execute_result"
    }
   ],
   "source": [
    "## Querry\n",
    "collection.query(query_texts=[\"fever\"], where={\"topic\": \"Internal Medicine\"}, n_results=10)"
   ]
  },
  {
   "cell_type": "code",
   "execution_count": null,
   "id": "066ca201",
   "metadata": {},
   "outputs": [],
   "source": []
  },
  {
   "cell_type": "code",
   "execution_count": null,
   "id": "95d89939",
   "metadata": {},
   "outputs": [],
   "source": []
  },
  {
   "cell_type": "code",
   "execution_count": null,
   "id": "71863a88",
   "metadata": {},
   "outputs": [],
   "source": []
  }
 ],
 "metadata": {
  "kernelspec": {
   "display_name": "Python 3 (ipykernel)",
   "language": "python",
   "name": "python3"
  },
  "language_info": {
   "codemirror_mode": {
    "name": "ipython",
    "version": 3
   },
   "file_extension": ".py",
   "mimetype": "text/x-python",
   "name": "python",
   "nbconvert_exporter": "python",
   "pygments_lexer": "ipython3",
   "version": "3.9.7"
  },
  "varInspector": {
   "cols": {
    "lenName": 16,
    "lenType": 16,
    "lenVar": 40
   },
   "kernels_config": {
    "python": {
     "delete_cmd_postfix": "",
     "delete_cmd_prefix": "del ",
     "library": "var_list.py",
     "varRefreshCmd": "print(var_dic_list())"
    },
    "r": {
     "delete_cmd_postfix": ") ",
     "delete_cmd_prefix": "rm(",
     "library": "var_list.r",
     "varRefreshCmd": "cat(var_dic_list()) "
    }
   },
   "types_to_exclude": [
    "module",
    "function",
    "builtin_function_or_method",
    "instance",
    "_Feature"
   ],
   "window_display": false
  }
 },
 "nbformat": 4,
 "nbformat_minor": 5
}
