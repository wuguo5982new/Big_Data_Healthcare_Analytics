{
 "cells": [
  {
   "cell_type": "markdown",
   "id": "champion-delhi",
   "metadata": {},
   "source": [
    "## This project for analyzing survey Data in R, including calculating survey-weighted means and proportions, visualizing data, and multiple linear regression."
   ]
  },
  {
   "cell_type": "code",
   "execution_count": 2,
   "id": "educational-romantic",
   "metadata": {},
   "outputs": [
    {
     "name": "stdout",
     "output_type": "stream",
     "text": [
      "Rows: 20,293\n",
      "Columns: 78\n",
      "$ ID               <int> 51624, 51625, 51626, 51627, 51628, 51629, 51630, 5...\n",
      "$ SurveyYr         <fct> 2009_10, 2009_10, 2009_10, 2009_10, 2009_10, 2009_...\n",
      "$ Gender           <fct> male, male, male, male, female, male, female, fema...\n",
      "$ Age              <int> 34, 4, 16, 10, 60, 26, 49, 1, 10, 80, 10, 80, 4, 3...\n",
      "$ AgeMonths        <int> 409, 49, 202, 131, 722, 313, 596, 12, 124, NA, 121...\n",
      "$ Race1            <fct> White, Other, Black, Black, Black, Mexican, White,...\n",
      "$ Race3            <fct> NA, NA, NA, NA, NA, NA, NA, NA, NA, NA, NA, NA, NA...\n",
      "$ Education        <fct> High School, NA, NA, NA, High School, 9 - 11th Gra...\n",
      "$ MaritalStatus    <fct> Married, NA, NA, NA, Widowed, Married, LivePartner...\n",
      "$ HHIncome         <fct> 25000-34999, 20000-24999, 45000-54999, 20000-24999...\n",
      "$ HHIncomeMid      <int> 30000, 22500, 50000, 22500, 12500, 30000, 40000, 4...\n",
      "$ Poverty          <dbl> 1.36, 1.07, 2.27, 0.81, 0.69, 1.01, 1.91, 1.36, 2....\n",
      "$ HomeRooms        <int> 6, 9, 5, 6, 6, 4, 5, 5, 7, 4, 5, 5, 7, NA, 6, 6, 5...\n",
      "$ HomeOwn          <fct> Own, Own, Own, Rent, Rent, Rent, Rent, Rent, Own, ...\n",
      "$ Work             <fct> NotWorking, NA, NotWorking, NA, NotWorking, Workin...\n",
      "$ Weight           <dbl> 87.4, 17.0, 72.3, 39.8, 116.8, 97.6, 86.7, 9.4, 26...\n",
      "$ Length           <dbl> NA, NA, NA, NA, NA, NA, NA, 75.7, NA, NA, NA, NA, ...\n",
      "$ HeadCirc         <dbl> NA, NA, NA, NA, NA, NA, NA, NA, NA, NA, NA, NA, NA...\n",
      "$ Height           <dbl> 164.7, 105.4, 181.3, 147.8, 166.0, 173.0, 168.4, N...\n",
      "$ BMI              <dbl> 32.22, 15.30, 22.00, 18.22, 42.39, 32.61, 30.57, N...\n",
      "$ BMICatUnder20yrs <fct> NA, NA, NA, NA, NA, NA, NA, NA, NA, NA, NA, NA, NA...\n",
      "$ BMI_WHO          <fct> 30.0_plus, 12.0_18.5, 18.5_to_24.9, 12.0_18.5, 30....\n",
      "$ Pulse            <int> 70, NA, 68, 68, 72, 72, 86, NA, 70, 88, 84, 54, NA...\n",
      "$ BPSysAve         <int> 113, NA, 109, 93, 150, 104, 112, NA, 108, 139, 94,...\n",
      "$ BPDiaAve         <int> 85, NA, 59, 41, 68, 49, 75, NA, 53, 43, 45, 60, NA...\n",
      "$ BPSys1           <int> 114, NA, 112, 92, 154, 102, 118, NA, 106, 142, 94,...\n",
      "$ BPDia1           <int> 88, NA, 62, 36, 70, 50, 82, NA, 60, 62, 38, 62, NA...\n",
      "$ BPSys2           <int> 114, NA, 114, 94, 150, 104, 108, NA, 106, 140, 92,...\n",
      "$ BPDia2           <int> 88, NA, 60, 44, 68, 48, 74, NA, 50, 46, 40, 62, NA...\n",
      "$ BPSys3           <int> 112, NA, 104, 92, 150, 104, 116, NA, 110, 138, 96,...\n",
      "$ BPDia3           <int> 82, NA, 58, 38, 68, 50, 76, NA, 56, 40, 50, 58, NA...\n",
      "$ Testosterone     <dbl> NA, NA, NA, NA, NA, NA, NA, NA, NA, NA, NA, NA, NA...\n",
      "$ DirectChol       <dbl> 1.29, NA, 1.55, 1.89, 1.16, 1.16, 1.16, NA, 1.58, ...\n",
      "$ TotChol          <dbl> 3.49, NA, 4.97, 4.16, 5.22, 4.14, 6.70, NA, 4.14, ...\n",
      "$ UrineVol1        <int> 352, NA, 281, 139, 30, 202, 77, NA, 39, 128, 109, ...\n",
      "$ UrineFlow1       <dbl> NA, NA, 0.415, 1.078, 0.476, 0.563, 0.094, NA, 0.3...\n",
      "$ UrineVol2        <int> NA, NA, NA, NA, 246, NA, NA, NA, NA, NA, NA, NA, N...\n",
      "$ UrineFlow2       <dbl> NA, NA, NA, NA, 2.51, NA, NA, NA, NA, NA, NA, NA, ...\n",
      "$ Diabetes         <fct> No, No, No, No, Yes, No, No, No, No, No, No, Yes, ...\n",
      "$ DiabetesAge      <int> NA, NA, NA, NA, 56, NA, NA, NA, NA, NA, NA, 70, NA...\n",
      "$ HealthGen        <fct> Good, NA, Vgood, NA, Fair, Good, Good, NA, NA, Exc...\n",
      "$ DaysPhysHlthBad  <int> 0, NA, 2, NA, 20, 2, 0, NA, NA, 0, NA, 0, NA, NA, ...\n",
      "$ DaysMentHlthBad  <int> 15, NA, 0, NA, 25, 14, 10, NA, NA, 0, NA, 0, NA, N...\n",
      "$ LittleInterest   <fct> Most, NA, NA, NA, Most, None, Several, NA, NA, Non...\n",
      "$ Depressed        <fct> Several, NA, NA, NA, Most, Most, Several, NA, NA, ...\n",
      "$ nPregnancies     <int> NA, NA, NA, NA, 1, NA, 2, NA, NA, NA, NA, NA, NA, ...\n",
      "$ nBabies          <int> NA, NA, NA, NA, 1, NA, 2, NA, NA, NA, NA, NA, NA, ...\n",
      "$ Age1stBaby       <int> NA, NA, NA, NA, NA, NA, 27, NA, NA, NA, NA, NA, NA...\n",
      "$ SleepHrsNight    <int> 4, NA, 8, NA, 4, 4, 8, NA, NA, 6, NA, 9, NA, 7, NA...\n",
      "$ SleepTrouble     <fct> Yes, NA, No, NA, No, No, Yes, NA, NA, No, NA, No, ...\n",
      "$ PhysActive       <fct> No, NA, Yes, NA, No, Yes, No, NA, NA, Yes, NA, No,...\n",
      "$ PhysActiveDays   <int> NA, NA, 5, NA, NA, 2, NA, NA, NA, 4, NA, NA, NA, N...\n",
      "$ TVHrsDay         <fct> NA, NA, NA, NA, NA, NA, NA, NA, NA, NA, NA, NA, NA...\n",
      "$ CompHrsDay       <fct> NA, NA, NA, NA, NA, NA, NA, NA, NA, NA, NA, NA, NA...\n",
      "$ TVHrsDayChild    <int> NA, 4, NA, 1, NA, NA, NA, NA, 1, NA, 3, NA, 2, NA,...\n",
      "$ CompHrsDayChild  <int> NA, 1, NA, 1, NA, NA, NA, NA, 0, NA, 0, NA, 1, NA,...\n",
      "$ Alcohol12PlusYr  <fct> Yes, NA, NA, NA, No, Yes, Yes, NA, NA, Yes, NA, No...\n",
      "$ AlcoholDay       <int> NA, NA, NA, NA, NA, 19, 2, NA, NA, 1, NA, NA, NA, ...\n",
      "$ AlcoholYear      <int> 0, NA, NA, NA, 0, 48, 20, NA, NA, 52, NA, 0, NA, N...\n",
      "$ SmokeNow         <fct> No, NA, NA, NA, Yes, No, Yes, NA, NA, No, NA, No, ...\n",
      "$ Smoke100         <fct> Yes, NA, NA, NA, Yes, Yes, Yes, NA, NA, Yes, NA, Y...\n",
      "$ SmokeAge         <int> 18, NA, NA, NA, 16, 15, 38, NA, NA, 16, NA, 21, NA...\n",
      "$ Marijuana        <fct> Yes, NA, NA, NA, NA, Yes, Yes, NA, NA, NA, NA, NA,...\n",
      "$ AgeFirstMarij    <int> 17, NA, NA, NA, NA, 10, 18, NA, NA, NA, NA, NA, NA...\n",
      "$ RegularMarij     <fct> No, NA, NA, NA, NA, Yes, No, NA, NA, NA, NA, NA, N...\n",
      "$ AgeRegMarij      <int> NA, NA, NA, NA, NA, 12, NA, NA, NA, NA, NA, NA, NA...\n",
      "$ HardDrugs        <fct> Yes, NA, NA, NA, No, Yes, Yes, NA, NA, NA, NA, NA,...\n",
      "$ SexEver          <fct> Yes, NA, NA, NA, Yes, Yes, Yes, NA, NA, NA, NA, NA...\n",
      "$ SexAge           <int> 16, NA, NA, NA, 15, 9, 12, NA, NA, NA, NA, NA, NA,...\n",
      "$ SexNumPartnLife  <int> 8, NA, NA, NA, 4, 10, 10, NA, NA, NA, NA, NA, NA, ...\n",
      "$ SexNumPartYear   <int> 1, NA, NA, NA, NA, 1, 1, NA, NA, NA, NA, NA, NA, N...\n",
      "$ SameSex          <fct> No, NA, NA, NA, No, No, Yes, NA, NA, NA, NA, NA, N...\n",
      "$ SexOrientation   <fct> Heterosexual, NA, NA, NA, NA, Heterosexual, Hetero...\n",
      "$ WTINT2YR         <dbl> 80100.544, 53901.104, 13953.078, 11664.899, 20090....\n",
      "$ WTMEC2YR         <dbl> 81528.772, 56995.035, 14509.279, 12041.635, 21000....\n",
      "$ SDMVPSU          <int> 1, 2, 1, 2, 2, 1, 2, 2, 2, 1, 1, 1, 2, 2, 1, 1, 1,...\n",
      "$ SDMVSTRA         <int> 83, 79, 84, 86, 75, 88, 85, 86, 88, 77, 86, 79, 84...\n",
      "$ PregnantNow      <fct> NA, NA, NA, NA, NA, NA, NA, NA, NA, NA, NA, NA, NA...\n"
     ]
    },
    {
     "data": {
      "text/html": [
       "<table>\n",
       "<thead><tr><th scope=col>ID</th><th scope=col>SurveyYr</th><th scope=col>Gender</th><th scope=col>Age</th><th scope=col>AgeMonths</th><th scope=col>Race1</th><th scope=col>Race3</th><th scope=col>Education</th><th scope=col>MaritalStatus</th><th scope=col>HHIncome</th><th scope=col>...</th><th scope=col>SexAge</th><th scope=col>SexNumPartnLife</th><th scope=col>SexNumPartYear</th><th scope=col>SameSex</th><th scope=col>SexOrientation</th><th scope=col>WTINT2YR</th><th scope=col>WTMEC2YR</th><th scope=col>SDMVPSU</th><th scope=col>SDMVSTRA</th><th scope=col>PregnantNow</th></tr></thead>\n",
       "<tbody>\n",
       "\t<tr><td>51624         </td><td>2009_10       </td><td>male          </td><td>34            </td><td>409           </td><td>White         </td><td>NA            </td><td>High School   </td><td>Married       </td><td>25000-34999   </td><td>...           </td><td>16            </td><td> 8            </td><td> 1            </td><td>No            </td><td>Heterosexual  </td><td>80100.54      </td><td>81528.77      </td><td>1             </td><td>83            </td><td>NA            </td></tr>\n",
       "\t<tr><td>51625         </td><td>2009_10       </td><td>male          </td><td> 4            </td><td> 49           </td><td>Other         </td><td>NA            </td><td>NA            </td><td>NA            </td><td>20000-24999   </td><td>...           </td><td>NA            </td><td>NA            </td><td>NA            </td><td>NA            </td><td>NA            </td><td>53901.10      </td><td>56995.04      </td><td>2             </td><td>79            </td><td>NA            </td></tr>\n",
       "\t<tr><td>51626         </td><td>2009_10       </td><td>male          </td><td>16            </td><td>202           </td><td>Black         </td><td>NA            </td><td>NA            </td><td>NA            </td><td>45000-54999   </td><td>...           </td><td>NA            </td><td>NA            </td><td>NA            </td><td>NA            </td><td>NA            </td><td>13953.08      </td><td>14509.28      </td><td>1             </td><td>84            </td><td>NA            </td></tr>\n",
       "\t<tr><td>51627         </td><td>2009_10       </td><td>male          </td><td>10            </td><td>131           </td><td>Black         </td><td>NA            </td><td>NA            </td><td>NA            </td><td>20000-24999   </td><td>...           </td><td>NA            </td><td>NA            </td><td>NA            </td><td>NA            </td><td>NA            </td><td>11664.90      </td><td>12041.64      </td><td>2             </td><td>86            </td><td>NA            </td></tr>\n",
       "\t<tr><td>51628         </td><td>2009_10       </td><td>female        </td><td>60            </td><td>722           </td><td>Black         </td><td>NA            </td><td>High School   </td><td>Widowed       </td><td>10000-14999   </td><td>...           </td><td>15            </td><td> 4            </td><td>NA            </td><td>No            </td><td>NA            </td><td>20090.34      </td><td>21000.34      </td><td>2             </td><td>75            </td><td>NA            </td></tr>\n",
       "\t<tr><td>51629         </td><td>2009_10       </td><td>male          </td><td>26            </td><td>313           </td><td>Mexican       </td><td>NA            </td><td>9 - 11th Grade</td><td>Married       </td><td>25000-34999   </td><td>...           </td><td> 9            </td><td>10            </td><td> 1            </td><td>No            </td><td>Heterosexual  </td><td>22537.83      </td><td>22633.58      </td><td>1             </td><td>88            </td><td>NA            </td></tr>\n",
       "</tbody>\n",
       "</table>\n"
      ],
      "text/latex": [
       "\\begin{tabular}{r|llllllllllllllllllllllllllllllllllllllllllllllllllllllllllllllllllllllllllllll}\n",
       " ID & SurveyYr & Gender & Age & AgeMonths & Race1 & Race3 & Education & MaritalStatus & HHIncome & ... & SexAge & SexNumPartnLife & SexNumPartYear & SameSex & SexOrientation & WTINT2YR & WTMEC2YR & SDMVPSU & SDMVSTRA & PregnantNow\\\\\n",
       "\\hline\n",
       "\t 51624          & 2009\\_10      & male           & 34             & 409            & White          & NA             & High School    & Married        & 25000-34999    & ...            & 16             &  8             &  1             & No             & Heterosexual   & 80100.54       & 81528.77       & 1              & 83             & NA            \\\\\n",
       "\t 51625          & 2009\\_10      & male           &  4             &  49            & Other          & NA             & NA             & NA             & 20000-24999    & ...            & NA             & NA             & NA             & NA             & NA             & 53901.10       & 56995.04       & 2              & 79             & NA            \\\\\n",
       "\t 51626          & 2009\\_10      & male           & 16             & 202            & Black          & NA             & NA             & NA             & 45000-54999    & ...            & NA             & NA             & NA             & NA             & NA             & 13953.08       & 14509.28       & 1              & 84             & NA            \\\\\n",
       "\t 51627          & 2009\\_10      & male           & 10             & 131            & Black          & NA             & NA             & NA             & 20000-24999    & ...            & NA             & NA             & NA             & NA             & NA             & 11664.90       & 12041.64       & 2              & 86             & NA            \\\\\n",
       "\t 51628          & 2009\\_10      & female         & 60             & 722            & Black          & NA             & High School    & Widowed        & 10000-14999    & ...            & 15             &  4             & NA             & No             & NA             & 20090.34       & 21000.34       & 2              & 75             & NA            \\\\\n",
       "\t 51629          & 2009\\_10      & male           & 26             & 313            & Mexican        & NA             & 9 - 11th Grade & Married        & 25000-34999    & ...            &  9             & 10             &  1             & No             & Heterosexual   & 22537.83       & 22633.58       & 1              & 88             & NA            \\\\\n",
       "\\end{tabular}\n"
      ],
      "text/markdown": [
       "\n",
       "| ID | SurveyYr | Gender | Age | AgeMonths | Race1 | Race3 | Education | MaritalStatus | HHIncome | ... | SexAge | SexNumPartnLife | SexNumPartYear | SameSex | SexOrientation | WTINT2YR | WTMEC2YR | SDMVPSU | SDMVSTRA | PregnantNow |\n",
       "|---|---|---|---|---|---|---|---|---|---|---|---|---|---|---|---|---|---|---|---|---|\n",
       "| 51624          | 2009_10        | male           | 34             | 409            | White          | NA             | High School    | Married        | 25000-34999    | ...            | 16             |  8             |  1             | No             | Heterosexual   | 80100.54       | 81528.77       | 1              | 83             | NA             |\n",
       "| 51625          | 2009_10        | male           |  4             |  49            | Other          | NA             | NA             | NA             | 20000-24999    | ...            | NA             | NA             | NA             | NA             | NA             | 53901.10       | 56995.04       | 2              | 79             | NA             |\n",
       "| 51626          | 2009_10        | male           | 16             | 202            | Black          | NA             | NA             | NA             | 45000-54999    | ...            | NA             | NA             | NA             | NA             | NA             | 13953.08       | 14509.28       | 1              | 84             | NA             |\n",
       "| 51627          | 2009_10        | male           | 10             | 131            | Black          | NA             | NA             | NA             | 20000-24999    | ...            | NA             | NA             | NA             | NA             | NA             | 11664.90       | 12041.64       | 2              | 86             | NA             |\n",
       "| 51628          | 2009_10        | female         | 60             | 722            | Black          | NA             | High School    | Widowed        | 10000-14999    | ...            | 15             |  4             | NA             | No             | NA             | 20090.34       | 21000.34       | 2              | 75             | NA             |\n",
       "| 51629          | 2009_10        | male           | 26             | 313            | Mexican        | NA             | 9 - 11th Grade | Married        | 25000-34999    | ...            |  9             | 10             |  1             | No             | Heterosexual   | 22537.83       | 22633.58       | 1              | 88             | NA             |\n",
       "\n"
      ],
      "text/plain": [
       "  ID    SurveyYr Gender Age AgeMonths Race1   Race3 Education     \n",
       "1 51624 2009_10  male   34  409       White   NA    High School   \n",
       "2 51625 2009_10  male    4   49       Other   NA    NA            \n",
       "3 51626 2009_10  male   16  202       Black   NA    NA            \n",
       "4 51627 2009_10  male   10  131       Black   NA    NA            \n",
       "5 51628 2009_10  female 60  722       Black   NA    High School   \n",
       "6 51629 2009_10  male   26  313       Mexican NA    9 - 11th Grade\n",
       "  MaritalStatus HHIncome    ... SexAge SexNumPartnLife SexNumPartYear SameSex\n",
       "1 Married       25000-34999 ... 16      8               1             No     \n",
       "2 NA            20000-24999 ... NA     NA              NA             NA     \n",
       "3 NA            45000-54999 ... NA     NA              NA             NA     \n",
       "4 NA            20000-24999 ... NA     NA              NA             NA     \n",
       "5 Widowed       10000-14999 ... 15      4              NA             No     \n",
       "6 Married       25000-34999 ...  9     10               1             No     \n",
       "  SexOrientation WTINT2YR WTMEC2YR SDMVPSU SDMVSTRA PregnantNow\n",
       "1 Heterosexual   80100.54 81528.77 1       83       NA         \n",
       "2 NA             53901.10 56995.04 2       79       NA         \n",
       "3 NA             13953.08 14509.28 1       84       NA         \n",
       "4 NA             11664.90 12041.64 2       86       NA         \n",
       "5 NA             20090.34 21000.34 2       75       NA         \n",
       "6 Heterosexual   22537.83 22633.58 1       88       NA         "
      ]
     },
     "metadata": {},
     "output_type": "display_data"
    }
   ],
   "source": [
    "# Load the NHANES and dplyr packages\n",
    "# install.packages('NHANES')\n",
    "library(NHANES)\n",
    "library(dplyr)\n",
    "\n",
    "# Load the NHANESraw data\n",
    "data(\"NHANESraw\")\n",
    "glimpse(NHANESraw)\n",
    "head(NHANESraw)"
   ]
  },
  {
   "cell_type": "code",
   "execution_count": 4,
   "id": "cleared-domestic",
   "metadata": {},
   "outputs": [
    {
     "data": {
      "text/html": [
       "<table>\n",
       "<thead><tr><th scope=col>sum(WTMEC4YR)</th></tr></thead>\n",
       "<tbody>\n",
       "\t<tr><td>304267200</td></tr>\n",
       "</tbody>\n",
       "</table>\n"
      ],
      "text/latex": [
       "\\begin{tabular}{r|l}\n",
       " sum(WTMEC4YR)\\\\\n",
       "\\hline\n",
       "\t 304267200\\\\\n",
       "\\end{tabular}\n"
      ],
      "text/markdown": [
       "\n",
       "| sum(WTMEC4YR) |\n",
       "|---|\n",
       "| 304267200 |\n",
       "\n"
      ],
      "text/plain": [
       "  sum(WTMEC4YR)\n",
       "1 304267200    "
      ]
     },
     "metadata": {},
     "output_type": "display_data"
    },
    {
     "data": {
      "image/png": "[encoded data removed]",
      "text/plain": [
       "plot without title"
      ]
     },
     "metadata": {},
     "output_type": "display_data"
    }
   ],
   "source": [
    "# Load the ggplot2 package\n",
    "library(ggplot2)\n",
    "# Create a 4-year weight variable and call it WTMEC4YR\n",
    "# Since NHANESraw data spans 4 years (2009–2012) and the sampling weights are based on 2 years of data.\n",
    "NHANESraw <- NHANESraw %>% mutate(WTMEC4YR = WTMEC2YR/2)\n",
    "# Calculate the sum of this weight variable\n",
    "NHANESraw %>% summarize(sum(WTMEC4YR))\n",
    "\n",
    "# Plot (weights using boxplots ~ Race1)\n",
    "NHANESraw %>% \n",
    "   ggplot(aes(x = Race1, y = WTMEC4YR)) + geom_boxplot()\n",
    "options(repr.plot.width = 4, repr.plot.height = 4)"
   ]
  },
  {
   "cell_type": "code",
   "execution_count": 6,
   "id": "sacred-weekly",
   "metadata": {},
   "outputs": [
    {
     "data": {
      "text/plain": [
       "Stratified 1 - level Cluster Sampling design (with replacement)\n",
       "With (62) clusters.\n",
       "svydesign(data = NHANESraw, strata = ~SDMVSTRA, id = ~SDMVPSU, \n",
       "    nest = TRUE, weights = ~WTMEC4YR)\n",
       "Probabilities:\n",
       "     Min.   1st Qu.    Median      Mean   3rd Qu.      Max. \n",
       "8.986e-06 5.664e-05 1.054e-04       Inf 1.721e-04       Inf \n",
       "Stratum Sizes: \n",
       "            75  76  77  78  79  80  81  82  83  84  85  86  87  88  89  90  91\n",
       "obs        803 785 823 829 696 751 696 724 713 683 592 946 598 647 251 862 998\n",
       "design.PSU   2   2   2   2   2   2   2   2   2   2   2   3   2   2   2   3   3\n",
       "actual.PSU   2   2   2   2   2   2   2   2   2   2   2   3   2   2   2   3   3\n",
       "            92  93  94  95  96  97  98  99 100 101 102 103\n",
       "obs        875 602 688 722 676 608 708 682 700 715 624 296\n",
       "design.PSU   3   2   2   2   2   2   2   2   2   2   2   2\n",
       "actual.PSU   3   2   2   2   2   2   2   2   2   2   2   2\n",
       "Data variables:\n",
       " [1] \"ID\"               \"SurveyYr\"         \"Gender\"           \"Age\"             \n",
       " [5] \"AgeMonths\"        \"Race1\"            \"Race3\"            \"Education\"       \n",
       " [9] \"MaritalStatus\"    \"HHIncome\"         \"HHIncomeMid\"      \"Poverty\"         \n",
       "[13] \"HomeRooms\"        \"HomeOwn\"          \"Work\"             \"Weight\"          \n",
       "[17] \"Length\"           \"HeadCirc\"         \"Height\"           \"BMI\"             \n",
       "[21] \"BMICatUnder20yrs\" \"BMI_WHO\"          \"Pulse\"            \"BPSysAve\"        \n",
       "[25] \"BPDiaAve\"         \"BPSys1\"           \"BPDia1\"           \"BPSys2\"          \n",
       "[29] \"BPDia2\"           \"BPSys3\"           \"BPDia3\"           \"Testosterone\"    \n",
       "[33] \"DirectChol\"       \"TotChol\"          \"UrineVol1\"        \"UrineFlow1\"      \n",
       "[37] \"UrineVol2\"        \"UrineFlow2\"       \"Diabetes\"         \"DiabetesAge\"     \n",
       "[41] \"HealthGen\"        \"DaysPhysHlthBad\"  \"DaysMentHlthBad\"  \"LittleInterest\"  \n",
       "[45] \"Depressed\"        \"nPregnancies\"     \"nBabies\"          \"Age1stBaby\"      \n",
       "[49] \"SleepHrsNight\"    \"SleepTrouble\"     \"PhysActive\"       \"PhysActiveDays\"  \n",
       "[53] \"TVHrsDay\"         \"CompHrsDay\"       \"TVHrsDayChild\"    \"CompHrsDayChild\" \n",
       "[57] \"Alcohol12PlusYr\"  \"AlcoholDay\"       \"AlcoholYear\"      \"SmokeNow\"        \n",
       "[61] \"Smoke100\"         \"SmokeAge\"         \"Marijuana\"        \"AgeFirstMarij\"   \n",
       "[65] \"RegularMarij\"     \"AgeRegMarij\"      \"HardDrugs\"        \"SexEver\"         \n",
       "[69] \"SexAge\"           \"SexNumPartnLife\"  \"SexNumPartYear\"   \"SameSex\"         \n",
       "[73] \"SexOrientation\"   \"WTINT2YR\"         \"WTMEC2YR\"         \"SDMVPSU\"         \n",
       "[77] \"SDMVSTRA\"         \"PregnantNow\"      \"WTMEC4YR\"        "
      ]
     },
     "metadata": {},
     "output_type": "display_data"
    }
   ],
   "source": [
    "# Load the survey package\n",
    "#install.packages('survey')\n",
    "library(survey)\n",
    "library(grid)\n",
    "library(Matrix)\n",
    "# Specify the survey design\n",
    "nhanes_design <- svydesign(data = NHANESraw, strata = ~SDMVSTRA, id = ~SDMVPSU, \n",
    "                           nest = TRUE, weights = ~WTMEC4YR)\n",
    "\n",
    "# design has only two PSUs per stratum, PSU: primary sampling unit\n",
    "# SDMVPSU accounts for design effects of clustering. There clusters(PSU) are nested within strata.\n",
    "summary(nhanes_design)"
   ]
  },
  {
   "cell_type": "code",
   "execution_count": 7,
   "id": "eleven-desire",
   "metadata": {},
   "outputs": [
    {
     "data": {
      "text/plain": [
       "Stratified 1 - level Cluster Sampling design (with replacement)\n",
       "With (62) clusters.\n",
       "subset(nhanes_design, Age >= 20)\n",
       "Probabilities:\n",
       "     Min.   1st Qu.    Median      Mean   3rd Qu.      Max. \n",
       "8.986e-06 4.303e-05 8.107e-05       Inf 1.240e-04       Inf \n",
       "Stratum Sizes: \n",
       "            75  76  77  78  79  80  81  82  83  84  85  86  87  88  89  90  91\n",
       "obs        471 490 526 500 410 464 447 400 411 395 357 512 327 355 153 509 560\n",
       "design.PSU   2   2   2   2   2   2   2   2   2   2   2   3   2   2   2   3   3\n",
       "actual.PSU   2   2   2   2   2   2   2   2   2   2   2   3   2   2   2   3   3\n",
       "            92  93  94  95  96  97  98  99 100 101 102 103\n",
       "obs        483 376 368 454 362 315 414 409 377 460 308 165\n",
       "design.PSU   3   2   2   2   2   2   2   2   2   2   2   2\n",
       "actual.PSU   3   2   2   2   2   2   2   2   2   2   2   2\n",
       "Data variables:\n",
       " [1] \"ID\"               \"SurveyYr\"         \"Gender\"           \"Age\"             \n",
       " [5] \"AgeMonths\"        \"Race1\"            \"Race3\"            \"Education\"       \n",
       " [9] \"MaritalStatus\"    \"HHIncome\"         \"HHIncomeMid\"      \"Poverty\"         \n",
       "[13] \"HomeRooms\"        \"HomeOwn\"          \"Work\"             \"Weight\"          \n",
       "[17] \"Length\"           \"HeadCirc\"         \"Height\"           \"BMI\"             \n",
       "[21] \"BMICatUnder20yrs\" \"BMI_WHO\"          \"Pulse\"            \"BPSysAve\"        \n",
       "[25] \"BPDiaAve\"         \"BPSys1\"           \"BPDia1\"           \"BPSys2\"          \n",
       "[29] \"BPDia2\"           \"BPSys3\"           \"BPDia3\"           \"Testosterone\"    \n",
       "[33] \"DirectChol\"       \"TotChol\"          \"UrineVol1\"        \"UrineFlow1\"      \n",
       "[37] \"UrineVol2\"        \"UrineFlow2\"       \"Diabetes\"         \"DiabetesAge\"     \n",
       "[41] \"HealthGen\"        \"DaysPhysHlthBad\"  \"DaysMentHlthBad\"  \"LittleInterest\"  \n",
       "[45] \"Depressed\"        \"nPregnancies\"     \"nBabies\"          \"Age1stBaby\"      \n",
       "[49] \"SleepHrsNight\"    \"SleepTrouble\"     \"PhysActive\"       \"PhysActiveDays\"  \n",
       "[53] \"TVHrsDay\"         \"CompHrsDay\"       \"TVHrsDayChild\"    \"CompHrsDayChild\" \n",
       "[57] \"Alcohol12PlusYr\"  \"AlcoholDay\"       \"AlcoholYear\"      \"SmokeNow\"        \n",
       "[61] \"Smoke100\"         \"SmokeAge\"         \"Marijuana\"        \"AgeFirstMarij\"   \n",
       "[65] \"RegularMarij\"     \"AgeRegMarij\"      \"HardDrugs\"        \"SexEver\"         \n",
       "[69] \"SexAge\"           \"SexNumPartnLife\"  \"SexNumPartYear\"   \"SameSex\"         \n",
       "[73] \"SexOrientation\"   \"WTINT2YR\"         \"WTMEC2YR\"         \"SDMVPSU\"         \n",
       "[77] \"SDMVSTRA\"         \"PregnantNow\"      \"WTMEC4YR\"        "
      ]
     },
     "metadata": {},
     "output_type": "display_data"
    },
    {
     "data": {
      "text/html": [
       "20293"
      ],
      "text/latex": [
       "20293"
      ],
      "text/markdown": [
       "20293"
      ],
      "text/plain": [
       "[1] 20293"
      ]
     },
     "metadata": {},
     "output_type": "display_data"
    },
    {
     "data": {
      "text/html": [
       "11778"
      ],
      "text/latex": [
       "11778"
      ],
      "text/markdown": [
       "11778"
      ],
      "text/plain": [
       "[1] 11778"
      ]
     },
     "metadata": {},
     "output_type": "display_data"
    }
   ],
   "source": [
    "# Select adults of Age >= 20 with subset\n",
    "nhanes_adult <- subset(nhanes_design, Age >= 20)\n",
    "summary(nhanes_adult)\n",
    "\n",
    "# Compare the number of observations in the full data to the adult data\n",
    "nrow(nhanes_design)\n",
    "nrow(nhanes_adult)"
   ]
  },
  {
   "cell_type": "code",
   "execution_count": 11,
   "id": "cheap-referral",
   "metadata": {},
   "outputs": [
    {
     "data": {
      "text/html": [
       "<table>\n",
       "<thead><tr><th scope=col>mean(BMI, na.rm = TRUE)</th></tr></thead>\n",
       "<tbody>\n",
       "\t<tr><td>28.98217</td></tr>\n",
       "</tbody>\n",
       "</table>\n"
      ],
      "text/latex": [
       "\\begin{tabular}{r|l}\n",
       " mean(BMI, na.rm = TRUE)\\\\\n",
       "\\hline\n",
       "\t 28.98217\\\\\n",
       "\\end{tabular}\n"
      ],
      "text/markdown": [
       "\n",
       "| mean(BMI, na.rm = TRUE) |\n",
       "|---|\n",
       "| 28.98217 |\n",
       "\n"
      ],
      "text/plain": [
       "  mean(BMI, na.rm = TRUE)\n",
       "1 28.98217               "
      ]
     },
     "metadata": {},
     "output_type": "display_data"
    },
    {
     "data": {
      "text/plain": [
       "      mean     SE\n",
       "BMI 28.734 0.1235"
      ]
     },
     "metadata": {},
     "output_type": "display_data"
    },
    {
     "name": "stderr",
     "output_type": "stream",
     "text": [
      "`stat_bin()` using `bins = 30`. Pick better value with `binwidth`.\n",
      "Warning message:\n",
      "\"Removed 547 rows containing non-finite values (stat_bin).\""
     ]
    },
    {
     "data": {
      "image/png": "[encoded data removed]",
      "text/plain": [
       "plot without title"
      ]
     },
     "metadata": {},
     "output_type": "display_data"
    }
   ],
   "source": [
    "# To estimate the true distribution of measurements about all US population \n",
    "# Calculate the mean BMI in NHANESraw\n",
    "bmi_mean_raw <- NHANESraw %>% \n",
    "    filter(Age >= 20) %>%\n",
    "    summarize(mean(BMI, na.rm=TRUE))\n",
    "bmi_mean_raw\n",
    "\n",
    "# Calculate the survey-weighted mean BMI of US adults\n",
    "bmi_mean <- svymean(~BMI, design = nhanes_adult, na.rm = TRUE)\n",
    "bmi_mean\n",
    "\n",
    "# Draw a weighted histogram of BMI in the US population\n",
    "NHANESraw %>% \n",
    "  filter(Age >= 20) %>%\n",
    "    ggplot(mapping = aes(x = BMI, weight = WTMEC4YR)) + geom_histogram()+\n",
    "    geom_vline(xintercept = coef(bmi_mean), color=\"yellow\")"
   ]
  },
  {
   "cell_type": "markdown",
   "id": "usual-water",
   "metadata": {},
   "source": [
    "The distribution of BMI looks to be about what we might expect with most people under 40 kg/m2 and a slight positive skewness because a few people have much higher BMI."
   ]
  },
  {
   "cell_type": "code",
   "execution_count": 12,
   "id": "suffering-period",
   "metadata": {},
   "outputs": [
    {
     "name": "stderr",
     "output_type": "stream",
     "text": [
      "Warning message:\n",
      "\"package 'broom' was built under R version 3.6.3\"Warning message:\n",
      "\"Removed 547 rows containing non-finite values (stat_boxplot).\""
     ]
    },
    {
     "data": {
      "text/html": [
       "<table>\n",
       "<thead><tr><th scope=col>estimate</th><th scope=col>statistic</th><th scope=col>p.value</th><th scope=col>parameter</th><th scope=col>conf.low</th><th scope=col>conf.high</th><th scope=col>method</th><th scope=col>alternative</th></tr></thead>\n",
       "<tbody>\n",
       "\t<tr><td>-1.846458          </td><td>-9.716503          </td><td>4.56031e-11        </td><td>32                 </td><td>-2.218916          </td><td>-1.473999          </td><td>Design-based t-test</td><td>two.sided          </td></tr>\n",
       "</tbody>\n",
       "</table>\n"
      ],
      "text/latex": [
       "\\begin{tabular}{r|llllllll}\n",
       " estimate & statistic & p.value & parameter & conf.low & conf.high & method & alternative\\\\\n",
       "\\hline\n",
       "\t -1.846458           & -9.716503           & 4.56031e-11         & 32                  & -2.218916           & -1.473999           & Design-based t-test & two.sided          \\\\\n",
       "\\end{tabular}\n"
      ],
      "text/markdown": [
       "\n",
       "| estimate | statistic | p.value | parameter | conf.low | conf.high | method | alternative |\n",
       "|---|---|---|---|---|---|---|---|\n",
       "| -1.846458           | -9.716503           | 4.56031e-11         | 32                  | -2.218916           | -1.473999           | Design-based t-test | two.sided           |\n",
       "\n"
      ],
      "text/plain": [
       "  estimate  statistic p.value     parameter conf.low  conf.high\n",
       "1 -1.846458 -9.716503 4.56031e-11 32        -2.218916 -1.473999\n",
       "  method              alternative\n",
       "1 Design-based t-test two.sided  "
      ]
     },
     "metadata": {},
     "output_type": "display_data"
    },
    {
     "data": {
      "image/png": "[encoded data removed]",
      "text/plain": [
       "plot without title"
      ]
     },
     "metadata": {},
     "output_type": "display_data"
    }
   ],
   "source": [
    "library(broom)\n",
    "# Make a boxplot\n",
    "NHANESraw %>% \n",
    "  filter(Age>=20) %>%\n",
    "    ggplot(mapping = aes(x = PhysActive, y = BMI, weight = WTMEC4YR)) + \n",
    "    geom_boxplot()\n",
    "\n",
    "# Conduct a t-test comparing mean BMI between physically active status\n",
    "survey_ttest <- svyttest(BMI~PhysActive, design = nhanes_adult)\n",
    "\n",
    "# Use broom to show the tidy results\n",
    "tidy(survey_ttest)"
   ]
  },
  {
   "cell_type": "markdown",
   "id": "least-trail",
   "metadata": {},
   "source": [
    "##  To find what variables are related to smoking."
   ]
  },
  {
   "cell_type": "code",
   "execution_count": 13,
   "id": "vulnerable-recipient",
   "metadata": {},
   "outputs": [
    {
     "data": {
      "text/html": [
       "<table>\n",
       "<thead><tr><th scope=col>SmokeNow</th><th scope=col>PhysActiveNo</th><th scope=col>PhysActiveYes</th><th scope=col>se.PhysActiveNo</th><th scope=col>se.PhysActiveYes</th></tr></thead>\n",
       "<tbody>\n",
       "\t<tr><td>No        </td><td>0.4566990 </td><td>0.5433010 </td><td>0.01738054</td><td>0.01738054</td></tr>\n",
       "\t<tr><td>Yes       </td><td>0.5885421 </td><td>0.4114579 </td><td>0.01163246</td><td>0.01163246</td></tr>\n",
       "</tbody>\n",
       "</table>\n"
      ],
      "text/latex": [
       "\\begin{tabular}{r|lllll}\n",
       " SmokeNow & PhysActiveNo & PhysActiveYes & se.PhysActiveNo & se.PhysActiveYes\\\\\n",
       "\\hline\n",
       "\t No         & 0.4566990  & 0.5433010  & 0.01738054 & 0.01738054\\\\\n",
       "\t Yes        & 0.5885421  & 0.4114579  & 0.01163246 & 0.01163246\\\\\n",
       "\\end{tabular}\n"
      ],
      "text/markdown": [
       "\n",
       "| SmokeNow | PhysActiveNo | PhysActiveYes | se.PhysActiveNo | se.PhysActiveYes |\n",
       "|---|---|---|---|---|\n",
       "| No         | 0.4566990  | 0.5433010  | 0.01738054 | 0.01738054 |\n",
       "| Yes        | 0.5885421  | 0.4114579  | 0.01163246 | 0.01163246 |\n",
       "\n"
      ],
      "text/plain": [
       "  SmokeNow PhysActiveNo PhysActiveYes se.PhysActiveNo se.PhysActiveYes\n",
       "1 No       0.4566990    0.5433010     0.01738054      0.01738054      \n",
       "2 Yes      0.5885421    0.4114579     0.01163246      0.01163246      "
      ]
     },
     "metadata": {},
     "output_type": "display_data"
    },
    {
     "data": {
      "image/png": "[encoded data removed]",
      "text/plain": [
       "plot without title"
      ]
     },
     "metadata": {},
     "output_type": "display_data"
    }
   ],
   "source": [
    "# (1) The relationship between smoking and physical activity.\n",
    "# Estimate the proportion who are physically active by current smoking status\n",
    "phys_by_smoke <- svyby(~PhysActive, by = ~SmokeNow, FUN = svymean, design = \n",
    "                       nhanes_adult, keep.names = FALSE)\n",
    "# Print the table\n",
    "phys_by_smoke\n",
    "\n",
    "# Plot the proportions with y-label\n",
    "ggplot(data = phys_by_smoke, \n",
    "       aes(y = PhysActiveYes, x = SmokeNow, fill = SmokeNow)) +\n",
    "    geom_col() + ylab(\"Proportion Physically Active\")"
   ]
  },
  {
   "cell_type": "code",
   "execution_count": 14,
   "id": "verified-middle",
   "metadata": {},
   "outputs": [
    {
     "data": {
      "text/html": [
       "<table>\n",
       "<thead><tr><th></th><th scope=col>SmokeNow</th><th scope=col>BMI</th><th scope=col>se</th></tr></thead>\n",
       "<tbody>\n",
       "\t<tr><th scope=row>No</th><td>No       </td><td>29.25734 </td><td>0.1915138</td></tr>\n",
       "\t<tr><th scope=row>Yes</th><td>Yes      </td><td>27.74873 </td><td>0.1652377</td></tr>\n",
       "</tbody>\n",
       "</table>\n"
      ],
      "text/latex": [
       "\\begin{tabular}{r|lll}\n",
       "  & SmokeNow & BMI & se\\\\\n",
       "\\hline\n",
       "\tNo & No        & 29.25734  & 0.1915138\\\\\n",
       "\tYes & Yes       & 27.74873  & 0.1652377\\\\\n",
       "\\end{tabular}\n"
      ],
      "text/markdown": [
       "\n",
       "| <!--/--> | SmokeNow | BMI | se |\n",
       "|---|---|---|---|\n",
       "| No | No        | 29.25734  | 0.1915138 |\n",
       "| Yes | Yes       | 27.74873  | 0.1652377 |\n",
       "\n"
      ],
      "text/plain": [
       "    SmokeNow BMI      se       \n",
       "No  No       29.25734 0.1915138\n",
       "Yes Yes      27.74873 0.1652377"
      ]
     },
     "metadata": {},
     "output_type": "display_data"
    },
    {
     "name": "stderr",
     "output_type": "stream",
     "text": [
      "Warning message:\n",
      "\"Removed 244 rows containing non-finite values (stat_boxplot).\""
     ]
    },
    {
     "data": {
      "image/png": "[encoded data removed]",
      "text/plain": [
       "plot without title"
      ]
     },
     "metadata": {},
     "output_type": "display_data"
    }
   ],
   "source": [
    "# Estimate mean BMI by current smoking status\n",
    "BMI_by_smoke <- svyby(~BMI, by = ~SmokeNow, FUN = svymean, design = nhanes_adult, na.rm = TRUE)\n",
    "BMI_by_smoke\n",
    "\n",
    "# Plot the distribution of BMI by current smoking status\n",
    "NHANESraw %>% \n",
    "  filter(Age>=20, !is.na(SmokeNow)) %>%\n",
    "    ggplot(mapping = aes(x = SmokeNow, y = BMI, weight = WTMEC4YR)) + \n",
    "    geom_boxplot()\n",
    "options(repr.plot.width = 4, repr.plot.height = 4)"
   ]
  },
  {
   "cell_type": "code",
   "execution_count": 15,
   "id": "dense-groove",
   "metadata": {},
   "outputs": [
    {
     "name": "stderr",
     "output_type": "stream",
     "text": [
      "Warning message:\n",
      "\"Removed 547 rows containing non-finite values (stat_boxplot).\""
     ]
    },
    {
     "data": {
      "image/png": "[encoded data removed]",
      "text/plain": [
       "plot without title"
      ]
     },
     "metadata": {},
     "output_type": "display_data"
    }
   ],
   "source": [
    "# Plot the distribution of BMI by smoking and physical activity status\n",
    "NHANESraw %>% \n",
    "  filter(Age>=20) %>%\n",
    "    ggplot(mapping = aes(x = SmokeNow, y = BMI, weight = WTMEC4YR, color = PhysActive)) + \n",
    "    geom_boxplot()\n",
    "options(repr.plot.width = 4, repr.plot.height = 4)"
   ]
  },
  {
   "cell_type": "markdown",
   "id": "checked-garbage",
   "metadata": {},
   "source": [
    "### Incorporate possible confounding in the model."
   ]
  },
  {
   "cell_type": "code",
   "execution_count": 16,
   "id": "popular-explosion",
   "metadata": {},
   "outputs": [
    {
     "data": {
      "text/html": [
       "<table>\n",
       "<thead><tr><th scope=col>term</th><th scope=col>estimate</th><th scope=col>std.error</th><th scope=col>statistic</th><th scope=col>p.value</th></tr></thead>\n",
       "<tbody>\n",
       "\t<tr><td>(Intercept)              </td><td>30.540997                </td><td>0.2098466                </td><td>145.539656               </td><td>2.619435e-44             </td></tr>\n",
       "\t<tr><td>PhysActiveYes            </td><td>-2.350701                </td><td>0.2358895                </td><td> -9.965262               </td><td>4.961177e-11             </td></tr>\n",
       "\t<tr><td>SmokeNowYes              </td><td>-2.238390                </td><td>0.2665632                </td><td> -8.397223               </td><td>2.262528e-09             </td></tr>\n",
       "\t<tr><td>PhysActiveYes:SmokeNowYes</td><td> 1.004490                </td><td>0.3435443                </td><td>  2.923903               </td><td>6.520735e-03             </td></tr>\n",
       "</tbody>\n",
       "</table>\n"
      ],
      "text/latex": [
       "\\begin{tabular}{r|lllll}\n",
       " term & estimate & std.error & statistic & p.value\\\\\n",
       "\\hline\n",
       "\t (Intercept)               & 30.540997                 & 0.2098466                 & 145.539656                & 2.619435e-44             \\\\\n",
       "\t PhysActiveYes             & -2.350701                 & 0.2358895                 &  -9.965262                & 4.961177e-11             \\\\\n",
       "\t SmokeNowYes               & -2.238390                 & 0.2665632                 &  -8.397223                & 2.262528e-09             \\\\\n",
       "\t PhysActiveYes:SmokeNowYes &  1.004490                 & 0.3435443                 &   2.923903                & 6.520735e-03             \\\\\n",
       "\\end{tabular}\n"
      ],
      "text/markdown": [
       "\n",
       "| term | estimate | std.error | statistic | p.value |\n",
       "|---|---|---|---|---|\n",
       "| (Intercept)               | 30.540997                 | 0.2098466                 | 145.539656                | 2.619435e-44              |\n",
       "| PhysActiveYes             | -2.350701                 | 0.2358895                 |  -9.965262                | 4.961177e-11              |\n",
       "| SmokeNowYes               | -2.238390                 | 0.2665632                 |  -8.397223                | 2.262528e-09              |\n",
       "| PhysActiveYes:SmokeNowYes |  1.004490                 | 0.3435443                 |   2.923903                | 6.520735e-03              |\n",
       "\n"
      ],
      "text/plain": [
       "  term                      estimate  std.error statistic  p.value     \n",
       "1 (Intercept)               30.540997 0.2098466 145.539656 2.619435e-44\n",
       "2 PhysActiveYes             -2.350701 0.2358895  -9.965262 4.961177e-11\n",
       "3 SmokeNowYes               -2.238390 0.2665632  -8.397223 2.262528e-09\n",
       "4 PhysActiveYes:SmokeNowYes  1.004490 0.3435443   2.923903 6.520735e-03"
      ]
     },
     "metadata": {},
     "output_type": "display_data"
    },
    {
     "data": {
      "text/html": [
       "<table>\n",
       "<thead><tr><th scope=col>estimate</th></tr></thead>\n",
       "<tbody>\n",
       "\t<tr><td>-2.350701</td></tr>\n",
       "</tbody>\n",
       "</table>\n"
      ],
      "text/latex": [
       "\\begin{tabular}{r|l}\n",
       " estimate\\\\\n",
       "\\hline\n",
       "\t -2.350701\\\\\n",
       "\\end{tabular}\n"
      ],
      "text/markdown": [
       "\n",
       "| estimate |\n",
       "|---|\n",
       "| -2.350701 |\n",
       "\n"
      ],
      "text/plain": [
       "  estimate \n",
       "1 -2.350701"
      ]
     },
     "metadata": {},
     "output_type": "display_data"
    },
    {
     "data": {
      "text/html": [
       "<table>\n",
       "<thead><tr><th scope=col>estimate</th></tr></thead>\n",
       "<tbody>\n",
       "\t<tr><td>-1.346211</td></tr>\n",
       "</tbody>\n",
       "</table>\n"
      ],
      "text/latex": [
       "\\begin{tabular}{r|l}\n",
       " estimate\\\\\n",
       "\\hline\n",
       "\t -1.346211\\\\\n",
       "\\end{tabular}\n"
      ],
      "text/markdown": [
       "\n",
       "| estimate |\n",
       "|---|\n",
       "| -1.346211 |\n",
       "\n"
      ],
      "text/plain": [
       "  estimate \n",
       "1 -1.346211"
      ]
     },
     "metadata": {},
     "output_type": "display_data"
    }
   ],
   "source": [
    "# Fit a multiple regression model\n",
    "mod1 <- svyglm(BMI ~ PhysActive*SmokeNow, design = nhanes_adult)\n",
    "\n",
    "# Tidy the model results\n",
    "tidy_mod1 <- tidy(mod1)\n",
    "tidy_mod1\n",
    "\n",
    "# Calculate expected mean difference in BMI for activity within non-smokers\n",
    "diff_non_smoke <- tidy_mod1 %>% \n",
    "    filter(term==\"PhysActiveYes\") %>% \n",
    "    select(estimate)\n",
    "diff_non_smoke\n",
    "\n",
    "# Calculate expected mean difference in BMI for activity within smokers\n",
    "diff_smoke <- tidy_mod1 %>% \n",
    "    filter(term%in%c(\"PhysActiveYes\",\"PhysActiveYes:SmokeNowYes\")) %>% \n",
    "    summarize(estimate = sum(estimate))\n",
    "diff_smoke"
   ]
  },
  {
   "cell_type": "markdown",
   "id": "premier-illustration",
   "metadata": {},
   "source": [
    " In order to adjust for smoking status, as well as other possible confounders or predictors of BMI, we can use a linear regression model with multiple independent variables. "
   ]
  },
  {
   "cell_type": "code",
   "execution_count": 17,
   "id": "dated-graphics",
   "metadata": {},
   "outputs": [
    {
     "data": {
      "text/html": [
       "<table>\n",
       "<thead><tr><th scope=col>term</th><th scope=col>estimate</th><th scope=col>std.error</th><th scope=col>statistic</th><th scope=col>p.value</th></tr></thead>\n",
       "<tbody>\n",
       "\t<tr><td>(Intercept)              </td><td>33.2378322               </td><td>0.3162940                </td><td>105.0852370              </td><td>1.745688e-33             </td></tr>\n",
       "\t<tr><td>PhysActiveYes            </td><td>-2.1140302               </td><td>0.2729173                </td><td> -7.7460482              </td><td>5.559290e-08             </td></tr>\n",
       "\t<tr><td>SmokeNowYes              </td><td>-2.2266832               </td><td>0.3034114                </td><td> -7.3388252              </td><td>1.402940e-07             </td></tr>\n",
       "\t<tr><td>Race1Hispanic            </td><td>-1.4670407               </td><td>0.4200193                </td><td> -3.4927937              </td><td>1.875493e-03             </td></tr>\n",
       "\t<tr><td>Race1Mexican             </td><td>-0.1909654               </td><td>0.4637845                </td><td> -0.4117546              </td><td>6.841735e-01             </td></tr>\n",
       "\t<tr><td>Race1White               </td><td>-2.0761158               </td><td>0.3200810                </td><td> -6.4862209              </td><td>1.043842e-06             </td></tr>\n",
       "\t<tr><td>Race1Other               </td><td>-3.1050466               </td><td>0.6202084                </td><td> -5.0064570              </td><td>4.089394e-05             </td></tr>\n",
       "\t<tr><td>Alcohol12PlusYrYes       </td><td>-0.8549211               </td><td>0.3575930                </td><td> -2.3907660              </td><td>2.501002e-02             </td></tr>\n",
       "\t<tr><td>Gendermale               </td><td>-0.2557363               </td><td>0.2302174                </td><td> -1.1108470              </td><td>2.776397e-01             </td></tr>\n",
       "\t<tr><td>PhysActiveYes:SmokeNowYes</td><td> 0.7368701               </td><td>0.3874182                </td><td>  1.9020020              </td><td>6.923930e-02             </td></tr>\n",
       "</tbody>\n",
       "</table>\n"
      ],
      "text/latex": [
       "\\begin{tabular}{r|lllll}\n",
       " term & estimate & std.error & statistic & p.value\\\\\n",
       "\\hline\n",
       "\t (Intercept)               & 33.2378322                & 0.3162940                 & 105.0852370               & 1.745688e-33             \\\\\n",
       "\t PhysActiveYes             & -2.1140302                & 0.2729173                 &  -7.7460482               & 5.559290e-08             \\\\\n",
       "\t SmokeNowYes               & -2.2266832                & 0.3034114                 &  -7.3388252               & 1.402940e-07             \\\\\n",
       "\t Race1Hispanic             & -1.4670407                & 0.4200193                 &  -3.4927937               & 1.875493e-03             \\\\\n",
       "\t Race1Mexican              & -0.1909654                & 0.4637845                 &  -0.4117546               & 6.841735e-01             \\\\\n",
       "\t Race1White                & -2.0761158                & 0.3200810                 &  -6.4862209               & 1.043842e-06             \\\\\n",
       "\t Race1Other                & -3.1050466                & 0.6202084                 &  -5.0064570               & 4.089394e-05             \\\\\n",
       "\t Alcohol12PlusYrYes        & -0.8549211                & 0.3575930                 &  -2.3907660               & 2.501002e-02             \\\\\n",
       "\t Gendermale                & -0.2557363                & 0.2302174                 &  -1.1108470               & 2.776397e-01             \\\\\n",
       "\t PhysActiveYes:SmokeNowYes &  0.7368701                & 0.3874182                 &   1.9020020               & 6.923930e-02             \\\\\n",
       "\\end{tabular}\n"
      ],
      "text/markdown": [
       "\n",
       "| term | estimate | std.error | statistic | p.value |\n",
       "|---|---|---|---|---|\n",
       "| (Intercept)               | 33.2378322                | 0.3162940                 | 105.0852370               | 1.745688e-33              |\n",
       "| PhysActiveYes             | -2.1140302                | 0.2729173                 |  -7.7460482               | 5.559290e-08              |\n",
       "| SmokeNowYes               | -2.2266832                | 0.3034114                 |  -7.3388252               | 1.402940e-07              |\n",
       "| Race1Hispanic             | -1.4670407                | 0.4200193                 |  -3.4927937               | 1.875493e-03              |\n",
       "| Race1Mexican              | -0.1909654                | 0.4637845                 |  -0.4117546               | 6.841735e-01              |\n",
       "| Race1White                | -2.0761158                | 0.3200810                 |  -6.4862209               | 1.043842e-06              |\n",
       "| Race1Other                | -3.1050466                | 0.6202084                 |  -5.0064570               | 4.089394e-05              |\n",
       "| Alcohol12PlusYrYes        | -0.8549211                | 0.3575930                 |  -2.3907660               | 2.501002e-02              |\n",
       "| Gendermale                | -0.2557363                | 0.2302174                 |  -1.1108470               | 2.776397e-01              |\n",
       "| PhysActiveYes:SmokeNowYes |  0.7368701                | 0.3874182                 |   1.9020020               | 6.923930e-02              |\n",
       "\n"
      ],
      "text/plain": [
       "   term                      estimate   std.error statistic   p.value     \n",
       "1  (Intercept)               33.2378322 0.3162940 105.0852370 1.745688e-33\n",
       "2  PhysActiveYes             -2.1140302 0.2729173  -7.7460482 5.559290e-08\n",
       "3  SmokeNowYes               -2.2266832 0.3034114  -7.3388252 1.402940e-07\n",
       "4  Race1Hispanic             -1.4670407 0.4200193  -3.4927937 1.875493e-03\n",
       "5  Race1Mexican              -0.1909654 0.4637845  -0.4117546 6.841735e-01\n",
       "6  Race1White                -2.0761158 0.3200810  -6.4862209 1.043842e-06\n",
       "7  Race1Other                -3.1050466 0.6202084  -5.0064570 4.089394e-05\n",
       "8  Alcohol12PlusYrYes        -0.8549211 0.3575930  -2.3907660 2.501002e-02\n",
       "9  Gendermale                -0.2557363 0.2302174  -1.1108470 2.776397e-01\n",
       "10 PhysActiveYes:SmokeNowYes  0.7368701 0.3874182   1.9020020 6.923930e-02"
      ]
     },
     "metadata": {},
     "output_type": "display_data"
    }
   ],
   "source": [
    "# Adjust mod1 for other possible confounders\n",
    "mod2 <- svyglm(BMI ~ PhysActive*SmokeNow + Race1 + Alcohol12PlusYr + Gender, \n",
    "               design = nhanes_adult)\n",
    "# Tidy the output\n",
    "tidy(mod2)"
   ]
  },
  {
   "cell_type": "code",
   "execution_count": null,
   "id": "pretty-harrison",
   "metadata": {},
   "outputs": [],
   "source": []
  },
  {
   "cell_type": "code",
   "execution_count": null,
   "id": "prescription-headline",
   "metadata": {},
   "outputs": [],
   "source": []
  },
  {
   "cell_type": "code",
   "execution_count": null,
   "id": "tired-simple",
   "metadata": {},
   "outputs": [],
   "source": []
  },
  {
   "cell_type": "code",
   "execution_count": null,
   "id": "raised-string",
   "metadata": {},
   "outputs": [],
   "source": []
  }
 ],
 "metadata": {
  "kernelspec": {
   "display_name": "R",
   "language": "R",
   "name": "ir"
  },
  "language_info": {
   "codemirror_mode": "r",
   "file_extension": ".r",
   "mimetype": "text/x-r-source",
   "name": "R",
   "pygments_lexer": "r",
   "version": "3.6.1"
  },
  "varInspector": {
   "cols": {
    "lenName": 16,
    "lenType": 16,
    "lenVar": 40
   },
   "kernels_config": {
    "python": {
     "delete_cmd_postfix": "",
     "delete_cmd_prefix": "del ",
     "library": "var_list.py",
     "varRefreshCmd": "print(var_dic_list())"
    },
    "r": {
     "delete_cmd_postfix": ") ",
     "delete_cmd_prefix": "rm(",
     "library": "var_list.r",
     "varRefreshCmd": "cat(var_dic_list()) "
    }
   },
   "types_to_exclude": [
    "module",
    "function",
    "builtin_function_or_method",
    "instance",
    "_Feature"
   ],
   "window_display": false
  }
 },
 "nbformat": 4,
 "nbformat_minor": 5
}
