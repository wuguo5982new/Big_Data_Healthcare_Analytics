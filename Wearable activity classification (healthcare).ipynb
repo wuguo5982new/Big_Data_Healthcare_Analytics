{
 "cells": [
  {
   "cell_type": "markdown",
   "metadata": {},
   "source": [
    "## Wearable activity classification\n",
    "We build an activity classifier using data from a wrist wearable (PPG dataset). After feature engineering and data exploration analysis (EDA), we optimized the hyperparameters (LOOCV) and created machine learning modeling (random forest), finally evaluated the performance of model."
   ]
  },
  {
   "cell_type": "code",
   "execution_count": 70,
   "metadata": {},
   "outputs": [],
   "source": [
    "import collections\n",
    "import glob\n",
    "import os\n",
    "import numpy as np\n",
    "import pandas as pd\n",
    "import scipy as sp\n",
    "import scipy.signal\n",
    "import scipy.stats\n",
    "from matplotlib import pyplot as plt\n",
    "from sklearn.ensemble import RandomForestClassifier\n",
    "from sklearn.metrics import confusion_matrix\n",
    "from sklearn.model_selection import LeaveOneGroupOut"
   ]
  },
  {
   "cell_type": "code",
   "execution_count": 2,
   "metadata": {},
   "outputs": [
    {
     "data": {
      "text/plain": [
       "['s1_bike_0',\n",
       " 's1_bike_1',\n",
       " 's1_walk',\n",
       " 's2_bike_0',\n",
       " 's2_bike_1',\n",
       " 's2_walk',\n",
       " 's3_bike_0',\n",
       " 's3_bike_1',\n",
       " 's3_run',\n",
       " 's3_walk',\n",
       " 's4_run',\n",
       " 's5_run',\n",
       " 's6_run',\n",
       " 's6_walk',\n",
       " 's8_run',\n",
       " 's8_walk',\n",
       " 's9_walk']"
      ]
     },
     "execution_count": 2,
     "metadata": {},
     "output_type": "execute_result"
    }
   ],
   "source": [
    "### Names of Files\n",
    "fs = 256\n",
    "data_dir = '../../data/'\n",
    "filenames = [os.path.splitext(f)[0] for f in sorted(os.listdir(data_dir))]\n",
    "filenames"
   ]
  },
  {
   "cell_type": "code",
   "execution_count": 3,
   "metadata": {},
   "outputs": [
    {
     "data": {
      "text/plain": [
       "{'bike': 3, 'walk': 6, 'run': 5}"
      ]
     },
     "execution_count": 3,
     "metadata": {},
     "output_type": "execute_result"
    }
   ],
   "source": [
    "### Class of activities\n",
    "subjects_per_class = collections.defaultdict(set)\n",
    "for f in filenames:\n",
    "    subject = f.split('_')[0]\n",
    "    activity = f.split('_')[1]\n",
    "    subjects_per_class[activity].add(subject)\n",
    "{k: len(v) for k, v in subjects_per_class.items()}"
   ]
  },
  {
   "cell_type": "markdown",
   "metadata": {},
   "source": [
    "### Load data"
   ]
  },
  {
   "cell_type": "code",
   "execution_count": 4,
   "metadata": {},
   "outputs": [
    {
     "data": {
      "text/html": [
       "<div>\n",
       "<style scoped>\n",
       "    .dataframe tbody tr th:only-of-type {\n",
       "        vertical-align: middle;\n",
       "    }\n",
       "\n",
       "    .dataframe tbody tr th {\n",
       "        vertical-align: top;\n",
       "    }\n",
       "\n",
       "    .dataframe thead th {\n",
       "        text-align: right;\n",
       "    }\n",
       "</style>\n",
       "<table border=\"1\" class=\"dataframe\">\n",
       "  <thead>\n",
       "    <tr style=\"text-align: right;\">\n",
       "      <th></th>\n",
       "      <th>accx</th>\n",
       "      <th>accy</th>\n",
       "      <th>accz</th>\n",
       "    </tr>\n",
       "  </thead>\n",
       "  <tbody>\n",
       "    <tr>\n",
       "      <th>0</th>\n",
       "      <td>3.791152</td>\n",
       "      <td>-9.329793</td>\n",
       "      <td>1.622757</td>\n",
       "    </tr>\n",
       "    <tr>\n",
       "      <th>1</th>\n",
       "      <td>3.791152</td>\n",
       "      <td>-9.329285</td>\n",
       "      <td>1.646969</td>\n",
       "    </tr>\n",
       "    <tr>\n",
       "      <th>2</th>\n",
       "      <td>3.791366</td>\n",
       "      <td>-9.304383</td>\n",
       "      <td>1.695834</td>\n",
       "    </tr>\n",
       "    <tr>\n",
       "      <th>3</th>\n",
       "      <td>3.767274</td>\n",
       "      <td>-9.267029</td>\n",
       "      <td>1.732482</td>\n",
       "    </tr>\n",
       "    <tr>\n",
       "      <th>4</th>\n",
       "      <td>3.780279</td>\n",
       "      <td>-9.194481</td>\n",
       "      <td>1.770231</td>\n",
       "    </tr>\n",
       "  </tbody>\n",
       "</table>\n",
       "</div>"
      ],
      "text/plain": [
       "       accx      accy      accz\n",
       "0  3.791152 -9.329793  1.622757\n",
       "1  3.791152 -9.329285  1.646969\n",
       "2  3.791366 -9.304383  1.695834\n",
       "3  3.767274 -9.267029  1.732482\n",
       "4  3.780279 -9.194481  1.770231"
      ]
     },
     "execution_count": 4,
     "metadata": {},
     "output_type": "execute_result"
    }
   ],
   "source": [
    "data = []\n",
    "for f in filenames:\n",
    "    subject = f.split('_')[0]\n",
    "    activity = f.split('_')[1]\n",
    "    path = os.path.join(data_dir, f + '.csv')\n",
    "    df = pd.read_csv(path)\n",
    "    df = df.loc[: df.last_valid_index()]\n",
    "    data.append((subject, activity, df))\n",
    "df.head()"
   ]
  },
  {
   "cell_type": "code",
   "execution_count": 5,
   "metadata": {},
   "outputs": [
    {
     "data": {
      "image/png": "[encoded data removed]",
      "text/plain": [
       "<Figure size 288x432 with 1 Axes>"
      ]
     },
     "metadata": {
      "needs_background": "light"
     },
     "output_type": "display_data"
    }
   ],
   "source": [
    "# Plot number of datapoints per class\n",
    "samples_per_class = collections.defaultdict(int)\n",
    "for subject, activity, df in data:\n",
    "    samples_per_class[activity] += len(df)\n",
    "    \n",
    "activity, n_samples = list(zip(*samples_per_class.items()))\n",
    "plt.figure(figsize=(4, 6))\n",
    "plt.bar(range(3), n_samples)\n",
    "plt.xticks(range(3), activity);"
   ]
  },
  {
   "cell_type": "code",
   "execution_count": 6,
   "metadata": {},
   "outputs": [
    {
     "data": {
      "image/png": "[encoded data removed]",
      "text/plain": [
       "<Figure size 432x288 with 1 Axes>"
      ]
     },
     "metadata": {
      "needs_background": "light"
     },
     "output_type": "display_data"
    }
   ],
   "source": [
    "# Plot raw data\n",
    "for subject, activity, df in sorted(data, key=lambda x: x[1]):\n",
    "    ts = np.arange(len(df)) / fs\n",
    "    plt.clf()\n",
    "    plt.plot(ts, df.accx, label='x')\n",
    "    plt.plot(ts, df.accy, label='y')\n",
    "    plt.plot(ts, df.accz, label='z')\n",
    "    plt.title('{}_{}'.format(subject, activity))\n",
    "    plt.legend()\n",
    "    plt.ylim((-20, 20)) \n",
    "    plt.draw()"
   ]
  },
  {
   "cell_type": "markdown",
   "metadata": {},
   "source": [
    "### Feature Extraction "
   ]
  },
  {
   "cell_type": "code",
   "execution_count": 7,
   "metadata": {},
   "outputs": [],
   "source": [
    "def LowpassFilter(signal, fs):\n",
    "    b, a = sp.signal.butter(3, 12, btype='lowpass', fs=fs)\n",
    "    return sp.signal.filtfilt(b, a, signal)"
   ]
  },
  {
   "cell_type": "code",
   "execution_count": 8,
   "metadata": {},
   "outputs": [],
   "source": [
    "def Featurize(accx, accy, accz, fs):   \n",
    "    accx = LowpassFilter(accx, fs)     # x-channel of the accelerometer.\n",
    "    accy = LowpassFilter(accy, fs)     # y-channel of the accelerometer.\n",
    "    accz = LowpassFilter(accz, fs)     # z-channel of the accelerometer.\n",
    "\n",
    "    mn_x = np.mean(accx)               # mean of the x-channel\n",
    "    std_x = np.std(accx)               # standard deviation of the x-channel\n",
    "    p5_x = np.percentile(accx, 5)      # 5th percentile of the x-channel\n",
    "    corr_xy = sp.stats.pearsonr(accx, accy)[0]   # pearson correlation coefficient between the x and y channels\n",
    "    energy_x = np.sum(np.square(accx - np.mean(accx)))  # np.var(accx) * len(accx)\n",
    "        \n",
    "    fft_len = max(len(accx), 2046)     # Take an FFT of the signal. \n",
    "    freqs = np.fft.rfftfreq(fft_len, 1 / fs)  # Create an array of frequency bins\n",
    "    fft_x = np.fft.rfft(accx - np.mean(accx), fft_len)  # Take an FFT of the centered signal\n",
    "    low_freqs = (freqs >= 0.25) & (freqs <= 12)         # frequency with the most power between 0.25 and 12 Hz\n",
    "    dominant_frequency_x = freqs[low_freqs][np.argmax(np.abs(fft_x)[low_freqs])]\n",
    "\n",
    "    # The fraction of energy between 2 and 3 Hz in the x-channel\n",
    "    spectral_energy_x = np.square(np.abs(fft_x))\n",
    "    energy_23_x = (np.sum(spectral_energy_x[(freqs >= 2) & (freqs <= 3)])\n",
    "                   / np.sum(spectral_energy_x))    \n",
    "    return (mn_x, std_x,p5_x,corr_xy,energy_x,dominant_frequency_x,energy_23_x)"
   ]
  },
  {
   "cell_type": "code",
   "execution_count": 45,
   "metadata": {},
   "outputs": [
    {
     "name": "stdout",
     "output_type": "stream",
     "text": [
      "(611, 55) (611,) (611,)\n"
     ]
    }
   ],
   "source": [
    "def GenerateFeatures(data, fs, window_length_s, window_shift_s):\n",
    "  window_length = window_length_s * fs      #  window_length_s: (number) The length of the window in seconds\n",
    "  window_shift = window_shift_s * fs        #  window_shift_s: (number) The amount to shift the window by\n",
    "  labels, subjects, features = [], [], []\n",
    "  for subject, activity, df in data:\n",
    "    for i in range(0, len(df) - window_length, window_shift):\n",
    "      window = df[i: i + window_length]\n",
    "      accx = window.accx.values\n",
    "      accy = window.accy.values\n",
    "      accz = window.accz.values\n",
    "      features.append(activity_classifier_utils.Featurize(accx, accy, accz, fs=fs))    # o\n",
    "      labels.append(activity)\n",
    "      subjects.append(subject)\n",
    "  labels = np.array(labels)\n",
    "  subjects = np.array(subjects)\n",
    "  features = np.array(features)\n",
    "  return labels, subjects, features\n",
    "\n",
    "labels, subjects, features = GenerateFeatures(data,fs,window_length_s=10,window_shift_s=10)\n",
    "print(features.shape, labels.shape, subjects.shape)"
   ]
  },
  {
   "cell_type": "markdown",
   "metadata": {},
   "source": [
    "### Hyperparameter Tuning (Leave-One-Out Cross Validation)"
   ]
  },
  {
   "cell_type": "code",
   "execution_count": 46,
   "metadata": {},
   "outputs": [
    {
     "data": {
      "text/html": [
       "<div>\n",
       "<style scoped>\n",
       "    .dataframe tbody tr th:only-of-type {\n",
       "        vertical-align: middle;\n",
       "    }\n",
       "\n",
       "    .dataframe tbody tr th {\n",
       "        vertical-align: top;\n",
       "    }\n",
       "\n",
       "    .dataframe thead th {\n",
       "        text-align: right;\n",
       "    }\n",
       "</style>\n",
       "<table border=\"1\" class=\"dataframe\">\n",
       "  <thead>\n",
       "    <tr style=\"text-align: right;\">\n",
       "      <th></th>\n",
       "      <th>n_estimators</th>\n",
       "      <th>max_tree_depth</th>\n",
       "      <th>accuracy</th>\n",
       "    </tr>\n",
       "  </thead>\n",
       "  <tbody>\n",
       "    <tr>\n",
       "      <th>0</th>\n",
       "      <td>2</td>\n",
       "      <td>2</td>\n",
       "      <td>0.787234</td>\n",
       "    </tr>\n",
       "    <tr>\n",
       "      <th>1</th>\n",
       "      <td>2</td>\n",
       "      <td>3</td>\n",
       "      <td>0.605565</td>\n",
       "    </tr>\n",
       "    <tr>\n",
       "      <th>2</th>\n",
       "      <td>2</td>\n",
       "      <td>4</td>\n",
       "      <td>0.687398</td>\n",
       "    </tr>\n",
       "    <tr>\n",
       "      <th>3</th>\n",
       "      <td>2</td>\n",
       "      <td>5</td>\n",
       "      <td>0.656301</td>\n",
       "    </tr>\n",
       "    <tr>\n",
       "      <th>4</th>\n",
       "      <td>2</td>\n",
       "      <td>6</td>\n",
       "      <td>0.815057</td>\n",
       "    </tr>\n",
       "  </tbody>\n",
       "</table>\n",
       "</div>"
      ],
      "text/plain": [
       "   n_estimators  max_tree_depth  accuracy\n",
       "0             2               2  0.787234\n",
       "1             2               3  0.605565\n",
       "2             2               4  0.687398\n",
       "3             2               5  0.656301\n",
       "4             2               6  0.815057"
      ]
     },
     "execution_count": 46,
     "metadata": {},
     "output_type": "execute_result"
    }
   ],
   "source": [
    "# leave-one-subject-out cross validation. \n",
    "n_estimators_opt = [2, 10, 20, 50, 100, 150, 300]\n",
    "max_tree_depth_opt = range(2, 7)\n",
    "class_names = np.array(['bike', 'run', 'walk'])\n",
    "logo = LeaveOneGroupOut()               \n",
    "accuracy_table = []\n",
    "\n",
    "import itertools\n",
    "for n_estimators, max_tree_depth in itertools.product(n_estimators_opt, max_tree_depth_opt):    \n",
    "    cm = np.zeros((3, 3), dtype='int')                     # Iterate over each pair of hyperparameters                     \n",
    "    clf = RandomForestClassifier(n_estimators=n_estimators,  \n",
    "                                 max_depth=max_tree_depth,   \n",
    "                                 random_state=42,\n",
    "                                 class_weight='balanced')\n",
    "    for train_ind, test_ind in logo.split(features, labels, subjects):  # leave-one-subject-out cross validation.        \n",
    "        X_train, y_train = features[train_ind], labels[train_ind]\n",
    "        X_test, y_test = features[test_ind], labels[test_ind]\n",
    "        clf.fit(X_train, y_train)\n",
    "        y_pred = clf.predict(X_test)\n",
    "        c = confusion_matrix(y_test, y_pred, labels=class_names)\n",
    "        cm += c\n",
    "    classification_accuracy = np.sum(np.diag(cm)) / np.sum(np.sum(cm))\n",
    "    accuracy_table.append((n_estimators, max_tree_depth, classification_accuracy))\n",
    "    \n",
    "accuracy_table_df = pd.DataFrame(accuracy_table, columns=['n_estimators', 'max_tree_depth', 'accuracy'])\n",
    "accuracy_table_df.head()"
   ]
  },
  {
   "cell_type": "code",
   "execution_count": 47,
   "metadata": {},
   "outputs": [
    {
     "data": {
      "text/plain": [
       "n_estimators      150.000000\n",
       "max_tree_depth      2.000000\n",
       "accuracy            0.893617\n",
       "Name: 25, dtype: float64"
      ]
     },
     "execution_count": 47,
     "metadata": {},
     "output_type": "execute_result"
    }
   ],
   "source": [
    "accuracy_table_df.loc[accuracy_table_df.accuracy.idxmax()]"
   ]
  },
  {
   "cell_type": "code",
   "execution_count": 48,
   "metadata": {},
   "outputs": [],
   "source": [
    "def LOSOCVPerformance(features, labels, subjects, clf):\n",
    "  class_names = ['bike', 'walk', 'run']\n",
    "  logo = LeaveOneGroupOut()\n",
    "  cm = np.zeros((3, 3), dtype='int')\n",
    "  for train_ind, test_ind in logo.split(features, labels, subjects):\n",
    "    X_train, y_train = features[train_ind], labels[train_ind]\n",
    "    X_test, y_test = features[test_ind], labels[test_ind]\n",
    "    clf.fit(X_train, y_train)\n",
    "    y_pred = clf.predict(X_test)\n",
    "    c = confusion_matrix(y_test, y_pred, labels=class_names)\n",
    "    cm += c\n",
    "  return cm"
   ]
  },
  {
   "cell_type": "code",
   "execution_count": 49,
   "metadata": {},
   "outputs": [],
   "source": [
    "# Plot \n",
    "def PlotConfusionMatrix(cm, classes,normalize=False,title=None,cmap=plt.cm.Blues):\n",
    "    if not title:\n",
    "        if normalize:\n",
    "            title = 'Normalized confusion matrix'\n",
    "        else:\n",
    "            title = 'Confusion matrix, without normalization'\n",
    "    if normalize:\n",
    "        cm = cm.astype('float') / cm.sum(axis=1)[:, np.newaxis]\n",
    "        print(\"Normalized confusion matrix\")\n",
    "    else:\n",
    "        print('Confusion matrix, without normalization')\n",
    "    print(cm)\n",
    "    fig = plt.figure(figsize=(8, 5))\n",
    "    im = plt.imshow(cm, interpolation='nearest', cmap=cmap)\n",
    "    ax = fig.get_axes()[0]\n",
    "    ax.figure.colorbar(im, ax=ax)\n",
    "    # We want to show all ticks...\n",
    "    ax.set(xticks=np.arange(cm.shape[1]),\n",
    "           yticks=np.arange(cm.shape[0]),\n",
    "           xticklabels=classes, yticklabels=classes,\n",
    "           xlim=(-.5, len(classes) - .5),\n",
    "           ylim=(len(classes) - .5, -.5),\n",
    "           title=title,\n",
    "           ylabel='True label',\n",
    "           xlabel='Predicted label')\n",
    "\n",
    "    # Rotate the tick labels.\n",
    "    plt.setp(ax.get_xticklabels(), rotation=45, ha=\"right\", rotation_mode=\"anchor\")\n",
    "\n",
    "    fmt = '.2f' if normalize else 'd'\n",
    "    thresh = cm.max() / 2.\n",
    "    for i in range(cm.shape[0]):\n",
    "        for j in range(cm.shape[1]):\n",
    "            ax.text(j, i, format(cm[i, j], fmt), ha=\"center\", va=\"center\",\n",
    "                    color=\"white\" if cm[i, j] > thresh else \"black\")\n",
    "    fig.tight_layout()\n",
    "    return ax"
   ]
  },
  {
   "cell_type": "code",
   "execution_count": 50,
   "metadata": {},
   "outputs": [
    {
     "data": {
      "text/plain": [
       "array([0.00134753, 0.01051275, 0.01120962, 0.00639338, 0.05877445,\n",
       "       0.03409163, 0.03695069, 0.00785631, 0.08654943, 0.01867305,\n",
       "       0.00581379, 0.06387512, 0.00350326, 0.00857635, 0.06280435,\n",
       "       0.00081488, 0.00466611, 0.0191422 , 0.00229894, 0.01263926,\n",
       "       0.00765743, 0.00217305, 0.00136973, 0.00168822, 0.01295911,\n",
       "       0.04591638, 0.03239733, 0.00099882, 0.00141245, 0.00139248,\n",
       "       0.00087951, 0.03300667, 0.01183622, 0.01578849, 0.00657018,\n",
       "       0.00097436, 0.00289558, 0.00155387, 0.00252563, 0.00129723,\n",
       "       0.00513178, 0.00171782, 0.00154356, 0.00417938, 0.09802952,\n",
       "       0.02588011, 0.06256737, 0.08374541, 0.03013957, 0.00180204,\n",
       "       0.01757478, 0.01495077, 0.00624965, 0.00201094, 0.00269148])"
      ]
     },
     "execution_count": 50,
     "metadata": {},
     "output_type": "execute_result"
    }
   ],
   "source": [
    "# Feature Importance\n",
    "clf = RandomForestClassifier(n_estimators=100, max_depth=4, random_state=42,class_weight='balanced')\n",
    "LOSOCVPerformance(features, labels, subjects, clf)\n",
    "clf.feature_importances_\n",
    "# sorted(list(zip(clf.feature_importances_, FeatureNames())), reverse=True)[:10]"
   ]
  },
  {
   "cell_type": "code",
   "execution_count": 83,
   "metadata": {},
   "outputs": [],
   "source": [
    "sorted_features = sorted(zip(clf.feature_importances_, np.arange(len(clf.feature_importances_))), reverse=True)\n",
    "best_feature_indices = list(zip(*sorted_features))[1]\n",
    "X = features[:, best_feature_indices[:10]]"
   ]
  },
  {
   "cell_type": "markdown",
   "metadata": {},
   "source": [
    "### Build a Random Forest Classifier "
   ]
  },
  {
   "cell_type": "code",
   "execution_count": 84,
   "metadata": {},
   "outputs": [
    {
     "data": {
      "text/plain": [
       "RandomForestClassifier(max_depth=4, random_state=42)"
      ]
     },
     "execution_count": 84,
     "metadata": {},
     "output_type": "execute_result"
    }
   ],
   "source": [
    "# Build and train the model\n",
    "n_estimators = 100    # build a forest with 100 trees \n",
    "max_tree_depth = 4    # maximum depth of 4\n",
    "\n",
    "clf = RandomForestClassifier(n_estimators=n_estimators, max_depth=max_tree_depth, random_state=42)\n",
    "clf.fit(features, labels)"
   ]
  },
  {
   "cell_type": "code",
   "execution_count": 85,
   "metadata": {},
   "outputs": [],
   "source": [
    "class_names = np.array(['bike', 'run', 'walk'])\n",
    "logo = LeaveOneGroupOut()\n",
    "cm = np.zeros((3, 3), dtype='int')\n",
    "\n",
    "for train_ind, test_ind in logo.split(features, labels, subjects):\n",
    "    X_train, y_train = features[train_ind], labels[train_ind]\n",
    "    X_test, y_test = features[test_ind], labels[test_ind]\n",
    "    clf.fit(X_train, y_train)\n",
    "    y_pred = clf.predict(X_test)\n",
    "    c = confusion_matrix(y_test, y_pred, labels=class_names)\n",
    "    cm += c"
   ]
  },
  {
   "cell_type": "code",
   "execution_count": 86,
   "metadata": {},
   "outputs": [
    {
     "name": "stdout",
     "output_type": "stream",
     "text": [
      "Confusion matrix, without normalization\n",
      "[[140   1 104]\n",
      " [  2 142   3]\n",
      " [ 13  18 188]]\n"
     ]
    },
    {
     "data": {
      "text/plain": [
       "<AxesSubplot:title={'center':'classifier performance'}, xlabel='Predicted label', ylabel='True label'>"
      ]
     },
     "execution_count": 86,
     "metadata": {},
     "output_type": "execute_result"
    },
    {
     "data": {
      "image/png": "[encoded data removed]",
      "text/plain": [
       "<Figure size 576x360 with 2 Axes>"
      ]
     },
     "metadata": {
      "needs_background": "light"
     },
     "output_type": "display_data"
    }
   ],
   "source": [
    "# Plot confusion matrices\n",
    "class_names = ['bike', 'run', 'walk']\n",
    "PlotConfusionMatrix(cm, class_names,title='classifier performance', normalize=False)"
   ]
  },
  {
   "cell_type": "code",
   "execution_count": 87,
   "metadata": {},
   "outputs": [
    {
     "name": "stdout",
     "output_type": "stream",
     "text": [
      "Normalized confusion matrix\n",
      "[[0.57142857 0.00408163 0.4244898 ]\n",
      " [0.01360544 0.96598639 0.02040816]\n",
      " [0.05936073 0.08219178 0.85844749]]\n"
     ]
    },
    {
     "data": {
      "text/plain": [
       "<AxesSubplot:title={'center':'normalized classifier performance'}, xlabel='Predicted label', ylabel='True label'>"
      ]
     },
     "execution_count": 87,
     "metadata": {},
     "output_type": "execute_result"
    },
    {
     "data": {
      "image/png": "[encoded data removed]",
      "text/plain": [
       "<Figure size 576x360 with 2 Axes>"
      ]
     },
     "metadata": {
      "needs_background": "light"
     },
     "output_type": "display_data"
    }
   ],
   "source": [
    "PlotConfusionMatrix(cm, class_names, title='normalized classifier performance',normalize=True)"
   ]
  },
  {
   "cell_type": "code",
   "execution_count": 88,
   "metadata": {},
   "outputs": [
    {
     "name": "stdout",
     "output_type": "stream",
     "text": [
      "0.7692307692307693\n"
     ]
    }
   ],
   "source": [
    "# Classificatino accuracy\n",
    "print(np.sum(np.diag(cm)) / np.sum(np.sum(cm)))"
   ]
  },
  {
   "cell_type": "code",
   "execution_count": 89,
   "metadata": {},
   "outputs": [],
   "source": [
    "## We seem to be really good at classifying run. We don't really mistake run for either bike or walk and don't misclassify the other classes as run often."
   ]
  },
  {
   "cell_type": "code",
   "execution_count": null,
   "metadata": {},
   "outputs": [],
   "source": []
  }
 ],
 "metadata": {
  "kernelspec": {
   "display_name": "Python 3",
   "language": "python",
   "name": "python3"
  },
  "language_info": {
   "codemirror_mode": {
    "name": "ipython",
    "version": 3
   },
   "file_extension": ".py",
   "mimetype": "text/x-python",
   "name": "python",
   "nbconvert_exporter": "python",
   "pygments_lexer": "ipython3",
   "version": "3.8.5"
  },
  "varInspector": {
   "cols": {
    "lenName": 16,
    "lenType": 16,
    "lenVar": 40
   },
   "kernels_config": {
    "python": {
     "delete_cmd_postfix": "",
     "delete_cmd_prefix": "del ",
     "library": "var_list.py",
     "varRefreshCmd": "print(var_dic_list())"
    },
    "r": {
     "delete_cmd_postfix": ") ",
     "delete_cmd_prefix": "rm(",
     "library": "var_list.r",
     "varRefreshCmd": "cat(var_dic_list()) "
    }
   },
   "types_to_exclude": [
    "module",
    "function",
    "builtin_function_or_method",
    "instance",
    "_Feature"
   ],
   "window_display": false
  }
 },
 "nbformat": 4,
 "nbformat_minor": 2
}
