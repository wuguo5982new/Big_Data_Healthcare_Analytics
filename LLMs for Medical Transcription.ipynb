{
 "cells": [
  {
   "cell_type": "markdown",
   "id": "e64942a7",
   "metadata": {},
   "source": [
    "## Basic medical application of LLMs with Hugging Face\n",
    "This project focuses on using different methods to analyze medical transcription, including summarization."
   ]
  },
  {
   "cell_type": "code",
   "execution_count": 1,
   "id": "f7d562f2",
   "metadata": {},
   "outputs": [],
   "source": [
    "from datasets import load_dataset\n",
    "from transformers import pipeline\n",
    "import pandas as pd"
   ]
  },
  {
   "cell_type": "markdown",
   "id": "adbd6290",
   "metadata": {},
   "source": [
    "## Summarization"
   ]
  },
  {
   "cell_type": "code",
   "execution_count": 2,
   "id": "fcc143d8",
   "metadata": {},
   "outputs": [],
   "source": [
    "## Data from Hugging Face \"rungalileo/medical_transcription_4\""
   ]
  },
  {
   "cell_type": "code",
   "execution_count": 3,
   "id": "4c58989d",
   "metadata": {},
   "outputs": [
    {
     "name": "stderr",
     "output_type": "stream",
     "text": [
      "Found cached dataset parquet (C:/Users/Sealion/Desktop/SOS_JOB/datasets/rungalileo___parquet/rungalileo--medical_transcription_4-cc509920750fa75b/0.0.0/14a00e99c0d15a23649d0db8944380ac81082d4b021f398733dd84f3a6c569a7)\n"
     ]
    },
    {
     "data": {
      "application/vnd.jupyter.widget-view+json": {
       "model_id": "c8a09056d6ca423897d7dddbd91a338c",
       "version_major": 2,
       "version_minor": 0
      },
      "text/plain": [
       "  0%|          | 0/2 [00:00<?, ?it/s]"
      ]
     },
     "metadata": {},
     "output_type": "display_data"
    },
    {
     "data": {
      "text/plain": [
       "DatasetDict({\n",
       "    train: Dataset({\n",
       "        features: ['id', 'text', 'label'],\n",
       "        num_rows: 4499\n",
       "    })\n",
       "    test: Dataset({\n",
       "        features: ['id', 'text', 'label'],\n",
       "        num_rows: 500\n",
       "    })\n",
       "})"
      ]
     },
     "execution_count": 3,
     "metadata": {},
     "output_type": "execute_result"
    }
   ],
   "source": [
    "med_dataset = load_dataset(\"rungalileo/medical_transcription_4\", cache_dir=\"../datasets/\"\n",
    ")  \n",
    "med_dataset  "
   ]
  },
  {
   "cell_type": "code",
   "execution_count": 4,
   "id": "dcfdbdf3",
   "metadata": {},
   "outputs": [
    {
     "data": {
      "text/html": [
       "<div>\n",
       "<style scoped>\n",
       "    .dataframe tbody tr th:only-of-type {\n",
       "        vertical-align: middle;\n",
       "    }\n",
       "\n",
       "    .dataframe tbody tr th {\n",
       "        vertical-align: top;\n",
       "    }\n",
       "\n",
       "    .dataframe thead th {\n",
       "        text-align: right;\n",
       "    }\n",
       "</style>\n",
       "<table border=\"1\" class=\"dataframe\">\n",
       "  <thead>\n",
       "    <tr style=\"text-align: right;\">\n",
       "      <th></th>\n",
       "      <th>id</th>\n",
       "      <th>text</th>\n",
       "      <th>label</th>\n",
       "    </tr>\n",
       "  </thead>\n",
       "  <tbody>\n",
       "    <tr>\n",
       "      <th>0</th>\n",
       "      <td>0</td>\n",
       "      <td>2-D STUDY,1. Mild aortic stenosis, widely calc...</td>\n",
       "      <td>0</td>\n",
       "    </tr>\n",
       "    <tr>\n",
       "      <th>1</th>\n",
       "      <td>1</td>\n",
       "      <td>PREOPERATIVE DIAGNOSES: , Dysphagia and esopha...</td>\n",
       "      <td>3</td>\n",
       "    </tr>\n",
       "    <tr>\n",
       "      <th>2</th>\n",
       "      <td>2</td>\n",
       "      <td>CHIEF COMPLAINT:,  The patient comes for three...</td>\n",
       "      <td>0</td>\n",
       "    </tr>\n",
       "    <tr>\n",
       "      <th>3</th>\n",
       "      <td>3</td>\n",
       "      <td>PROCEDURE: , Bilateral L5, S1, S2, and S3 radi...</td>\n",
       "      <td>3</td>\n",
       "    </tr>\n",
       "    <tr>\n",
       "      <th>4</th>\n",
       "      <td>4</td>\n",
       "      <td>DISCHARGE DIAGNOSES:,1. Chronic obstructive pu...</td>\n",
       "      <td>0</td>\n",
       "    </tr>\n",
       "  </tbody>\n",
       "</table>\n",
       "</div>"
      ],
      "text/plain": [
       "   id                                               text  label\n",
       "0   0  2-D STUDY,1. Mild aortic stenosis, widely calc...      0\n",
       "1   1  PREOPERATIVE DIAGNOSES: , Dysphagia and esopha...      3\n",
       "2   2  CHIEF COMPLAINT:,  The patient comes for three...      0\n",
       "3   3  PROCEDURE: , Bilateral L5, S1, S2, and S3 radi...      3\n",
       "4   4  DISCHARGE DIAGNOSES:,1. Chronic obstructive pu...      0"
      ]
     },
     "execution_count": 4,
     "metadata": {},
     "output_type": "execute_result"
    }
   ],
   "source": [
    "med_sample = pd.DataFrame.from_dict(med_dataset['train'])\n",
    "med_sample.head(5)"
   ]
  },
  {
   "cell_type": "code",
   "execution_count": 5,
   "id": "69ccbf08",
   "metadata": {},
   "outputs": [
    {
     "data": {
      "text/plain": [
       "{0, 1, 2, 3}"
      ]
     },
     "execution_count": 5,
     "metadata": {},
     "output_type": "execute_result"
    }
   ],
   "source": [
    "set(med_sample['label'])"
   ]
  },
  {
   "cell_type": "code",
   "execution_count": 6,
   "id": "35a605f0",
   "metadata": {},
   "outputs": [
    {
     "data": {
      "text/html": [
       "<div>\n",
       "<style scoped>\n",
       "    .dataframe tbody tr th:only-of-type {\n",
       "        vertical-align: middle;\n",
       "    }\n",
       "\n",
       "    .dataframe tbody tr th {\n",
       "        vertical-align: top;\n",
       "    }\n",
       "\n",
       "    .dataframe thead th {\n",
       "        text-align: right;\n",
       "    }\n",
       "</style>\n",
       "<table border=\"1\" class=\"dataframe\">\n",
       "  <thead>\n",
       "    <tr style=\"text-align: right;\">\n",
       "      <th></th>\n",
       "      <th>id</th>\n",
       "      <th>document</th>\n",
       "      <th>class</th>\n",
       "    </tr>\n",
       "  </thead>\n",
       "  <tbody>\n",
       "    <tr>\n",
       "      <th>0</th>\n",
       "      <td>0</td>\n",
       "      <td>2-D STUDY,1. Mild aortic stenosis, widely calc...</td>\n",
       "      <td>Medical Records</td>\n",
       "    </tr>\n",
       "    <tr>\n",
       "      <th>1</th>\n",
       "      <td>1</td>\n",
       "      <td>PREOPERATIVE DIAGNOSES: , Dysphagia and esopha...</td>\n",
       "      <td>Surgery</td>\n",
       "    </tr>\n",
       "    <tr>\n",
       "      <th>2</th>\n",
       "      <td>2</td>\n",
       "      <td>CHIEF COMPLAINT:,  The patient comes for three...</td>\n",
       "      <td>Medical Records</td>\n",
       "    </tr>\n",
       "    <tr>\n",
       "      <th>3</th>\n",
       "      <td>3</td>\n",
       "      <td>PROCEDURE: , Bilateral L5, S1, S2, and S3 radi...</td>\n",
       "      <td>Surgery</td>\n",
       "    </tr>\n",
       "    <tr>\n",
       "      <th>4</th>\n",
       "      <td>4</td>\n",
       "      <td>DISCHARGE DIAGNOSES:,1. Chronic obstructive pu...</td>\n",
       "      <td>Medical Records</td>\n",
       "    </tr>\n",
       "    <tr>\n",
       "      <th>...</th>\n",
       "      <td>...</td>\n",
       "      <td>...</td>\n",
       "      <td>...</td>\n",
       "    </tr>\n",
       "    <tr>\n",
       "      <th>4494</th>\n",
       "      <td>4494</td>\n",
       "      <td>CHIEF COMPLAINT:, Headaches.,HEADACHE HISTORY:...</td>\n",
       "      <td>Medical Records</td>\n",
       "    </tr>\n",
       "    <tr>\n",
       "      <th>4495</th>\n",
       "      <td>4495</td>\n",
       "      <td>DATE OF INJURY : October 4, 2000,DATE OF EXAMI...</td>\n",
       "      <td>Medical Records</td>\n",
       "    </tr>\n",
       "    <tr>\n",
       "      <th>4496</th>\n",
       "      <td>4496</td>\n",
       "      <td>PREOPERATIVE DIAGNOSES:,1.  Lumbar osteomyelit...</td>\n",
       "      <td>Other</td>\n",
       "    </tr>\n",
       "    <tr>\n",
       "      <th>4497</th>\n",
       "      <td>4497</td>\n",
       "      <td>PREOPERATIVE DIAGNOSIS:,  Prostate cancer.,POS...</td>\n",
       "      <td>Surgery</td>\n",
       "    </tr>\n",
       "    <tr>\n",
       "      <th>4498</th>\n",
       "      <td>4498</td>\n",
       "      <td>IDENTIFYING DATA:  ,Mr. T is a 45-year-old whi...</td>\n",
       "      <td>Medical Records</td>\n",
       "    </tr>\n",
       "  </tbody>\n",
       "</table>\n",
       "<p>4499 rows × 3 columns</p>\n",
       "</div>"
      ],
      "text/plain": [
       "        id                                           document            class\n",
       "0        0  2-D STUDY,1. Mild aortic stenosis, widely calc...  Medical Records\n",
       "1        1  PREOPERATIVE DIAGNOSES: , Dysphagia and esopha...          Surgery\n",
       "2        2  CHIEF COMPLAINT:,  The patient comes for three...  Medical Records\n",
       "3        3  PROCEDURE: , Bilateral L5, S1, S2, and S3 radi...          Surgery\n",
       "4        4  DISCHARGE DIAGNOSES:,1. Chronic obstructive pu...  Medical Records\n",
       "...    ...                                                ...              ...\n",
       "4494  4494  CHIEF COMPLAINT:, Headaches.,HEADACHE HISTORY:...  Medical Records\n",
       "4495  4495  DATE OF INJURY : October 4, 2000,DATE OF EXAMI...  Medical Records\n",
       "4496  4496  PREOPERATIVE DIAGNOSES:,1.  Lumbar osteomyelit...            Other\n",
       "4497  4497  PREOPERATIVE DIAGNOSIS:,  Prostate cancer.,POS...          Surgery\n",
       "4498  4498  IDENTIFYING DATA:  ,Mr. T is a 45-year-old whi...  Medical Records\n",
       "\n",
       "[4499 rows x 3 columns]"
      ]
     },
     "execution_count": 6,
     "metadata": {},
     "output_type": "execute_result"
    }
   ],
   "source": [
    "class_dict = {0: \"Medical Records\", 1:\"Other\", 2:\"Internal Medicine\", 3: \"Surgery\"}\n",
    "med_sample['class'] = med_sample['label'].map(class_dict)\n",
    "med_sample = med_sample[['id', 'text', 'class']]\n",
    "med_sample.columns = ['id', 'document', 'class']\n",
    "med_sample"
   ]
  },
  {
   "cell_type": "code",
   "execution_count": 7,
   "id": "009587db",
   "metadata": {},
   "outputs": [
    {
     "data": {
      "text/plain": [
       "Surgery              1442\n",
       "Medical Records      1126\n",
       "Internal Medicine    1040\n",
       "Other                 891\n",
       "Name: class, dtype: int64"
      ]
     },
     "execution_count": 7,
     "metadata": {},
     "output_type": "execute_result"
    }
   ],
   "source": [
    "med_sample['class'].value_counts()"
   ]
  },
  {
   "cell_type": "code",
   "execution_count": 8,
   "id": "2e35520b",
   "metadata": {},
   "outputs": [],
   "source": [
    "summarizer = pipeline(\n",
    "    task=\"summarization\",\n",
    "    model=\"t5-small\",\n",
    "    min_length=20,\n",
    "    max_length=100,\n",
    "    truncation=True,\n",
    "    model_kwargs={\"cache_dir\": \"../datasets/\"},\n",
    ")  "
   ]
  },
  {
   "cell_type": "code",
   "execution_count": 9,
   "id": "bccf1798",
   "metadata": {},
   "outputs": [
    {
     "data": {
      "text/plain": [
       "'PREOPERATIVE DIAGNOSES: , Dysphagia and esophageal spasm.,POSTOPERATIVE DIAGNOSES: , Esophagitis and esophageal stricture.,PROCEDURE:,  Gastroscopy.,MEDICATIONS:,  MAC.,DESCRIPTION OF PROCEDURE: , The Olympus gastroscope was introduced into the oropharynx and passed carefully through the esophagus, stomach, and duodenum, to the third portion of the duodenum.  The hypopharynx was normal and the upper esophageal sphincter was unremarkable.  The esophageal contour was normal, with the gastroesophageal junction located at 38 cm from the incisors.  At this point, there were several linear erosions and a sense of stricturing at 38 cm.  Below this, there was a small hiatal hernia with the hiatus noted at 42 cm from the incisors.  The mucosa within the hernia was normal.  The gastric lumen was normal with normal mucosa throughout.  The pylorus was patent permitting passage of the scope into the duodenum, which was normal through the third portion.  During withdrawal of the scope, additional views were obtained of the cardia, confirming the presence of a small hiatal hernia.  It was decided to attempt dilation of the strictured area, so an 18-mm TTS balloon was placed across the stricture and inflated to the recommended diameter.  When the balloon was fully inflated, the lumen appeared to be larger than 18 mm diameter, suggesting that the stricture was in fact not a significant one.  No stretching of the mucosa took place.  The balloon was deflated and the scope was withdrawn.  The patient tolerated the procedure well and was sent to the recovery room.,FINAL DIAGNOSES:,1.  Esophagitis.,2.  Minor stricture at the gastroesophageal junction.,3.  Hiatal hernia.,4.  Otherwise normal upper endoscopy to the transverse duodenum.,RECOMMENDATIONS:  ,Continue proton pump inhibitor therapy.surgery, duodenum, esophagus, gastroscope, stomach, upper endoscopy, transverse duodenum, gastroesophageal junction, hiatal hernia, gastroscopy, endoscopy, esophagitis, gastroesophageal, hiatal, esophageal, hernia'"
      ]
     },
     "execution_count": 9,
     "metadata": {},
     "output_type": "execute_result"
    }
   ],
   "source": [
    "med_sample['document'][1]"
   ]
  },
  {
   "cell_type": "code",
   "execution_count": 35,
   "id": "89d8fdda",
   "metadata": {},
   "outputs": [],
   "source": [
    "# med_sample['document'][1].split(',SUMMARY,')[0]"
   ]
  },
  {
   "cell_type": "code",
   "execution_count": 36,
   "id": "27e70a41",
   "metadata": {},
   "outputs": [],
   "source": [
    "# med_sample['document'][1]"
   ]
  },
  {
   "cell_type": "code",
   "execution_count": 12,
   "id": "766cbd04",
   "metadata": {
    "scrolled": true
   },
   "outputs": [
    {
     "data": {
      "text/plain": [
       "0       2-D STUDY,1. Mild aortic stenosis, widely calc...\n",
       "1       PREOPERATIVE DIAGNOSES: , Dysphagia and esopha...\n",
       "2       CHIEF COMPLAINT:,  The patient comes for three...\n",
       "3       PROCEDURE: , Bilateral L5, S1, S2, and S3 radi...\n",
       "4       DISCHARGE DIAGNOSES:,1. Chronic obstructive pu...\n",
       "                              ...                        \n",
       "4494    CHIEF COMPLAINT:, Headaches.,HEADACHE HISTORY:...\n",
       "4495    DATE OF INJURY : October 4, 2000,DATE OF EXAMI...\n",
       "4496    PREOPERATIVE DIAGNOSES:,1.  Lumbar osteomyelit...\n",
       "4497    PREOPERATIVE DIAGNOSIS:,  Prostate cancer.,POS...\n",
       "4498    IDENTIFYING DATA:  ,Mr. T is a 45-year-old whi...\n",
       "Name: document, Length: 4499, dtype: object"
      ]
     },
     "execution_count": 12,
     "metadata": {},
     "output_type": "execute_result"
    }
   ],
   "source": [
    "med_sample['document']"
   ]
  },
  {
   "cell_type": "code",
   "execution_count": 13,
   "id": "fb8c88c5",
   "metadata": {},
   "outputs": [
    {
     "name": "stderr",
     "output_type": "stream",
     "text": [
      "C:\\Users\\Sealion\\anaconda3\\lib\\site-packages\\transformers\\generation\\utils.py:1186: UserWarning: You have modified the pretrained model configuration to control generation. This is a deprecated strategy to control generation and will be removed soon, in a future version. Please use a generation configuration file (see https://huggingface.co/docs/transformers/main_classes/text_generation)\n",
      "  warnings.warn(\n"
     ]
    },
    {
     "data": {
      "text/plain": [
       "[{'summary_text': 'hypopharynx was normal and upper esophageal sphincter was unremarkable . below this, there was a small hiatal hernia with the hiatus noted at 42 cm from the incisors . the gastric lumen was normal with normal mucosa throughout .'}]"
      ]
     },
     "execution_count": 13,
     "metadata": {},
     "output_type": "execute_result"
    }
   ],
   "source": [
    "summarizer(med_sample[\"document\"][1])"
   ]
  },
  {
   "cell_type": "code",
   "execution_count": 14,
   "id": "a0d2571d",
   "metadata": {},
   "outputs": [
    {
     "data": {
      "text/plain": [
       "[{'summary_text': 'Mild aortic stenosis, widely calcified, minimally restricted.,2. Mild left ventricular hypertrophy but normal systolic function.,3. Moderate biatrial enlargement .'},\n",
       " {'summary_text': 'hypopharynx was normal and upper esophageal sphincter was unremarkable . below this, there was a small hiatal hernia with the hiatus noted at 42 cm from the incisors . the gastric lumen was normal with normal mucosa throughout .'},\n",
       " {'summary_text': 'the patient comes for three-week postpartum checkup complaining of allergies . she is breastfeeding and feels like her milk is adequate .'},\n",
       " {'summary_text': 'fluoroscopy was used to identify bony landmarks of the sacrum and the sacroiliac joints . the skin, subcutaneous tissue, and muscle within the planned needle approach were anesthetized with 1% Lidocaine .'},\n",
       " {'summary_text': 'the patient is a 71-year-old lady who came in with increased shortness of breath of one day duration . she denied history of chest pain or fevers or cough with purulent sputum at that time .'},\n",
       " {'summary_text': 'the patient agreed to proceed and informed consent was signed . the patient was explained about all the risks, benefits and alternatives to the procedure .'},\n",
       " {'summary_text': 'the patient is a 2-year-old girl who comes in with concerns about stuffiness, congestion and nasal drainage . she does take Zyrtec on a fairly regular basis .'},\n",
       " {'summary_text': 'the patient has been suffering from a chronic psychotic condition for a number of years . he began to have symptoms when he was about 18 or 19 with auditory and visual hallucinations and paranoid delusions . the 37-year-old has not used any drugs since age 25 .'},\n",
       " {'summary_text': '76 y/o male suddenly became anosmic following shoulder surgery 13 years prior to this presentation . he denies any headaches, weakness, numbness, weight loss, or nasal discharge .'},\n",
       " {'summary_text': 'the patient was advised to protect the knee by limiting repetitive bending, squatting , kneeling and excessive heavy use for a week . the injection may cause more pain for two to three days after the injection .'},\n",
       " {'summary_text': 'the patient is a 71-year-old Caucasian female with a history of diabetes, osteoarthritis, atrial fibrillation, hypertension, asthma, obstructive sleep apnea on CPAP, diabetic foot ulcer, anemia and left lower extremity cellulitis . she was brought in by the EMS service to Erlanger emergency department with pulseless electrical activity . her husband states that she'},\n",
       " {'summary_text': 'the patient is an 85-year-old gentleman who follows as an outpatient with Dr. A. he is known to us from his last admission . at that time, he was admitted with a difficulty voiding and constipation .'},\n",
       " {'summary_text': \"the patient's weight today is 186-1/2 pounds, which is down 1-1/2 pounds in the past month . he has lost a total of 34-1/2lbs .\"},\n",
       " {'summary_text': 'a 43-year-old white male presents as an outpatient with hematochezia . he also had refractory dyspepsia despite b.i.d., Nexium therapy . the patient gave informed consent for the procedure .'},\n",
       " {'summary_text': 'left upper extremity was prepped and draped in a sterile manner . a transverse incision was made in the palm between FCR and FCU . the agee Inside Job was then inserted into the proximal incision .'},\n",
       " {'summary_text': 'a 4-pound female infant born to a 26-year-old gravida 1, now para 1-0-0-1 lady with an EDC of November 19, 2003 . the infant was noted to have physiologic jaundice and her highest bilirubin was 7.1 . at the time of discharge, she is taking approximately 30 mL every feeding .'},\n",
       " {'summary_text': 'the patient is a 10-month-old baby with a history of a bilateral cleft of the lip and palate . the patient has undergone a procedure with vomer flaps . a prophylactic dose of antibiotics was given and the head of the bed turned 90 degrees .'},\n",
       " {'summary_text': 'nuclear myocardial perfusion scan demonstrates homogeneous distribution of tracer uptake without any evidence of reversible or fixed defect . adenosine with nuclear scan unable to walk on treadmill .'},\n",
       " {'summary_text': 'the patient is a 56-year-old female who has a history of uterine cancer, breast cancer, mesothelioma . she is scheduled to undergo mastectomy in two weeks . in 1999, she was diagnosed with right breast cancer and underwent lumpectomy .'},\n",
       " {'summary_text': 'the patient is an 88-year-old gentleman followed by his primary care physician, Dr. X, for the indication of CLL and Dr. Z for his cardiovascular issues . he has had no dizziness, lightheadedness, no near or true syncope, nothing supportive of GI or GU blood loss, no productive or nonproductive cough .'}]"
      ]
     },
     "execution_count": 14,
     "metadata": {},
     "output_type": "execute_result"
    }
   ],
   "source": [
    "med_sample = med_sample.iloc[:20, :]                  # only select first 20 rows to reduce expensive computation (save time).\n",
    "results = summarizer(med_sample[\"document\"].to_list())\n",
    "results"
   ]
  },
  {
   "cell_type": "code",
   "execution_count": 15,
   "id": "a4a177e8",
   "metadata": {},
   "outputs": [
    {
     "data": {
      "text/plain": [
       "[['generated_summary', 'class', 'document']]"
      ]
     },
     "execution_count": 15,
     "metadata": {},
     "output_type": "execute_result"
    }
   ],
   "source": [
    "newmed_sample =  pd.DataFrame.from_dict(results).rename({\"summary_text\": \"generated_summary\"}, axis=1).join(pd.DataFrame.from_dict(med_sample))\n",
    "[[\"generated_summary\", \"class\", \"document\"]]"
   ]
  },
  {
   "cell_type": "code",
   "execution_count": 16,
   "id": "4ab8be89",
   "metadata": {},
   "outputs": [
    {
     "data": {
      "text/html": [
       "<div>\n",
       "<style scoped>\n",
       "    .dataframe tbody tr th:only-of-type {\n",
       "        vertical-align: middle;\n",
       "    }\n",
       "\n",
       "    .dataframe tbody tr th {\n",
       "        vertical-align: top;\n",
       "    }\n",
       "\n",
       "    .dataframe thead th {\n",
       "        text-align: right;\n",
       "    }\n",
       "</style>\n",
       "<table border=\"1\" class=\"dataframe\">\n",
       "  <thead>\n",
       "    <tr style=\"text-align: right;\">\n",
       "      <th></th>\n",
       "      <th>generated_summary</th>\n",
       "      <th>id</th>\n",
       "      <th>document</th>\n",
       "      <th>class</th>\n",
       "    </tr>\n",
       "  </thead>\n",
       "  <tbody>\n",
       "    <tr>\n",
       "      <th>0</th>\n",
       "      <td>Mild aortic stenosis, widely calcified, minima...</td>\n",
       "      <td>0</td>\n",
       "      <td>2-D STUDY,1. Mild aortic stenosis, widely calc...</td>\n",
       "      <td>Medical Records</td>\n",
       "    </tr>\n",
       "    <tr>\n",
       "      <th>1</th>\n",
       "      <td>hypopharynx was normal and upper esophageal sp...</td>\n",
       "      <td>1</td>\n",
       "      <td>PREOPERATIVE DIAGNOSES: , Dysphagia and esopha...</td>\n",
       "      <td>Surgery</td>\n",
       "    </tr>\n",
       "    <tr>\n",
       "      <th>2</th>\n",
       "      <td>the patient comes for three-week postpartum ch...</td>\n",
       "      <td>2</td>\n",
       "      <td>CHIEF COMPLAINT:,  The patient comes for three...</td>\n",
       "      <td>Medical Records</td>\n",
       "    </tr>\n",
       "    <tr>\n",
       "      <th>3</th>\n",
       "      <td>fluoroscopy was used to identify bony landmark...</td>\n",
       "      <td>3</td>\n",
       "      <td>PROCEDURE: , Bilateral L5, S1, S2, and S3 radi...</td>\n",
       "      <td>Surgery</td>\n",
       "    </tr>\n",
       "    <tr>\n",
       "      <th>4</th>\n",
       "      <td>the patient is a 71-year-old lady who came in ...</td>\n",
       "      <td>4</td>\n",
       "      <td>DISCHARGE DIAGNOSES:,1. Chronic obstructive pu...</td>\n",
       "      <td>Medical Records</td>\n",
       "    </tr>\n",
       "    <tr>\n",
       "      <th>5</th>\n",
       "      <td>the patient agreed to proceed and informed con...</td>\n",
       "      <td>5</td>\n",
       "      <td>INDICATION:,  Coronary artery disease, severe ...</td>\n",
       "      <td>Internal Medicine</td>\n",
       "    </tr>\n",
       "    <tr>\n",
       "      <th>6</th>\n",
       "      <td>the patient is a 2-year-old girl who comes in ...</td>\n",
       "      <td>6</td>\n",
       "      <td>SUBJECTIVE:,  The patient is a 2-year-old litt...</td>\n",
       "      <td>Medical Records</td>\n",
       "    </tr>\n",
       "    <tr>\n",
       "      <th>7</th>\n",
       "      <td>the patient has been suffering from a chronic ...</td>\n",
       "      <td>7</td>\n",
       "      <td>REASON FOR EVALUATION: , The patient is a 37-y...</td>\n",
       "      <td>Medical Records</td>\n",
       "    </tr>\n",
       "    <tr>\n",
       "      <th>8</th>\n",
       "      <td>76 y/o male suddenly became anosmic following ...</td>\n",
       "      <td>8</td>\n",
       "      <td>CC:, Progressive visual loss.,HX:, 76 y/o male...</td>\n",
       "      <td>Medical Records</td>\n",
       "    </tr>\n",
       "    <tr>\n",
       "      <th>9</th>\n",
       "      <td>the patient was advised to protect the knee by...</td>\n",
       "      <td>9</td>\n",
       "      <td>The patient was told that the injection may ca...</td>\n",
       "      <td>Internal Medicine</td>\n",
       "    </tr>\n",
       "    <tr>\n",
       "      <th>10</th>\n",
       "      <td>the patient is a 71-year-old Caucasian female ...</td>\n",
       "      <td>10</td>\n",
       "      <td>HISTORY OF PRESENT ILLNESS:, The patient is a ...</td>\n",
       "      <td>Internal Medicine</td>\n",
       "    </tr>\n",
       "    <tr>\n",
       "      <th>11</th>\n",
       "      <td>the patient is an 85-year-old gentleman who fo...</td>\n",
       "      <td>11</td>\n",
       "      <td>HISTORY OF PRESENT ILLNESS:,  The patient is a...</td>\n",
       "      <td>Medical Records</td>\n",
       "    </tr>\n",
       "    <tr>\n",
       "      <th>12</th>\n",
       "      <td>the patient's weight today is 186-1/2 pounds, ...</td>\n",
       "      <td>12</td>\n",
       "      <td>SUBJECTIVE:,  The patient is brought in by an ...</td>\n",
       "      <td>Other</td>\n",
       "    </tr>\n",
       "    <tr>\n",
       "      <th>13</th>\n",
       "      <td>a 43-year-old white male presents as an outpat...</td>\n",
       "      <td>13</td>\n",
       "      <td>PREOPERATIVE DIAGNOSES:,1.  Hematochezia.,2.  ...</td>\n",
       "      <td>Surgery</td>\n",
       "    </tr>\n",
       "    <tr>\n",
       "      <th>14</th>\n",
       "      <td>left upper extremity was prepped and draped in...</td>\n",
       "      <td>14</td>\n",
       "      <td>PREOPERATIVE DIAGNOSES:,1.  Left carpal tunnel...</td>\n",
       "      <td>Other</td>\n",
       "    </tr>\n",
       "    <tr>\n",
       "      <th>15</th>\n",
       "      <td>a 4-pound female infant born to a 26-year-old ...</td>\n",
       "      <td>15</td>\n",
       "      <td>ADMITTING DIAGNOSES,1. Prematurity.,2. Appropr...</td>\n",
       "      <td>Medical Records</td>\n",
       "    </tr>\n",
       "    <tr>\n",
       "      <th>16</th>\n",
       "      <td>the patient is a 10-month-old baby with a hist...</td>\n",
       "      <td>16</td>\n",
       "      <td>PREOPERATIVE DIAGNOSES: , Bilateral cleft lip ...</td>\n",
       "      <td>Surgery</td>\n",
       "    </tr>\n",
       "    <tr>\n",
       "      <th>17</th>\n",
       "      <td>nuclear myocardial perfusion scan demonstrates...</td>\n",
       "      <td>17</td>\n",
       "      <td>INDICATION: , Chest pain.,TYPE OF TEST: , Aden...</td>\n",
       "      <td>Internal Medicine</td>\n",
       "    </tr>\n",
       "    <tr>\n",
       "      <th>18</th>\n",
       "      <td>the patient is a 56-year-old female who has a ...</td>\n",
       "      <td>18</td>\n",
       "      <td>CHIEF COMPLAINT:,  Right hydronephrosis.,HISTO...</td>\n",
       "      <td>Medical Records</td>\n",
       "    </tr>\n",
       "    <tr>\n",
       "      <th>19</th>\n",
       "      <td>the patient is an 88-year-old gentleman follow...</td>\n",
       "      <td>19</td>\n",
       "      <td>HISTORY AND CLINICAL DATA:  ,The patient is an...</td>\n",
       "      <td>Internal Medicine</td>\n",
       "    </tr>\n",
       "  </tbody>\n",
       "</table>\n",
       "</div>"
      ],
      "text/plain": [
       "                                    generated_summary  id  \\\n",
       "0   Mild aortic stenosis, widely calcified, minima...   0   \n",
       "1   hypopharynx was normal and upper esophageal sp...   1   \n",
       "2   the patient comes for three-week postpartum ch...   2   \n",
       "3   fluoroscopy was used to identify bony landmark...   3   \n",
       "4   the patient is a 71-year-old lady who came in ...   4   \n",
       "5   the patient agreed to proceed and informed con...   5   \n",
       "6   the patient is a 2-year-old girl who comes in ...   6   \n",
       "7   the patient has been suffering from a chronic ...   7   \n",
       "8   76 y/o male suddenly became anosmic following ...   8   \n",
       "9   the patient was advised to protect the knee by...   9   \n",
       "10  the patient is a 71-year-old Caucasian female ...  10   \n",
       "11  the patient is an 85-year-old gentleman who fo...  11   \n",
       "12  the patient's weight today is 186-1/2 pounds, ...  12   \n",
       "13  a 43-year-old white male presents as an outpat...  13   \n",
       "14  left upper extremity was prepped and draped in...  14   \n",
       "15  a 4-pound female infant born to a 26-year-old ...  15   \n",
       "16  the patient is a 10-month-old baby with a hist...  16   \n",
       "17  nuclear myocardial perfusion scan demonstrates...  17   \n",
       "18  the patient is a 56-year-old female who has a ...  18   \n",
       "19  the patient is an 88-year-old gentleman follow...  19   \n",
       "\n",
       "                                             document              class  \n",
       "0   2-D STUDY,1. Mild aortic stenosis, widely calc...    Medical Records  \n",
       "1   PREOPERATIVE DIAGNOSES: , Dysphagia and esopha...            Surgery  \n",
       "2   CHIEF COMPLAINT:,  The patient comes for three...    Medical Records  \n",
       "3   PROCEDURE: , Bilateral L5, S1, S2, and S3 radi...            Surgery  \n",
       "4   DISCHARGE DIAGNOSES:,1. Chronic obstructive pu...    Medical Records  \n",
       "5   INDICATION:,  Coronary artery disease, severe ...  Internal Medicine  \n",
       "6   SUBJECTIVE:,  The patient is a 2-year-old litt...    Medical Records  \n",
       "7   REASON FOR EVALUATION: , The patient is a 37-y...    Medical Records  \n",
       "8   CC:, Progressive visual loss.,HX:, 76 y/o male...    Medical Records  \n",
       "9   The patient was told that the injection may ca...  Internal Medicine  \n",
       "10  HISTORY OF PRESENT ILLNESS:, The patient is a ...  Internal Medicine  \n",
       "11  HISTORY OF PRESENT ILLNESS:,  The patient is a...    Medical Records  \n",
       "12  SUBJECTIVE:,  The patient is brought in by an ...              Other  \n",
       "13  PREOPERATIVE DIAGNOSES:,1.  Hematochezia.,2.  ...            Surgery  \n",
       "14  PREOPERATIVE DIAGNOSES:,1.  Left carpal tunnel...              Other  \n",
       "15  ADMITTING DIAGNOSES,1. Prematurity.,2. Appropr...    Medical Records  \n",
       "16  PREOPERATIVE DIAGNOSES: , Bilateral cleft lip ...            Surgery  \n",
       "17  INDICATION: , Chest pain.,TYPE OF TEST: , Aden...  Internal Medicine  \n",
       "18  CHIEF COMPLAINT:,  Right hydronephrosis.,HISTO...    Medical Records  \n",
       "19  HISTORY AND CLINICAL DATA:  ,The patient is an...  Internal Medicine  "
      ]
     },
     "metadata": {},
     "output_type": "display_data"
    }
   ],
   "source": [
    "display(newmed_sample)"
   ]
  },
  {
   "cell_type": "code",
   "execution_count": 17,
   "id": "329a19cc",
   "metadata": {},
   "outputs": [
    {
     "data": {
      "text/plain": [
       "'PREOPERATIVE DIAGNOSES: , Dysphagia and esophageal spasm.,POSTOPERATIVE DIAGNOSES: , Esophagitis and esophageal stricture.,PROCEDURE:,  Gastroscopy.,MEDICATIONS:,  MAC.,DESCRIPTION OF PROCEDURE: , The Olympus gastroscope was introduced into the oropharynx and passed carefully through the esophagus, stomach, and duodenum, to the third portion of the duodenum.  The hypopharynx was normal and the upper esophageal sphincter was unremarkable.  The esophageal contour was normal, with the gastroesophageal junction located at 38 cm from the incisors.  At this point, there were several linear erosions and a sense of stricturing at 38 cm.  Below this, there was a small hiatal hernia with the hiatus noted at 42 cm from the incisors.  The mucosa within the hernia was normal.  The gastric lumen was normal with normal mucosa throughout.  The pylorus was patent permitting passage of the scope into the duodenum, which was normal through the third portion.  During withdrawal of the scope, additional views were obtained of the cardia, confirming the presence of a small hiatal hernia.  It was decided to attempt dilation of the strictured area, so an 18-mm TTS balloon was placed across the stricture and inflated to the recommended diameter.  When the balloon was fully inflated, the lumen appeared to be larger than 18 mm diameter, suggesting that the stricture was in fact not a significant one.  No stretching of the mucosa took place.  The balloon was deflated and the scope was withdrawn.  The patient tolerated the procedure well and was sent to the recovery room.,FINAL DIAGNOSES:,1.  Esophagitis.,2.  Minor stricture at the gastroesophageal junction.,3.  Hiatal hernia.,4.  Otherwise normal upper endoscopy to the transverse duodenum.,RECOMMENDATIONS:  ,Continue proton pump inhibitor therapy.surgery, duodenum, esophagus, gastroscope, stomach, upper endoscopy, transverse duodenum, gastroesophageal junction, hiatal hernia, gastroscopy, endoscopy, esophagitis, gastroesophageal, hiatal, esophageal, hernia'"
      ]
     },
     "execution_count": 17,
     "metadata": {},
     "output_type": "execute_result"
    }
   ],
   "source": [
    "newmed_sample[\"document\"][1]"
   ]
  },
  {
   "cell_type": "code",
   "execution_count": 18,
   "id": "dfbb3650",
   "metadata": {},
   "outputs": [
    {
     "data": {
      "text/plain": [
       "'hypopharynx was normal and upper esophageal sphincter was unremarkable . below this, there was a small hiatal hernia with the hiatus noted at 42 cm from the incisors . the gastric lumen was normal with normal mucosa throughout .'"
      ]
     },
     "execution_count": 18,
     "metadata": {},
     "output_type": "execute_result"
    }
   ],
   "source": [
    "newmed_sample[\"generated_summary\"][1]"
   ]
  },
  {
   "cell_type": "markdown",
   "id": "f5b21fe6",
   "metadata": {},
   "source": [
    "## Models\n",
    "## (a). With AutoTokenizer and AutoModelForSeq2SqeLM"
   ]
  },
  {
   "cell_type": "code",
   "execution_count": 19,
   "id": "e030ab60",
   "metadata": {},
   "outputs": [
    {
     "data": {
      "text/html": [
       "<div>\n",
       "<style scoped>\n",
       "    .dataframe tbody tr th:only-of-type {\n",
       "        vertical-align: middle;\n",
       "    }\n",
       "\n",
       "    .dataframe tbody tr th {\n",
       "        vertical-align: top;\n",
       "    }\n",
       "\n",
       "    .dataframe thead th {\n",
       "        text-align: right;\n",
       "    }\n",
       "</style>\n",
       "<table border=\"1\" class=\"dataframe\">\n",
       "  <thead>\n",
       "    <tr style=\"text-align: right;\">\n",
       "      <th></th>\n",
       "      <th>prompts</th>\n",
       "    </tr>\n",
       "  </thead>\n",
       "  <tbody>\n",
       "    <tr>\n",
       "      <th>0</th>\n",
       "      <td>summarize: 2-D STUDY,1. Mild aortic stenosis, ...</td>\n",
       "    </tr>\n",
       "    <tr>\n",
       "      <th>1</th>\n",
       "      <td>summarize: PREOPERATIVE DIAGNOSES: , Dysphagia...</td>\n",
       "    </tr>\n",
       "    <tr>\n",
       "      <th>2</th>\n",
       "      <td>summarize: CHIEF COMPLAINT:,  The patient come...</td>\n",
       "    </tr>\n",
       "    <tr>\n",
       "      <th>3</th>\n",
       "      <td>summarize: PROCEDURE: , Bilateral L5, S1, S2, ...</td>\n",
       "    </tr>\n",
       "    <tr>\n",
       "      <th>4</th>\n",
       "      <td>summarize: DISCHARGE DIAGNOSES:,1. Chronic obs...</td>\n",
       "    </tr>\n",
       "    <tr>\n",
       "      <th>5</th>\n",
       "      <td>summarize: INDICATION:,  Coronary artery disea...</td>\n",
       "    </tr>\n",
       "    <tr>\n",
       "      <th>6</th>\n",
       "      <td>summarize: SUBJECTIVE:,  The patient is a 2-ye...</td>\n",
       "    </tr>\n",
       "    <tr>\n",
       "      <th>7</th>\n",
       "      <td>summarize: REASON FOR EVALUATION: , The patien...</td>\n",
       "    </tr>\n",
       "    <tr>\n",
       "      <th>8</th>\n",
       "      <td>summarize: CC:, Progressive visual loss.,HX:, ...</td>\n",
       "    </tr>\n",
       "    <tr>\n",
       "      <th>9</th>\n",
       "      <td>summarize: The patient was told that the injec...</td>\n",
       "    </tr>\n",
       "    <tr>\n",
       "      <th>10</th>\n",
       "      <td>summarize: HISTORY OF PRESENT ILLNESS:, The pa...</td>\n",
       "    </tr>\n",
       "    <tr>\n",
       "      <th>11</th>\n",
       "      <td>summarize: HISTORY OF PRESENT ILLNESS:,  The p...</td>\n",
       "    </tr>\n",
       "    <tr>\n",
       "      <th>12</th>\n",
       "      <td>summarize: SUBJECTIVE:,  The patient is brough...</td>\n",
       "    </tr>\n",
       "    <tr>\n",
       "      <th>13</th>\n",
       "      <td>summarize: PREOPERATIVE DIAGNOSES:,1.  Hematoc...</td>\n",
       "    </tr>\n",
       "    <tr>\n",
       "      <th>14</th>\n",
       "      <td>summarize: PREOPERATIVE DIAGNOSES:,1.  Left ca...</td>\n",
       "    </tr>\n",
       "    <tr>\n",
       "      <th>15</th>\n",
       "      <td>summarize: ADMITTING DIAGNOSES,1. Prematurity....</td>\n",
       "    </tr>\n",
       "    <tr>\n",
       "      <th>16</th>\n",
       "      <td>summarize: PREOPERATIVE DIAGNOSES: , Bilateral...</td>\n",
       "    </tr>\n",
       "    <tr>\n",
       "      <th>17</th>\n",
       "      <td>summarize: INDICATION: , Chest pain.,TYPE OF T...</td>\n",
       "    </tr>\n",
       "    <tr>\n",
       "      <th>18</th>\n",
       "      <td>summarize: CHIEF COMPLAINT:,  Right hydronephr...</td>\n",
       "    </tr>\n",
       "    <tr>\n",
       "      <th>19</th>\n",
       "      <td>summarize: HISTORY AND CLINICAL DATA:  ,The pa...</td>\n",
       "    </tr>\n",
       "  </tbody>\n",
       "</table>\n",
       "</div>"
      ],
      "text/plain": [
       "                                              prompts\n",
       "0   summarize: 2-D STUDY,1. Mild aortic stenosis, ...\n",
       "1   summarize: PREOPERATIVE DIAGNOSES: , Dysphagia...\n",
       "2   summarize: CHIEF COMPLAINT:,  The patient come...\n",
       "3   summarize: PROCEDURE: , Bilateral L5, S1, S2, ...\n",
       "4   summarize: DISCHARGE DIAGNOSES:,1. Chronic obs...\n",
       "5   summarize: INDICATION:,  Coronary artery disea...\n",
       "6   summarize: SUBJECTIVE:,  The patient is a 2-ye...\n",
       "7   summarize: REASON FOR EVALUATION: , The patien...\n",
       "8   summarize: CC:, Progressive visual loss.,HX:, ...\n",
       "9   summarize: The patient was told that the injec...\n",
       "10  summarize: HISTORY OF PRESENT ILLNESS:, The pa...\n",
       "11  summarize: HISTORY OF PRESENT ILLNESS:,  The p...\n",
       "12  summarize: SUBJECTIVE:,  The patient is brough...\n",
       "13  summarize: PREOPERATIVE DIAGNOSES:,1.  Hematoc...\n",
       "14  summarize: PREOPERATIVE DIAGNOSES:,1.  Left ca...\n",
       "15  summarize: ADMITTING DIAGNOSES,1. Prematurity....\n",
       "16  summarize: PREOPERATIVE DIAGNOSES: , Bilateral...\n",
       "17  summarize: INDICATION: , Chest pain.,TYPE OF T...\n",
       "18  summarize: CHIEF COMPLAINT:,  Right hydronephr...\n",
       "19  summarize: HISTORY AND CLINICAL DATA:  ,The pa..."
      ]
     },
     "execution_count": 19,
     "metadata": {},
     "output_type": "execute_result"
    }
   ],
   "source": [
    "# Comparisons\n",
    "from transformers import AutoTokenizer, AutoModelForSeq2SeqLM\n",
    "\n",
    "# Load the pre-trained tokenizer and model.\n",
    "tokenizer = AutoTokenizer.from_pretrained(\"t5-small\", cache_dir=\"../datasets/\")\n",
    "model = AutoModelForSeq2SeqLM.from_pretrained(\"t5-small\", cache_dir=\"../datasets/\")\n",
    "\n",
    "# For summarization, T5-small expects a prefix \"summarize: \", so we prepend that to each cases as a prompt.\n",
    "cases = list(map(lambda cases: \"summarize: \" + cases, newmed_sample[\"document\"]))\n",
    "a = pd.DataFrame(cases, columns=[\"prompts\"])\n",
    "a"
   ]
  },
  {
   "cell_type": "code",
   "execution_count": 20,
   "id": "6fb6bd29",
   "metadata": {},
   "outputs": [],
   "source": [
    "# cases[1]"
   ]
  },
  {
   "cell_type": "code",
   "execution_count": 21,
   "id": "3df62c34",
   "metadata": {},
   "outputs": [
    {
     "name": "stdout",
     "output_type": "stream",
     "text": [
      "input_ids:\n",
      "tensor([[21603,    10,  8401,  ...,     0,     0,     0],\n",
      "        [21603,    10, 22694,  ...,     0,     0,     0],\n",
      "        [21603,    10,     3,  ...,     0,     0,     0],\n",
      "        ...,\n",
      "        [21603,    10,  3388,  ...,     0,     0,     0],\n",
      "        [21603,    10,     3,  ...,     0,     0,     0],\n",
      "        [21603,    10,     3,  ...,     6,   150,     1]])\n",
      "attention_mask:\n",
      "tensor([[1, 1, 1,  ..., 0, 0, 0],\n",
      "        [1, 1, 1,  ..., 0, 0, 0],\n",
      "        [1, 1, 1,  ..., 0, 0, 0],\n",
      "        ...,\n",
      "        [1, 1, 1,  ..., 0, 0, 0],\n",
      "        [1, 1, 1,  ..., 0, 0, 0],\n",
      "        [1, 1, 1,  ..., 1, 1, 1]])\n"
     ]
    }
   ],
   "source": [
    "# Tokenize the input\n",
    "inputs = tokenizer(\n",
    "    cases, max_length=1024, return_tensors=\"pt\", padding=True, truncation=True\n",
    ")\n",
    "print(\"input_ids:\")\n",
    "print(inputs[\"input_ids\"])\n",
    "print(\"attention_mask:\")\n",
    "print(inputs[\"attention_mask\"])"
   ]
  },
  {
   "cell_type": "code",
   "execution_count": 22,
   "id": "8f4d03de",
   "metadata": {},
   "outputs": [
    {
     "name": "stdout",
     "output_type": "stream",
     "text": [
      "tensor([[    0,   132,    19,   209,    12,   204,  1220,     3,     9,   127,\n",
      "          1225,  5925, 17753,  6821,  1153,   894,     6,    68,   150,     3,\n",
      "             9,   127,  1225,     3,  1913,    32,     7,   159,     3,     5,\n",
      "           132,    19,   209,    12,   204,  1220,     3,     9,   127,  1225],\n",
      "        [    0,     8,     3,    15,     7, 10775,   545,   138, 17643,    47,\n",
      "          1389,     6,    28,     8, 24038,    15,     7, 10775,   545,   138,\n",
      "         23704,  1069,    44,  6654,  2446,    45,     8,     3, 11542,     7,\n",
      "           127,     7,     3,     5,   666,    48,     6,   132,    47,     3],\n",
      "        [    0,     8,  1868,   639,    21,   386,    18,  8041,   442,  2274,\n",
      "           440,   691,   413,     6, 24184,    13, 18500,     3,     5,   255,\n",
      "            19,   338,    81,     3,     9,  3016,  8950,  4394,     3,     9,\n",
      "           239,     6,    59,   136, 24268,    53,    42,     3,  3903,  6031],\n",
      "        [    0,  6720,    32,  1859, 15652,    47,   261,    12,  2862,  2682,\n",
      "            63, 15754,     7,    13,     8,  8802,  2781,    11,     8,     3,\n",
      "             7,     9,  2771, 13565,    75, 14518,    11,     8,  4355, 11769,\n",
      "          1295,     3,     5,     8,  1868,    47,  1219,    12,  4258,    66],\n",
      "        [    0,  6658,    44, 12042, 25427,  1092,   257,    28,  1884,   703,\n",
      "          6105,   612,    30, 11356, 11374,    77,  1058,     3,     5,     3,\n",
      "          4450,    18,  1201,    18,  1490,  2335, 11958,   892,    13,  5738,\n",
      "          1406,    42, 17055,     7,    42, 19222,    28,  3990, 16291,     3],\n",
      "        [    0, 27008,    63,     3, 27845,  1994,     6,  5274,     3,     9,\n",
      "           127,  1225,     3,  1913,    32,     7,   159,    57, 20747,    28,\n",
      "          1389,     3, 26836,     3, 27845,     3,     7,    63,     7,   235,\n",
      "          2176,  1666,     3,     5,     8,  1868,  4686,    12,  8669,    11],\n",
      "        [    0,     8,  1868,    19,     3,     9,  8401,  1201,    18,  1490,\n",
      "          3202,   113,   639,    16,    28,  3315,    81,  2005,  6096,     6,\n",
      "         26294,    11, 26612, 18771,     3,     5,   255,   405,   240,  1027,\n",
      "            63,    52,  5822,    30,     3,     9,  5163,  1646,  1873,     3],\n",
      "        [    0,     8,  1868,    65,   118,  5706,    45,     3,     9,  6658,\n",
      "          8423,  1225,  1706,    21,     3,     9,   381,    13,   203,     3,\n",
      "             5,     3,    88,   708,    12,    43,  3976,   116,     3,    88,\n",
      "            47,   507,    42,   957,    28, 17271,    63,    11,  3176,  6358],\n",
      "        [    0,     3,  3959,     3,    63,    87,    32,  5069,  8247,  1632,\n",
      "            46,    32,     7,  3113,   826,  8173,  3730,  1179,   203,  1884,\n",
      "            12,    48,  3831,     3,     5,     3,    88,    65,    92,  4466,\n",
      "         13665,  2267,     3,  7039,     3,     5,     3,    88,   177,   725],\n",
      "        [    0,     8,  1868,    47,  1219,    24,     8, 10672,   164,  1137,\n",
      "            72,  1406,    21,   192,    12,   386,   477,     3,     5,     8,\n",
      "          1868,    47, 10058,    12,  1822,     8,  6476,    57,     3, 17979,\n",
      "         24869,     3, 27081,     6,     3,     7,  4960,  6031,     6,  6476],\n",
      "        [    0,     8,  1868,    19,     3,     9,     3,  4450,    18,  1201,\n",
      "            18,  1490, 16371,   658, 10488,  2335,    28,     3,     9,   892,\n",
      "            13,  8363,     6, 23026, 10702, 13224,     7,     6,    44, 12042,\n",
      "         25427,  1092,   257,     6,  6676, 13177,     6, 17688,     6,     3],\n",
      "        [    0,     8,  1868,    19,    46, 11989,    18,  1201,    18,  1490,\n",
      "         26266,   113,    19,     3,     9,    89,    15,  2160,   109,     3,\n",
      "             5,     3,    88,    65,     3,     9,  4452,  1306, 27594,    16,\n",
      "           286,    11,    19,  1965,    28,   112, 19981,     3,     5,     3],\n",
      "        [    0,     8,  1868,    31,     7,  1293,   469,    19,     3, 25398,\n",
      "            18, 17637,  7051,     6,    84,    19,   323,  8218, 17637,  7051,\n",
      "            16,     8,   657,   847,     3,     5,     3,    88,    65,  1513,\n",
      "             3,     9,   792,    13,  6154,    18, 17637,  7051,     3,     5],\n",
      "        [    0,     3,     9,  8838,    18,  1201,    18,  1490,   872,  5069,\n",
      "          6621,    38,    46,    91, 10061,    12,     8,   879, 19384,  1387,\n",
      "            28,     3,    88,  3357,  6322,  3680,     9,    28,   150,  3209,\n",
      "           179,  1391,    44,     8,    46,   138,   548,   397,     3,     5],\n",
      "        [    0,     3,   849,  8184, 10672,     6,     3,  1913,    32,     7,\n",
      "            53,     3,   324,    32,     7,    63,  5326,   155,   159,    13,\n",
      "           269,  2214,  8425,     3,     5,     3,  1370,    23, 15797,     6,\n",
      "             3,  1913,    32,     7,    53,     3,   324,    32,     7,    63],\n",
      "        [    0,  9806,  2170,    12,     3,     9,  2208,    18,  1201,    18,\n",
      "          1490,  9714,    23,    26,     9,  1914,   230,  3856,  8218, 18629,\n",
      "          2292,  9360,    28,    46,   262,  6338,    13,  1671, 12370,  3888,\n",
      "             3,     5,     3, 21324, 20113,  2662,  1106,   867,    11,     3],\n",
      "        [    0,     8,  1868,    19,     3,     9,  9445,  7393,    18,  1490,\n",
      "          1871,    28,     3,     9,   892,    13,     3,     9, 24097,     3,\n",
      "            75, 17068,    13,     8, 10219,    11, 22775,     3,     5,   255,\n",
      "            65,   365, 16967,     3,    75, 17068, 10219,  2096,    11,    19],\n",
      "        [    0,  6414,    82,    32, 16464,   138,   399,  7316,  5924,     3,\n",
      "         21275, 13503,   729,    15,  1162,  3438,    13,  8320,    52,    95,\n",
      "          4914,   406,   136,  2084,    13,     3,    60,  2660,  2317,    42,\n",
      "          3599, 15595,     3,     5,     3,     9,   537,    32,     7,   630],\n",
      "        [    0,     8,  1868,    19,     3,     9, 11526,    18,  1201,    18,\n",
      "          1490,  3955,   113,    65,     3,     9,   892,    13,     3, 10525,\n",
      "           630,  1874,     6,  6748,  1874,     6,   140,     7,    32,    17,\n",
      "         17801,    32,    51,     9,     6,  6748,  1874,     6,  8363,     6],\n",
      "        [    0,     8,  1868,    19,    46,     3,  4060,    18,  1201,    18,\n",
      "          1490,   872,  5069,    28,   779,  1035,   807,     3,     5,     3,\n",
      "            88,    65,   141,   150,  1227, 21607,   655,     6,   659, 22248,\n",
      "           655,     6,   150,  1084,    42,  1176,  8953, 10845,    15,     3]])\n"
     ]
    }
   ],
   "source": [
    "# Generate summaries\n",
    "summary_ids = model.generate(\n",
    "    inputs.input_ids,\n",
    "    attention_mask=inputs.attention_mask,\n",
    "    num_beams=2,\n",
    "    min_length=0,\n",
    "    max_length=40,\n",
    ")\n",
    "print(summary_ids)"
   ]
  },
  {
   "cell_type": "code",
   "execution_count": 23,
   "id": "3db65729",
   "metadata": {},
   "outputs": [
    {
     "data": {
      "text/html": [
       "<div>\n",
       "<style scoped>\n",
       "    .dataframe tbody tr th:only-of-type {\n",
       "        vertical-align: middle;\n",
       "    }\n",
       "\n",
       "    .dataframe tbody tr th {\n",
       "        vertical-align: top;\n",
       "    }\n",
       "\n",
       "    .dataframe thead th {\n",
       "        text-align: right;\n",
       "    }\n",
       "</style>\n",
       "<table border=\"1\" class=\"dataframe\">\n",
       "  <thead>\n",
       "    <tr style=\"text-align: right;\">\n",
       "      <th></th>\n",
       "      <th>decoded_summariesA</th>\n",
       "    </tr>\n",
       "  </thead>\n",
       "  <tbody>\n",
       "    <tr>\n",
       "      <th>0</th>\n",
       "      <td>there is 1 to 2+ aortic regurgitation easily s...</td>\n",
       "    </tr>\n",
       "    <tr>\n",
       "      <th>1</th>\n",
       "      <td>the esophageal contour was normal, with the ga...</td>\n",
       "    </tr>\n",
       "    <tr>\n",
       "      <th>2</th>\n",
       "      <td>the patient comes for three-week postpartum ch...</td>\n",
       "    </tr>\n",
       "    <tr>\n",
       "      <th>3</th>\n",
       "      <td>fluoroscopy was used to identify bony landmark...</td>\n",
       "    </tr>\n",
       "    <tr>\n",
       "      <th>4</th>\n",
       "      <td>chronic atrial fibrillation with prior ablatio...</td>\n",
       "    </tr>\n",
       "    <tr>\n",
       "      <th>5</th>\n",
       "      <td>coronary artery disease, severe aortic stenosi...</td>\n",
       "    </tr>\n",
       "    <tr>\n",
       "      <th>6</th>\n",
       "      <td>the patient is a 2-year-old girl who comes in ...</td>\n",
       "    </tr>\n",
       "    <tr>\n",
       "      <th>7</th>\n",
       "      <td>the patient has been suffering from a chronic ...</td>\n",
       "    </tr>\n",
       "    <tr>\n",
       "      <th>8</th>\n",
       "      <td>76 y/o male suddenly became anosmic following ...</td>\n",
       "    </tr>\n",
       "    <tr>\n",
       "      <th>9</th>\n",
       "      <td>the patient was told that the injection may ca...</td>\n",
       "    </tr>\n",
       "    <tr>\n",
       "      <th>10</th>\n",
       "      <td>the patient is a 71-year-old Caucasian woman w...</td>\n",
       "    </tr>\n",
       "    <tr>\n",
       "      <th>11</th>\n",
       "      <td>the patient is an 85-year-old gentleman who is...</td>\n",
       "    </tr>\n",
       "    <tr>\n",
       "      <th>12</th>\n",
       "      <td>the patient's weight today is 186-1/2 pounds, ...</td>\n",
       "    </tr>\n",
       "    <tr>\n",
       "      <th>13</th>\n",
       "      <td>a 43-year-old white male presents as an outpat...</td>\n",
       "    </tr>\n",
       "    <tr>\n",
       "      <th>14</th>\n",
       "      <td>steroid injection, stenosing tenosynovitis of ...</td>\n",
       "    </tr>\n",
       "    <tr>\n",
       "      <th>15</th>\n",
       "      <td>infant born to a 26-year-old gravida 1, now pa...</td>\n",
       "    </tr>\n",
       "    <tr>\n",
       "      <th>16</th>\n",
       "      <td>the patient is a 10-month-old baby with a hist...</td>\n",
       "    </tr>\n",
       "    <tr>\n",
       "      <th>17</th>\n",
       "      <td>nuclear myocardial perfusion scan demonstrates...</td>\n",
       "    </tr>\n",
       "    <tr>\n",
       "      <th>18</th>\n",
       "      <td>the patient is a 56-year-old female who has a ...</td>\n",
       "    </tr>\n",
       "    <tr>\n",
       "      <th>19</th>\n",
       "      <td>the patient is an 88-year-old white male with ...</td>\n",
       "    </tr>\n",
       "  </tbody>\n",
       "</table>\n",
       "</div>"
      ],
      "text/plain": [
       "                                   decoded_summariesA\n",
       "0   there is 1 to 2+ aortic regurgitation easily s...\n",
       "1   the esophageal contour was normal, with the ga...\n",
       "2   the patient comes for three-week postpartum ch...\n",
       "3   fluoroscopy was used to identify bony landmark...\n",
       "4   chronic atrial fibrillation with prior ablatio...\n",
       "5   coronary artery disease, severe aortic stenosi...\n",
       "6   the patient is a 2-year-old girl who comes in ...\n",
       "7   the patient has been suffering from a chronic ...\n",
       "8   76 y/o male suddenly became anosmic following ...\n",
       "9   the patient was told that the injection may ca...\n",
       "10  the patient is a 71-year-old Caucasian woman w...\n",
       "11  the patient is an 85-year-old gentleman who is...\n",
       "12  the patient's weight today is 186-1/2 pounds, ...\n",
       "13  a 43-year-old white male presents as an outpat...\n",
       "14  steroid injection, stenosing tenosynovitis of ...\n",
       "15  infant born to a 26-year-old gravida 1, now pa...\n",
       "16  the patient is a 10-month-old baby with a hist...\n",
       "17  nuclear myocardial perfusion scan demonstrates...\n",
       "18  the patient is a 56-year-old female who has a ...\n",
       "19  the patient is an 88-year-old white male with ..."
      ]
     },
     "metadata": {},
     "output_type": "display_data"
    }
   ],
   "source": [
    "# Decode the generated summaries\n",
    "decoded_summaries = tokenizer.batch_decode(summary_ids, skip_special_tokens=True)\n",
    "med_sample_modelA = pd.DataFrame(decoded_summaries, columns=[\"decoded_summariesA\"])\n",
    "display(med_sample_modelA)"
   ]
  },
  {
   "cell_type": "code",
   "execution_count": 24,
   "id": "8d321311",
   "metadata": {},
   "outputs": [
    {
     "data": {
      "text/plain": [
       "'the esophageal contour was normal, with the gastroesophageal junction located at 38 cm from the incisors. below this, there was '"
      ]
     },
     "execution_count": 24,
     "metadata": {},
     "output_type": "execute_result"
    }
   ],
   "source": [
    "med_sample_modelA[\"decoded_summariesA\"][1]"
   ]
  },
  {
   "cell_type": "markdown",
   "id": "548ccb81",
   "metadata": {},
   "source": [
    "## (b). Another method with T5Tokenizer and T5ForConditionalGeneration"
   ]
  },
  {
   "cell_type": "code",
   "execution_count": 25,
   "id": "79326fb5",
   "metadata": {},
   "outputs": [],
   "source": [
    "# Alternative method\n",
    "from transformers import T5Tokenizer, T5ForConditionalGeneration\n",
    "\n",
    "tokenizer = T5Tokenizer.from_pretrained(\"t5-small\", cache_dir=\"../working/cache/\")\n",
    "model = T5ForConditionalGeneration.from_pretrained(\n",
    "    \"t5-small\", cache_dir=\"../datasets/\"\n",
    ")"
   ]
  },
  {
   "cell_type": "code",
   "execution_count": 26,
   "id": "09f2b59c",
   "metadata": {},
   "outputs": [],
   "source": [
    "inputs = tokenizer(\n",
    "    cases, max_length=1024, return_tensors=\"pt\", padding=True, truncation=True\n",
    ")\n",
    "summary_ids = model.generate(\n",
    "    inputs.input_ids,\n",
    "    attention_mask=inputs.attention_mask,\n",
    "    num_beams=2,\n",
    "    min_length=0,\n",
    "    max_length=40,\n",
    ")\n",
    "decoded_summaries = tokenizer.batch_decode(summary_ids, skip_special_tokens=True)"
   ]
  },
  {
   "cell_type": "code",
   "execution_count": 27,
   "id": "3e01f859",
   "metadata": {},
   "outputs": [
    {
     "data": {
      "text/html": [
       "<div>\n",
       "<style scoped>\n",
       "    .dataframe tbody tr th:only-of-type {\n",
       "        vertical-align: middle;\n",
       "    }\n",
       "\n",
       "    .dataframe tbody tr th {\n",
       "        vertical-align: top;\n",
       "    }\n",
       "\n",
       "    .dataframe thead th {\n",
       "        text-align: right;\n",
       "    }\n",
       "</style>\n",
       "<table border=\"1\" class=\"dataframe\">\n",
       "  <thead>\n",
       "    <tr style=\"text-align: right;\">\n",
       "      <th></th>\n",
       "      <th>decoded_summariesB</th>\n",
       "    </tr>\n",
       "  </thead>\n",
       "  <tbody>\n",
       "    <tr>\n",
       "      <th>0</th>\n",
       "      <td>there is 1 to 2+ aortic regurgitation easily s...</td>\n",
       "    </tr>\n",
       "    <tr>\n",
       "      <th>1</th>\n",
       "      <td>the esophageal contour was normal, with the ga...</td>\n",
       "    </tr>\n",
       "    <tr>\n",
       "      <th>2</th>\n",
       "      <td>the patient comes for three-week postpartum ch...</td>\n",
       "    </tr>\n",
       "    <tr>\n",
       "      <th>3</th>\n",
       "      <td>fluoroscopy was used to identify bony landmark...</td>\n",
       "    </tr>\n",
       "    <tr>\n",
       "      <th>4</th>\n",
       "      <td>chronic atrial fibrillation with prior ablatio...</td>\n",
       "    </tr>\n",
       "    <tr>\n",
       "      <th>5</th>\n",
       "      <td>coronary artery disease, severe aortic stenosi...</td>\n",
       "    </tr>\n",
       "    <tr>\n",
       "      <th>6</th>\n",
       "      <td>the patient is a 2-year-old girl who comes in ...</td>\n",
       "    </tr>\n",
       "    <tr>\n",
       "      <th>7</th>\n",
       "      <td>the patient has been suffering from a chronic ...</td>\n",
       "    </tr>\n",
       "    <tr>\n",
       "      <th>8</th>\n",
       "      <td>76 y/o male suddenly became anosmic following ...</td>\n",
       "    </tr>\n",
       "    <tr>\n",
       "      <th>9</th>\n",
       "      <td>the patient was told that the injection may ca...</td>\n",
       "    </tr>\n",
       "    <tr>\n",
       "      <th>10</th>\n",
       "      <td>the patient is a 71-year-old Caucasian woman w...</td>\n",
       "    </tr>\n",
       "    <tr>\n",
       "      <th>11</th>\n",
       "      <td>the patient is an 85-year-old gentleman who is...</td>\n",
       "    </tr>\n",
       "    <tr>\n",
       "      <th>12</th>\n",
       "      <td>the patient's weight today is 186-1/2 pounds, ...</td>\n",
       "    </tr>\n",
       "    <tr>\n",
       "      <th>13</th>\n",
       "      <td>a 43-year-old white male presents as an outpat...</td>\n",
       "    </tr>\n",
       "    <tr>\n",
       "      <th>14</th>\n",
       "      <td>steroid injection, stenosing tenosynovitis of ...</td>\n",
       "    </tr>\n",
       "    <tr>\n",
       "      <th>15</th>\n",
       "      <td>infant born to a 26-year-old gravida 1, now pa...</td>\n",
       "    </tr>\n",
       "    <tr>\n",
       "      <th>16</th>\n",
       "      <td>the patient is a 10-month-old baby with a hist...</td>\n",
       "    </tr>\n",
       "    <tr>\n",
       "      <th>17</th>\n",
       "      <td>nuclear myocardial perfusion scan demonstrates...</td>\n",
       "    </tr>\n",
       "    <tr>\n",
       "      <th>18</th>\n",
       "      <td>the patient is a 56-year-old female who has a ...</td>\n",
       "    </tr>\n",
       "    <tr>\n",
       "      <th>19</th>\n",
       "      <td>the patient is an 88-year-old white male with ...</td>\n",
       "    </tr>\n",
       "  </tbody>\n",
       "</table>\n",
       "</div>"
      ],
      "text/plain": [
       "                                   decoded_summariesB\n",
       "0   there is 1 to 2+ aortic regurgitation easily s...\n",
       "1   the esophageal contour was normal, with the ga...\n",
       "2   the patient comes for three-week postpartum ch...\n",
       "3   fluoroscopy was used to identify bony landmark...\n",
       "4   chronic atrial fibrillation with prior ablatio...\n",
       "5   coronary artery disease, severe aortic stenosi...\n",
       "6   the patient is a 2-year-old girl who comes in ...\n",
       "7   the patient has been suffering from a chronic ...\n",
       "8   76 y/o male suddenly became anosmic following ...\n",
       "9   the patient was told that the injection may ca...\n",
       "10  the patient is a 71-year-old Caucasian woman w...\n",
       "11  the patient is an 85-year-old gentleman who is...\n",
       "12  the patient's weight today is 186-1/2 pounds, ...\n",
       "13  a 43-year-old white male presents as an outpat...\n",
       "14  steroid injection, stenosing tenosynovitis of ...\n",
       "15  infant born to a 26-year-old gravida 1, now pa...\n",
       "16  the patient is a 10-month-old baby with a hist...\n",
       "17  nuclear myocardial perfusion scan demonstrates...\n",
       "18  the patient is a 56-year-old female who has a ...\n",
       "19  the patient is an 88-year-old white male with ..."
      ]
     },
     "metadata": {},
     "output_type": "display_data"
    }
   ],
   "source": [
    "med_sample_modelB = pd.DataFrame(decoded_summaries, columns=[\"decoded_summariesB\"])\n",
    "display(med_sample_modelB)"
   ]
  },
  {
   "cell_type": "code",
   "execution_count": 28,
   "id": "7722a5ea",
   "metadata": {},
   "outputs": [
    {
     "data": {
      "text/plain": [
       "'the esophageal contour was normal, with the gastroesophageal junction located at 38 cm from the incisors. below this, there was'"
      ]
     },
     "execution_count": 28,
     "metadata": {},
     "output_type": "execute_result"
    }
   ],
   "source": [
    "med_sample_modelB[\"decoded_summariesB\"][1]"
   ]
  },
  {
   "cell_type": "markdown",
   "id": "f4b7dfc6",
   "metadata": {},
   "source": [
    "## Translation (Chinese to English)"
   ]
  },
  {
   "cell_type": "code",
   "execution_count": 29,
   "id": "d4415132",
   "metadata": {},
   "outputs": [],
   "source": [
    "## Chinese to English (Only one model availble from Hugging Face now)\n",
    "en_to_es_translation_pipeline = pipeline(\n",
    "    task=\"translation\",\n",
    "    model=\"Helsinki-NLP/opus-mt-zh-en\",\n",
    "    model_kwargs={\"cache_dir\": \"../datasets/\"},\n",
    ")"
   ]
  },
  {
   "cell_type": "code",
   "execution_count": 30,
   "id": "4e285a29",
   "metadata": {},
   "outputs": [
    {
     "data": {
      "text/plain": [
       "[{'translation_text': 'She suddenly got sick, she needed to see a doctor right away, and according to the symptoms we had, we had to choose the counterpart hospital and the doctor as soon as possible.'}]"
      ]
     },
     "execution_count": 30,
     "metadata": {},
     "output_type": "execute_result"
    }
   ],
   "source": [
    "en_to_es_translation_pipeline(\n",
    "    \"她突然生病了，需要马上看医生，根据现有的症状我们需要尽快选择对口的医院和医生\"\n",
    ")"
   ]
  },
  {
   "cell_type": "markdown",
   "id": "5a83ef4c",
   "metadata": {},
   "source": [
    "## Generation"
   ]
  },
  {
   "cell_type": "code",
   "execution_count": 31,
   "id": "332bf765",
   "metadata": {},
   "outputs": [],
   "source": [
    "t5_small_pipeline = pipeline(\n",
    "    task=\"text2text-generation\",\n",
    "    model=\"t5-small\",\n",
    "    max_length=50,\n",
    "    model_kwargs={\"cache_dir\": \"../datasets/\"},\n",
    ")"
   ]
  },
  {
   "cell_type": "code",
   "execution_count": 32,
   "id": "d9fb42e3",
   "metadata": {},
   "outputs": [
    {
     "data": {
      "text/plain": [
       "[{'generated_text': 'A fost brusc bolnavă, a trebuit să vadă un medic imediat şi, potrivit simptomelor pe care le-am avut, a trebuit să alegem cât mai curând spitalul omolog şi medicul.'}]"
      ]
     },
     "execution_count": 32,
     "metadata": {},
     "output_type": "execute_result"
    }
   ],
   "source": [
    "t5_small_pipeline(\n",
    "    \"translate English to Romanian: She suddenly got sick, she needed to see a doctor right away, and according to the symptoms we had, we had to choose the counterpart hospital and the doctor as soon as possible.\"\n",
    ")"
   ]
  },
  {
   "cell_type": "code",
   "execution_count": 38,
   "id": "9b69c8c2",
   "metadata": {},
   "outputs": [],
   "source": [
    "# t5_small_pipeline(\n",
    "#     \"translate English to Chinese: She suddenly got sick, she needed to see a doctor right away, and according to the symptoms we had, we had to choose the counterpart hospital and the doctor as soon as possible.\"\n",
    "# )"
   ]
  },
  {
   "cell_type": "code",
   "execution_count": 33,
   "id": "9e7ec0ff",
   "metadata": {},
   "outputs": [],
   "source": [
    "## Many thanks to HuggingFace (References)."
   ]
  },
  {
   "cell_type": "code",
   "execution_count": null,
   "id": "c864e06f",
   "metadata": {},
   "outputs": [],
   "source": []
  },
  {
   "cell_type": "code",
   "execution_count": null,
   "id": "9f9481cf",
   "metadata": {},
   "outputs": [],
   "source": []
  },
  {
   "cell_type": "code",
   "execution_count": null,
   "id": "a2266f49",
   "metadata": {},
   "outputs": [],
   "source": []
  },
  {
   "cell_type": "code",
   "execution_count": null,
   "id": "ebbfa03a",
   "metadata": {},
   "outputs": [],
   "source": []
  },
  {
   "cell_type": "code",
   "execution_count": null,
   "id": "f8907153",
   "metadata": {},
   "outputs": [],
   "source": []
  }
 ],
 "metadata": {
  "kernelspec": {
   "display_name": "Python 3 (ipykernel)",
   "language": "python",
   "name": "python3"
  },
  "language_info": {
   "codemirror_mode": {
    "name": "ipython",
    "version": 3
   },
   "file_extension": ".py",
   "mimetype": "text/x-python",
   "name": "python",
   "nbconvert_exporter": "python",
   "pygments_lexer": "ipython3",
   "version": "3.9.7"
  },
  "varInspector": {
   "cols": {
    "lenName": 16,
    "lenType": 16,
    "lenVar": 40
   },
   "kernels_config": {
    "python": {
     "delete_cmd_postfix": "",
     "delete_cmd_prefix": "del ",
     "library": "var_list.py",
     "varRefreshCmd": "print(var_dic_list())"
    },
    "r": {
     "delete_cmd_postfix": ") ",
     "delete_cmd_prefix": "rm(",
     "library": "var_list.r",
     "varRefreshCmd": "cat(var_dic_list()) "
    }
   },
   "types_to_exclude": [
    "module",
    "function",
    "builtin_function_or_method",
    "instance",
    "_Feature"
   ],
   "window_display": false
  }
 },
 "nbformat": 4,
 "nbformat_minor": 5
}
