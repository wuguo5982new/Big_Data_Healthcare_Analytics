{
 "cells": [
  {
   "cell_type": "markdown",
   "id": "5d25f60b",
   "metadata": {},
   "source": [
    "### This project performed text classification of medical records by using fine-tuning LLMs."
   ]
  },
  {
   "cell_type": "code",
   "execution_count": 1,
   "id": "253c455b",
   "metadata": {},
   "outputs": [
    {
     "name": "stderr",
     "output_type": "stream",
     "text": [
      "C:\\Users\\Sealion\\anaconda3\\lib\\site-packages\\scipy\\__init__.py:146: UserWarning: A NumPy version >=1.16.5 and <1.23.0 is required for this version of SciPy (detected version 1.26.0\n",
      "  warnings.warn(f\"A NumPy version >={np_minversion} and <{np_maxversion}\"\n"
     ]
    }
   ],
   "source": [
    "import os\n",
    "import pandas as pd\n",
    "import transformers\n",
    "from datasets import load_dataset\n",
    "from transformers import pipeline"
   ]
  },
  {
   "cell_type": "code",
   "execution_count": 60,
   "id": "e7d96249",
   "metadata": {},
   "outputs": [],
   "source": [
    "# conda install pytorch torchvision cudatoolkit=10.1 -c pytorch"
   ]
  },
  {
   "cell_type": "code",
   "execution_count": 3,
   "id": "eccca143",
   "metadata": {},
   "outputs": [],
   "source": [
    "# import torch\n",
    "# torch.cuda.get_device_name(0)"
   ]
  },
  {
   "cell_type": "code",
   "execution_count": 4,
   "id": "d62ba9fb",
   "metadata": {},
   "outputs": [],
   "source": [
    "# DEVICE = torch.device('cuda:0' if torch.cuda.is_available() else 'cpu')"
   ]
  },
  {
   "cell_type": "code",
   "execution_count": 5,
   "id": "60295072",
   "metadata": {},
   "outputs": [
    {
     "name": "stderr",
     "output_type": "stream",
     "text": [
      "Found cached dataset parquet (C:/Users/Sealion/Desktop/SOS_JOB/datasets/rungalileo___parquet/rungalileo--medical_transcription_4-cc509920750fa75b/0.0.0/14a00e99c0d15a23649d0db8944380ac81082d4b021f398733dd84f3a6c569a7)\n"
     ]
    },
    {
     "data": {
      "application/vnd.jupyter.widget-view+json": {
       "model_id": "5469acf45a0b4e628f5ca585c9a3e46e",
       "version_major": 2,
       "version_minor": 0
      },
      "text/plain": [
       "  0%|          | 0/2 [00:00<?, ?it/s]"
      ]
     },
     "metadata": {},
     "output_type": "display_data"
    },
    {
     "data": {
      "text/plain": [
       "DatasetDict({\n",
       "    train: Dataset({\n",
       "        features: ['id', 'text', 'label'],\n",
       "        num_rows: 4499\n",
       "    })\n",
       "    test: Dataset({\n",
       "        features: ['id', 'text', 'label'],\n",
       "        num_rows: 500\n",
       "    })\n",
       "})"
      ]
     },
     "execution_count": 5,
     "metadata": {},
     "output_type": "execute_result"
    }
   ],
   "source": [
    "med_dataset = load_dataset(\"rungalileo/medical_transcription_4\", cache_dir=\"../datasets/\")  \n",
    "med_dataset  "
   ]
  },
  {
   "cell_type": "code",
   "execution_count": 6,
   "id": "ca25564a",
   "metadata": {},
   "outputs": [
    {
     "data": {
      "text/html": [
       "<div>\n",
       "<style scoped>\n",
       "    .dataframe tbody tr th:only-of-type {\n",
       "        vertical-align: middle;\n",
       "    }\n",
       "\n",
       "    .dataframe tbody tr th {\n",
       "        vertical-align: top;\n",
       "    }\n",
       "\n",
       "    .dataframe thead th {\n",
       "        text-align: right;\n",
       "    }\n",
       "</style>\n",
       "<table border=\"1\" class=\"dataframe\">\n",
       "  <thead>\n",
       "    <tr style=\"text-align: right;\">\n",
       "      <th></th>\n",
       "      <th>id</th>\n",
       "      <th>text</th>\n",
       "      <th>label</th>\n",
       "    </tr>\n",
       "  </thead>\n",
       "  <tbody>\n",
       "    <tr>\n",
       "      <th>0</th>\n",
       "      <td>0</td>\n",
       "      <td>2-D STUDY,1. Mild aortic stenosis, widely calc...</td>\n",
       "      <td>0</td>\n",
       "    </tr>\n",
       "    <tr>\n",
       "      <th>1</th>\n",
       "      <td>1</td>\n",
       "      <td>PREOPERATIVE DIAGNOSES: , Dysphagia and esopha...</td>\n",
       "      <td>3</td>\n",
       "    </tr>\n",
       "    <tr>\n",
       "      <th>2</th>\n",
       "      <td>2</td>\n",
       "      <td>CHIEF COMPLAINT:,  The patient comes for three...</td>\n",
       "      <td>0</td>\n",
       "    </tr>\n",
       "    <tr>\n",
       "      <th>3</th>\n",
       "      <td>3</td>\n",
       "      <td>PROCEDURE: , Bilateral L5, S1, S2, and S3 radi...</td>\n",
       "      <td>3</td>\n",
       "    </tr>\n",
       "    <tr>\n",
       "      <th>4</th>\n",
       "      <td>4</td>\n",
       "      <td>DISCHARGE DIAGNOSES:,1. Chronic obstructive pu...</td>\n",
       "      <td>0</td>\n",
       "    </tr>\n",
       "  </tbody>\n",
       "</table>\n",
       "</div>"
      ],
      "text/plain": [
       "   id                                               text  label\n",
       "0   0  2-D STUDY,1. Mild aortic stenosis, widely calc...      0\n",
       "1   1  PREOPERATIVE DIAGNOSES: , Dysphagia and esopha...      3\n",
       "2   2  CHIEF COMPLAINT:,  The patient comes for three...      0\n",
       "3   3  PROCEDURE: , Bilateral L5, S1, S2, and S3 radi...      3\n",
       "4   4  DISCHARGE DIAGNOSES:,1. Chronic obstructive pu...      0"
      ]
     },
     "metadata": {},
     "output_type": "display_data"
    },
    {
     "data": {
      "text/plain": [
       "(None, (4999, 3))"
      ]
     },
     "execution_count": 6,
     "metadata": {},
     "output_type": "execute_result"
    }
   ],
   "source": [
    "med_total = pd.concat([pd.DataFrame.from_dict(med_dataset['train']), pd.DataFrame.from_dict(med_dataset['test'])], axis = 0)\n",
    "display(med_total.head(5)), med_total.shape"
   ]
  },
  {
   "cell_type": "code",
   "execution_count": 7,
   "id": "c0d7a1be",
   "metadata": {},
   "outputs": [
    {
     "data": {
      "text/plain": [
       "3    1640\n",
       "0    1228\n",
       "2    1149\n",
       "1     982\n",
       "Name: label, dtype: int64"
      ]
     },
     "execution_count": 7,
     "metadata": {},
     "output_type": "execute_result"
    }
   ],
   "source": [
    "med_total['label'].value_counts()"
   ]
  },
  {
   "cell_type": "code",
   "execution_count": 8,
   "id": "289cee3b",
   "metadata": {},
   "outputs": [
    {
     "data": {
      "text/html": [
       "<div>\n",
       "<style scoped>\n",
       "    .dataframe tbody tr th:only-of-type {\n",
       "        vertical-align: middle;\n",
       "    }\n",
       "\n",
       "    .dataframe tbody tr th {\n",
       "        vertical-align: top;\n",
       "    }\n",
       "\n",
       "    .dataframe thead th {\n",
       "        text-align: right;\n",
       "    }\n",
       "</style>\n",
       "<table border=\"1\" class=\"dataframe\">\n",
       "  <thead>\n",
       "    <tr style=\"text-align: right;\">\n",
       "      <th></th>\n",
       "      <th>text</th>\n",
       "      <th>label</th>\n",
       "    </tr>\n",
       "  </thead>\n",
       "  <tbody>\n",
       "    <tr>\n",
       "      <th>0</th>\n",
       "      <td>2-D STUDY,1. Mild aortic stenosis, widely calc...</td>\n",
       "      <td>0</td>\n",
       "    </tr>\n",
       "    <tr>\n",
       "      <th>1</th>\n",
       "      <td>CHIEF COMPLAINT:,  The patient comes for three...</td>\n",
       "      <td>0</td>\n",
       "    </tr>\n",
       "    <tr>\n",
       "      <th>2</th>\n",
       "      <td>DISCHARGE DIAGNOSES:,1. Chronic obstructive pu...</td>\n",
       "      <td>0</td>\n",
       "    </tr>\n",
       "    <tr>\n",
       "      <th>3</th>\n",
       "      <td>SUBJECTIVE:,  The patient is a 2-year-old litt...</td>\n",
       "      <td>0</td>\n",
       "    </tr>\n",
       "    <tr>\n",
       "      <th>4</th>\n",
       "      <td>REASON FOR EVALUATION: , The patient is a 37-y...</td>\n",
       "      <td>0</td>\n",
       "    </tr>\n",
       "  </tbody>\n",
       "</table>\n",
       "</div>"
      ],
      "text/plain": [
       "                                                text  label\n",
       "0  2-D STUDY,1. Mild aortic stenosis, widely calc...      0\n",
       "1  CHIEF COMPLAINT:,  The patient comes for three...      0\n",
       "2  DISCHARGE DIAGNOSES:,1. Chronic obstructive pu...      0\n",
       "3  SUBJECTIVE:,  The patient is a 2-year-old litt...      0\n",
       "4  REASON FOR EVALUATION: , The patient is a 37-y...      0"
      ]
     },
     "execution_count": 8,
     "metadata": {},
     "output_type": "execute_result"
    }
   ],
   "source": [
    "med_train = med_total[med_total['label'] == 0][['text', 'label']].reset_index(drop=True)\n",
    "med_train.head(5)"
   ]
  },
  {
   "cell_type": "code",
   "execution_count": 9,
   "id": "14850dd9",
   "metadata": {},
   "outputs": [
    {
     "data": {
      "text/plain": [
       "{0}"
      ]
     },
     "execution_count": 9,
     "metadata": {},
     "output_type": "execute_result"
    }
   ],
   "source": [
    "set(med_train['label'])"
   ]
  },
  {
   "cell_type": "code",
   "execution_count": 10,
   "id": "df1810ca",
   "metadata": {},
   "outputs": [],
   "source": [
    "# med_train['text'][1]"
   ]
  },
  {
   "cell_type": "code",
   "execution_count": 11,
   "id": "6d8c26fe",
   "metadata": {},
   "outputs": [
    {
     "data": {
      "text/html": [
       "<div>\n",
       "<style scoped>\n",
       "    .dataframe tbody tr th:only-of-type {\n",
       "        vertical-align: middle;\n",
       "    }\n",
       "\n",
       "    .dataframe tbody tr th {\n",
       "        vertical-align: top;\n",
       "    }\n",
       "\n",
       "    .dataframe thead th {\n",
       "        text-align: right;\n",
       "    }\n",
       "</style>\n",
       "<table border=\"1\" class=\"dataframe\">\n",
       "  <thead>\n",
       "    <tr style=\"text-align: right;\">\n",
       "      <th></th>\n",
       "      <th>text</th>\n",
       "      <th>label</th>\n",
       "    </tr>\n",
       "  </thead>\n",
       "  <tbody>\n",
       "    <tr>\n",
       "      <th>0</th>\n",
       "      <td>INDICATION:,  Coronary artery disease, severe ...</td>\n",
       "      <td>2</td>\n",
       "    </tr>\n",
       "    <tr>\n",
       "      <th>1</th>\n",
       "      <td>The patient was told that the injection may ca...</td>\n",
       "      <td>2</td>\n",
       "    </tr>\n",
       "    <tr>\n",
       "      <th>2</th>\n",
       "      <td>HISTORY OF PRESENT ILLNESS:, The patient is a ...</td>\n",
       "      <td>2</td>\n",
       "    </tr>\n",
       "    <tr>\n",
       "      <th>3</th>\n",
       "      <td>INDICATION: , Chest pain.,TYPE OF TEST: , Aden...</td>\n",
       "      <td>2</td>\n",
       "    </tr>\n",
       "    <tr>\n",
       "      <th>4</th>\n",
       "      <td>HISTORY AND CLINICAL DATA:  ,The patient is an...</td>\n",
       "      <td>2</td>\n",
       "    </tr>\n",
       "  </tbody>\n",
       "</table>\n",
       "</div>"
      ],
      "text/plain": [
       "                                                text  label\n",
       "0  INDICATION:,  Coronary artery disease, severe ...      2\n",
       "1  The patient was told that the injection may ca...      2\n",
       "2  HISTORY OF PRESENT ILLNESS:, The patient is a ...      2\n",
       "3  INDICATION: , Chest pain.,TYPE OF TEST: , Aden...      2\n",
       "4  HISTORY AND CLINICAL DATA:  ,The patient is an...      2"
      ]
     },
     "execution_count": 11,
     "metadata": {},
     "output_type": "execute_result"
    }
   ],
   "source": [
    "med_test = med_total[med_total['label'] == 2][['text', 'label']].reset_index(drop=True)\n",
    "med_test.head(5)"
   ]
  },
  {
   "cell_type": "code",
   "execution_count": 64,
   "id": "26bbed48",
   "metadata": {},
   "outputs": [
    {
     "data": {
      "text/plain": [
       "'CHIEF COMPLAINT:,  Arm and leg jerking.,HISTORY OF PRESENT ILLNESS:  ,The patient is a 10-day-old Caucasian female here for approximately 1 minute bilateral arm and leg jerks, which started at day of life 1 and have occurred 6 total times since then.  Mom denies any apnea, perioral cyanosis, or color changes.  These movements are without any back arching.  They mainly occur during sleep, so mom is unaware of any eye rolling.  Mom is able to wake the patient up during this periods and stop the patient\\'s extremity movements.,Otherwise, this patient has been active, breast-feeding well, although she falls asleep at the breast.  She is currently taking in 15 to 20 minutes of breast milk every 2 to 3 hours.  She is having increased diapers up to 8 wet and 6 to 7 dirty-yellow stools per day.,REVIEW OF SYSTEMS:,  Negative fever, negative fussiness, tracks with her eyes, some sneezing and hiccups.  This patient has developed some upper airway congestion in the past day.  She has not had any vomiting or diarrhea.  Per mom, she does not spit up, and mom is also unable to notice any relationship between these movements and feeds.  This patient has not had any rashes.  Mom was notified by the nurses at birth that her temperature may be low of approximately 97.5 degrees Fahrenheit.  Otherwise, the above history of present illness and other review of systems negative.,BIRTH/PAST MEDICAL HISTORY: , The patient was an 8 pound 11 ounce baby, ex-41-weeker born via vaginal delivery without vacuum assist or forceps.  There were no complications during pregnancy such as diabetes or hypertension.  Prenatal care started at approximately 3 weeks, and mom maintained all visits.  She also denies any smoking, alcohol, or drug use during the pregnancy.  Mom was GBS status positive, but denies any other infections such as urinary tract infections.  She did not have any fever during labor and received inadequate intrapartum antibiotics prophylaxis.  After delivery, this patient did not receive antibiotics secondary to \"borderline labs.\"  She was jaundiced after birth and received photo treatments.  Her discharge bilirubin level was approximately 11.  Mom and child stayed in the hospital for approximately 3-1/2 days.,Mom denies any history of sexually transmitted disease in her or dad.  She specifically denies any blistering, herpetic genital lesions.  She does have a history though of human papillomavirus warts (vaginal), removed 20 years ago.,PAST SURGICAL HISTORY:,  Negative.,ALLERGIES: , No known drug allergies.,MEDICATIONS: , None.,SOCIAL HISTORY: , At home live mom, dad, and 18-, 16-, 14-, 12-year-old brothers, and a 3-year-old sister.  All the residents at home are sick currently with cold, cough, runny nose, except for mom.  At home also live 2 dogs and 2 outside cats.  Mom denies any recent travel history, especially during the recent holidays and no smoke exposures.,FAMILY HISTORY:,  Dad is with a stepdaughter with seizures starting at 14 years old, on medications currently.  The patient\\'s 16-year-old brother has incessant nonsustained ventricular tachycardia.  The maternal grandmother is notable for hypertension and diabetes.  There are no other children in the family who see a specialist or no child death less than 1 year of age.,PHYSICAL EXAMINATION:nan'"
      ]
     },
     "execution_count": 64,
     "metadata": {},
     "output_type": "execute_result"
    }
   ],
   "source": [
    "med_test['text'][10]"
   ]
  },
  {
   "cell_type": "code",
   "execution_count": 13,
   "id": "92685d79",
   "metadata": {},
   "outputs": [
    {
     "data": {
      "text/plain": [
       "{2}"
      ]
     },
     "execution_count": 13,
     "metadata": {},
     "output_type": "execute_result"
    }
   ],
   "source": [
    "set(med_test['label'])"
   ]
  },
  {
   "cell_type": "code",
   "execution_count": 14,
   "id": "edb13dc9",
   "metadata": {},
   "outputs": [
    {
     "data": {
      "text/html": [
       "<div>\n",
       "<style scoped>\n",
       "    .dataframe tbody tr th:only-of-type {\n",
       "        vertical-align: middle;\n",
       "    }\n",
       "\n",
       "    .dataframe tbody tr th {\n",
       "        vertical-align: top;\n",
       "    }\n",
       "\n",
       "    .dataframe thead th {\n",
       "        text-align: right;\n",
       "    }\n",
       "</style>\n",
       "<table border=\"1\" class=\"dataframe\">\n",
       "  <thead>\n",
       "    <tr style=\"text-align: right;\">\n",
       "      <th></th>\n",
       "      <th>text</th>\n",
       "      <th>label</th>\n",
       "    </tr>\n",
       "  </thead>\n",
       "  <tbody>\n",
       "    <tr>\n",
       "      <th>0</th>\n",
       "      <td>INDICATION:,  Coronary artery disease, severe ...</td>\n",
       "      <td>2</td>\n",
       "    </tr>\n",
       "    <tr>\n",
       "      <th>1</th>\n",
       "      <td>The patient was told that the injection may ca...</td>\n",
       "      <td>2</td>\n",
       "    </tr>\n",
       "    <tr>\n",
       "      <th>2</th>\n",
       "      <td>HISTORY OF PRESENT ILLNESS:, The patient is a ...</td>\n",
       "      <td>2</td>\n",
       "    </tr>\n",
       "    <tr>\n",
       "      <th>3</th>\n",
       "      <td>INDICATION: , Chest pain.,TYPE OF TEST: , Aden...</td>\n",
       "      <td>2</td>\n",
       "    </tr>\n",
       "    <tr>\n",
       "      <th>4</th>\n",
       "      <td>HISTORY AND CLINICAL DATA:  ,The patient is an...</td>\n",
       "      <td>2</td>\n",
       "    </tr>\n",
       "  </tbody>\n",
       "</table>\n",
       "</div>"
      ],
      "text/plain": [
       "                                                text  label\n",
       "0  INDICATION:,  Coronary artery disease, severe ...      2\n",
       "1  The patient was told that the injection may ca...      2\n",
       "2  HISTORY OF PRESENT ILLNESS:, The patient is a ...      2\n",
       "3  INDICATION: , Chest pain.,TYPE OF TEST: , Aden...      2\n",
       "4  HISTORY AND CLINICAL DATA:  ,The patient is an...      2"
      ]
     },
     "execution_count": 14,
     "metadata": {},
     "output_type": "execute_result"
    }
   ],
   "source": [
    "med_unsuper = med_total[med_total['label'] == 2][['text', 'label']].reset_index(drop=True)\n",
    "med_unsuper.head(5)"
   ]
  },
  {
   "cell_type": "code",
   "execution_count": 15,
   "id": "2efefc18",
   "metadata": {},
   "outputs": [
    {
     "data": {
      "text/html": [
       "<div>\n",
       "<style scoped>\n",
       "    .dataframe tbody tr th:only-of-type {\n",
       "        vertical-align: middle;\n",
       "    }\n",
       "\n",
       "    .dataframe tbody tr th {\n",
       "        vertical-align: top;\n",
       "    }\n",
       "\n",
       "    .dataframe thead th {\n",
       "        text-align: right;\n",
       "    }\n",
       "</style>\n",
       "<table border=\"1\" class=\"dataframe\">\n",
       "  <thead>\n",
       "    <tr style=\"text-align: right;\">\n",
       "      <th></th>\n",
       "      <th>text</th>\n",
       "      <th>label</th>\n",
       "    </tr>\n",
       "  </thead>\n",
       "  <tbody>\n",
       "    <tr>\n",
       "      <th>0</th>\n",
       "      <td>SUBJECTIVE:,  The patient is brought in by an ...</td>\n",
       "      <td>1</td>\n",
       "    </tr>\n",
       "    <tr>\n",
       "      <th>1</th>\n",
       "      <td>PREOPERATIVE DIAGNOSES:,1.  Left carpal tunnel...</td>\n",
       "      <td>1</td>\n",
       "    </tr>\n",
       "    <tr>\n",
       "      <th>2</th>\n",
       "      <td>As you know, the patient is a 50-year-old righ...</td>\n",
       "      <td>1</td>\n",
       "    </tr>\n",
       "    <tr>\n",
       "      <th>3</th>\n",
       "      <td>HISTORY: , The patient is a 56-year-old right-...</td>\n",
       "      <td>1</td>\n",
       "    </tr>\n",
       "    <tr>\n",
       "      <th>4</th>\n",
       "      <td>ADMISSION DIAGNOSIS: , Left hip fracture.,CHIE...</td>\n",
       "      <td>1</td>\n",
       "    </tr>\n",
       "  </tbody>\n",
       "</table>\n",
       "</div>"
      ],
      "text/plain": [
       "                                                text  label\n",
       "0  SUBJECTIVE:,  The patient is brought in by an ...      1\n",
       "1  PREOPERATIVE DIAGNOSES:,1.  Left carpal tunnel...      1\n",
       "2  As you know, the patient is a 50-year-old righ...      1\n",
       "3  HISTORY: , The patient is a 56-year-old right-...      1\n",
       "4  ADMISSION DIAGNOSIS: , Left hip fracture.,CHIE...      1"
      ]
     },
     "execution_count": 15,
     "metadata": {},
     "output_type": "execute_result"
    }
   ],
   "source": [
    "med_unknown = med_total[med_total['label'] == 1][['text', 'label']].reset_index(drop=True)\n",
    "med_unknown.head(5)"
   ]
  },
  {
   "cell_type": "code",
   "execution_count": 16,
   "id": "9024a6aa",
   "metadata": {},
   "outputs": [
    {
     "data": {
      "text/plain": [
       "\"SUBJECTIVE:,  The patient is brought in by an assistant with some of his food diary sheets.  They wonder if the patient needs to lose anymore weight.,OBJECTIVE:,  The patient's weight today is 186-1/2 pounds, which is down 1-1/2 pounds in the past month.  He has lost a total of 34-1/2 pounds.  I praised this.  I went over his food diary and praised all of his positive food choices reported, especially his use of sugar-free Kool-Aid, sugar-free pudding, and diet pop.  I encouraged him to continue all of that, as well as his regular physical activity.,ASSESSMENT:,  The patient is losing weight at an acceptable rate.  He needs to continue keeping a food diary and his regular physical activity.,PLAN:,  The patient plans to see Dr. XYZ at the end of May 2005.  I recommended that they ask Dr. XYZ what weight he would like for the patient to be at.  Follow up will be with me June 13, 2005.diets and nutritions, weight, kool-aid, food diary sheets, diary sheets, physical activity, food diary, dietary, sheets, diary, food\""
      ]
     },
     "execution_count": 16,
     "metadata": {},
     "output_type": "execute_result"
    }
   ],
   "source": [
    "med_unknown['text'][0]"
   ]
  },
  {
   "cell_type": "code",
   "execution_count": 44,
   "id": "12f17870",
   "metadata": {},
   "outputs": [],
   "source": [
    "# med_unknown['text'][2]"
   ]
  },
  {
   "cell_type": "code",
   "execution_count": 18,
   "id": "d1ee36fa",
   "metadata": {},
   "outputs": [
    {
     "data": {
      "text/plain": [
       "((1228, 2), (1149, 2), (1149, 2), (982, 2))"
      ]
     },
     "execution_count": 18,
     "metadata": {},
     "output_type": "execute_result"
    }
   ],
   "source": [
    "med_train.shape, med_test.shape, med_unsuper.shape, med_unknown.shape"
   ]
  },
  {
   "cell_type": "code",
   "execution_count": 19,
   "id": "95bd95b6",
   "metadata": {},
   "outputs": [
    {
     "data": {
      "text/plain": [
       "DatasetDict({\n",
       "    train: Dataset({\n",
       "        features: ['text', 'label'],\n",
       "        num_rows: 1228\n",
       "    })\n",
       "    test: Dataset({\n",
       "        features: ['text', 'label'],\n",
       "        num_rows: 1149\n",
       "    })\n",
       "    unsupervised: Dataset({\n",
       "        features: ['text', 'label'],\n",
       "        num_rows: 1149\n",
       "    })\n",
       "})"
      ]
     },
     "execution_count": 19,
     "metadata": {},
     "output_type": "execute_result"
    }
   ],
   "source": [
    "import datasets\n",
    "from datasets import Dataset, DatasetDict\n",
    "newmed_dataset = DatasetDict({\n",
    "    \"train\": Dataset.from_pandas(med_train),\n",
    "    \"test\": Dataset.from_pandas(med_test),\n",
    "    \"unsupervised\":Dataset.from_pandas(med_unsuper),\n",
    "#     \"unknown\": Dataset.from_pandas(med_unknown)\n",
    "    })\n",
    "newmed_dataset"
   ]
  },
  {
   "cell_type": "code",
   "execution_count": 23,
   "id": "4c257a9f",
   "metadata": {},
   "outputs": [],
   "source": [
    "model_checkpoint = \"t5-small\""
   ]
  },
  {
   "cell_type": "code",
   "execution_count": 24,
   "id": "3f80ab7b",
   "metadata": {},
   "outputs": [],
   "source": [
    "# load the tokenizer\n",
    "tokenizer = transformers.AutoTokenizer.from_pretrained(\n",
    "    model_checkpoint, cache_dir=\"../datasets/\"\n",
    ")  "
   ]
  },
  {
   "cell_type": "code",
   "execution_count": 25,
   "id": "1a2fcfb9",
   "metadata": {},
   "outputs": [],
   "source": [
    "def to_tokens(\n",
    "    tokenizer: transformers.models.t5.tokenization_t5_fast.T5TokenizerFast, label_map: dict\n",
    ") -> callable:\n",
    "    def apply(x) -> transformers.tokenization_utils_base.BatchEncoding:\n",
    "        \"\"\"From a formatted dataset `x` a batch encoding `token_res` is created.\"\"\"\n",
    "        target_labels = [label_map[y] for y in x[\"label\"]]\n",
    "        token_res = tokenizer(\n",
    "            x[\"text\"],\n",
    "            text_target=target_labels,\n",
    "            return_tensors=\"np\",\n",
    "            truncation=True,\n",
    "            padding=True,\n",
    "        )\n",
    "        return token_res\n",
    "\n",
    "    return apply"
   ]
  },
  {
   "cell_type": "code",
   "execution_count": null,
   "id": "e63172b8",
   "metadata": {},
   "outputs": [],
   "source": [
    "med_label_lookup = {0: \"Medical Records\", 2:\"Internal Medicine\", 3: \"Surgery\"}"
   ]
  },
  {
   "cell_type": "code",
   "execution_count": 26,
   "id": "96500e84",
   "metadata": {},
   "outputs": [
    {
     "data": {
      "application/vnd.jupyter.widget-view+json": {
       "model_id": "",
       "version_major": 2,
       "version_minor": 0
      },
      "text/plain": [
       "Map:   0%|          | 0/1228 [00:00<?, ? examples/s]"
      ]
     },
     "metadata": {},
     "output_type": "display_data"
    },
    {
     "data": {
      "application/vnd.jupyter.widget-view+json": {
       "model_id": "",
       "version_major": 2,
       "version_minor": 0
      },
      "text/plain": [
       "Map:   0%|          | 0/1149 [00:00<?, ? examples/s]"
      ]
     },
     "metadata": {},
     "output_type": "display_data"
    },
    {
     "data": {
      "application/vnd.jupyter.widget-view+json": {
       "model_id": "",
       "version_major": 2,
       "version_minor": 0
      },
      "text/plain": [
       "Map:   0%|          | 0/1149 [00:00<?, ? examples/s]"
      ]
     },
     "metadata": {},
     "output_type": "display_data"
    }
   ],
   "source": [
    "med_to_tokens = to_tokens(tokenizer, med_label_lookup)\n",
    "tokenized_dataset = newmed_dataset.map(\n",
    "    med_to_tokens, batched=True, remove_columns=[\"text\", \"label\"]\n",
    ")"
   ]
  },
  {
   "cell_type": "code",
   "execution_count": 27,
   "id": "7fe43d99",
   "metadata": {},
   "outputs": [
    {
     "data": {
      "text/plain": [
       "DatasetDict({\n",
       "    train: Dataset({\n",
       "        features: ['input_ids', 'attention_mask', 'labels'],\n",
       "        num_rows: 1228\n",
       "    })\n",
       "    test: Dataset({\n",
       "        features: ['input_ids', 'attention_mask', 'labels'],\n",
       "        num_rows: 1149\n",
       "    })\n",
       "    unsupervised: Dataset({\n",
       "        features: ['input_ids', 'attention_mask', 'labels'],\n",
       "        num_rows: 1149\n",
       "    })\n",
       "})"
      ]
     },
     "execution_count": 27,
     "metadata": {},
     "output_type": "execute_result"
    }
   ],
   "source": [
    "tokenized_dataset"
   ]
  },
  {
   "cell_type": "code",
   "execution_count": 29,
   "id": "564236ab",
   "metadata": {},
   "outputs": [],
   "source": [
    "import tempfile\n",
    "tmpdir = tempfile.TemporaryDirectory()\n",
    "local_training_root = tmpdir.name"
   ]
  },
  {
   "cell_type": "code",
   "execution_count": 30,
   "id": "a18de3f4",
   "metadata": {},
   "outputs": [],
   "source": [
    "checkpoint_name = \"test-trainer\"\n",
    "local_checkpoint_path = os.path.join(local_training_root, checkpoint_name)\n",
    "training_args = transformers.TrainingArguments(\n",
    "    local_checkpoint_path,\n",
    "    num_train_epochs=1,  \n",
    "    per_device_train_batch_size=16,\n",
    "    optim=\"adamw_torch\",\n",
    "    report_to=[\"tensorboard\"],\n",
    ")"
   ]
  },
  {
   "cell_type": "code",
   "execution_count": 31,
   "id": "695f4aac",
   "metadata": {},
   "outputs": [],
   "source": [
    "# load the pre-trained model\n",
    "model = transformers.AutoModelForSeq2SeqLM.from_pretrained(\n",
    "    model_checkpoint, cache_dir=\"../datasets/\"\n",
    ")  "
   ]
  },
  {
   "cell_type": "code",
   "execution_count": 32,
   "id": "5bfa0805",
   "metadata": {},
   "outputs": [],
   "source": [
    "# Batch\n",
    "data_collator = transformers.DataCollatorWithPadding(tokenizer=tokenizer)\n",
    "trainer = transformers.Trainer(\n",
    "    model,\n",
    "    training_args,\n",
    "    train_dataset=tokenized_dataset[\"train\"],\n",
    "    eval_dataset=tokenized_dataset[\"test\"],\n",
    "    tokenizer=tokenizer,\n",
    "    data_collator=data_collator,\n",
    ")"
   ]
  },
  {
   "cell_type": "code",
   "execution_count": 33,
   "id": "2696e7ee",
   "metadata": {},
   "outputs": [],
   "source": [
    "tensorboard_display_dir = \"../datasets/tensorboard\""
   ]
  },
  {
   "cell_type": "code",
   "execution_count": 34,
   "id": "f4c9e8f7",
   "metadata": {
    "scrolled": true
   },
   "outputs": [
    {
     "data": {
      "text/plain": [
       "Reusing TensorBoard on port 6006 (pid 9236), started 0:09:13 ago. (Use '!kill 9236' to kill it.)"
      ]
     },
     "metadata": {},
     "output_type": "display_data"
    },
    {
     "data": {
      "text/html": [
       "\n",
       "      <iframe id=\"tensorboard-frame-1c80317fa3b1799d\" width=\"100%\" height=\"800\" frameborder=\"0\">\n",
       "      </iframe>\n",
       "      <script>\n",
       "        (function() {\n",
       "          const frame = document.getElementById(\"tensorboard-frame-1c80317fa3b1799d\");\n",
       "          const url = new URL(\"/\", window.location);\n",
       "          const port = 6006;\n",
       "          if (port) {\n",
       "            url.port = port;\n",
       "          }\n",
       "          frame.src = url;\n",
       "        })();\n",
       "      </script>\n",
       "    "
      ],
      "text/plain": [
       "<IPython.core.display.HTML object>"
      ]
     },
     "metadata": {},
     "output_type": "display_data"
    }
   ],
   "source": [
    "# remove AppData/Local/Temp/.tensorboard-info\n",
    "%load_ext tensorboard\n",
    "%tensorboard --logdir '{tensorboard_display_dir}'"
   ]
  },
  {
   "cell_type": "code",
   "execution_count": 35,
   "id": "60f78227",
   "metadata": {},
   "outputs": [
    {
     "name": "stderr",
     "output_type": "stream",
     "text": [
      "***** Running training *****\n",
      "  Num examples = 1228\n",
      "  Num Epochs = 1\n",
      "  Instantaneous batch size per device = 16\n",
      "  Total train batch size (w. parallel, distributed & accumulation) = 16\n",
      "  Gradient Accumulation steps = 1\n",
      "  Total optimization steps = 77\n",
      "  Number of trainable parameters = 60506624\n",
      "You're using a T5TokenizerFast tokenizer. Please note that with a fast tokenizer, using the `__call__` method is faster than using a method to encode the text followed by a call to the `pad` method to get a padded encoding.\n"
     ]
    },
    {
     "data": {
      "text/html": [
       "\n",
       "    <div>\n",
       "      \n",
       "      <progress value='77' max='77' style='width:300px; height:20px; vertical-align: middle;'></progress>\n",
       "      [77/77 13:09, Epoch 1/1]\n",
       "    </div>\n",
       "    <table border=\"1\" class=\"dataframe\">\n",
       "  <thead>\n",
       " <tr style=\"text-align: left;\">\n",
       "      <th>Step</th>\n",
       "      <th>Training Loss</th>\n",
       "    </tr>\n",
       "  </thead>\n",
       "  <tbody>\n",
       "  </tbody>\n",
       "</table><p>"
      ],
      "text/plain": [
       "<IPython.core.display.HTML object>"
      ]
     },
     "metadata": {},
     "output_type": "display_data"
    },
    {
     "name": "stderr",
     "output_type": "stream",
     "text": [
      "\n",
      "\n",
      "Training completed. Do not forget to share your model on huggingface.co/models =)\n",
      "\n",
      "\n",
      "Saving model checkpoint to C:\\Users\\Sealion\\AppData\\Local\\Temp\\tmprh8iqfd7\\test-trainer\n",
      "Configuration saved in C:\\Users\\Sealion\\AppData\\Local\\Temp\\tmprh8iqfd7\\test-trainer\\config.json\n",
      "Configuration saved in C:\\Users\\Sealion\\AppData\\Local\\Temp\\tmprh8iqfd7\\test-trainer\\generation_config.json\n",
      "Model weights saved in C:\\Users\\Sealion\\AppData\\Local\\Temp\\tmprh8iqfd7\\test-trainer\\pytorch_model.bin\n",
      "tokenizer config file saved in C:\\Users\\Sealion\\AppData\\Local\\Temp\\tmprh8iqfd7\\test-trainer\\tokenizer_config.json\n",
      "Special tokens file saved in C:\\Users\\Sealion\\AppData\\Local\\Temp\\tmprh8iqfd7\\test-trainer\\special_tokens_map.json\n",
      "Copy vocab file to C:\\Users\\Sealion\\AppData\\Local\\Temp\\tmprh8iqfd7\\test-trainer\\spiece.model\n"
     ]
    }
   ],
   "source": [
    "# save model to the local checkpoint\n",
    "trainer.train()\n",
    "trainer.save_model()\n",
    "trainer.save_state()"
   ]
  },
  {
   "cell_type": "code",
   "execution_count": 36,
   "id": "0ff435fe",
   "metadata": {},
   "outputs": [
    {
     "name": "stderr",
     "output_type": "stream",
     "text": [
      "Saving model checkpoint to ../datasets/med_fine_tuning/test-trainer\n",
      "Configuration saved in ../datasets/med_fine_tuning/test-trainer\\config.json\n",
      "Configuration saved in ../datasets/med_fine_tuning/test-trainer\\generation_config.json\n",
      "Model weights saved in ../datasets/med_fine_tuning/test-trainer\\pytorch_model.bin\n",
      "tokenizer config file saved in ../datasets/med_fine_tuning/test-trainer\\tokenizer_config.json\n",
      "Special tokens file saved in ../datasets/med_fine_tuning/test-trainer\\special_tokens_map.json\n",
      "Copy vocab file to ../datasets/med_fine_tuning/test-trainer\\spiece.model\n"
     ]
    }
   ],
   "source": [
    "# persist the fine-tuned model to DBFS\n",
    "final_model_path = f\"../datasets/med_fine_tuning/{checkpoint_name}\"\n",
    "trainer.save_model(output_dir=final_model_path)"
   ]
  },
  {
   "cell_type": "code",
   "execution_count": 37,
   "id": "2ff7c5b4",
   "metadata": {},
   "outputs": [
    {
     "name": "stderr",
     "output_type": "stream",
     "text": [
      "loading configuration file ../datasets/med_fine_tuning/test-trainer\\config.json\n",
      "Model config T5Config {\n",
      "  \"_name_or_path\": \"../datasets/med_fine_tuning/test-trainer\",\n",
      "  \"architectures\": [\n",
      "    \"T5ForConditionalGeneration\"\n",
      "  ],\n",
      "  \"d_ff\": 2048,\n",
      "  \"d_kv\": 64,\n",
      "  \"d_model\": 512,\n",
      "  \"decoder_start_token_id\": 0,\n",
      "  \"dense_act_fn\": \"relu\",\n",
      "  \"dropout_rate\": 0.1,\n",
      "  \"eos_token_id\": 1,\n",
      "  \"feed_forward_proj\": \"relu\",\n",
      "  \"initializer_factor\": 1.0,\n",
      "  \"is_encoder_decoder\": true,\n",
      "  \"is_gated_act\": false,\n",
      "  \"layer_norm_epsilon\": 1e-06,\n",
      "  \"model_type\": \"t5\",\n",
      "  \"n_positions\": 512,\n",
      "  \"num_decoder_layers\": 6,\n",
      "  \"num_heads\": 8,\n",
      "  \"num_layers\": 6,\n",
      "  \"output_past\": true,\n",
      "  \"pad_token_id\": 0,\n",
      "  \"relative_attention_max_distance\": 128,\n",
      "  \"relative_attention_num_buckets\": 32,\n",
      "  \"task_specific_params\": {\n",
      "    \"summarization\": {\n",
      "      \"early_stopping\": true,\n",
      "      \"length_penalty\": 2.0,\n",
      "      \"max_length\": 200,\n",
      "      \"min_length\": 30,\n",
      "      \"no_repeat_ngram_size\": 3,\n",
      "      \"num_beams\": 4,\n",
      "      \"prefix\": \"summarize: \"\n",
      "    },\n",
      "    \"translation_en_to_de\": {\n",
      "      \"early_stopping\": true,\n",
      "      \"max_length\": 300,\n",
      "      \"num_beams\": 4,\n",
      "      \"prefix\": \"translate English to German: \"\n",
      "    },\n",
      "    \"translation_en_to_fr\": {\n",
      "      \"early_stopping\": true,\n",
      "      \"max_length\": 300,\n",
      "      \"num_beams\": 4,\n",
      "      \"prefix\": \"translate English to French: \"\n",
      "    },\n",
      "    \"translation_en_to_ro\": {\n",
      "      \"early_stopping\": true,\n",
      "      \"max_length\": 300,\n",
      "      \"num_beams\": 4,\n",
      "      \"prefix\": \"translate English to Romanian: \"\n",
      "    }\n",
      "  },\n",
      "  \"torch_dtype\": \"float32\",\n",
      "  \"transformers_version\": \"4.26.1\",\n",
      "  \"use_cache\": true,\n",
      "  \"vocab_size\": 32128\n",
      "}\n",
      "\n",
      "loading weights file ../datasets/med_fine_tuning/test-trainer\\pytorch_model.bin\n",
      "Generate config GenerationConfig {\n",
      "  \"decoder_start_token_id\": 0,\n",
      "  \"eos_token_id\": 1,\n",
      "  \"pad_token_id\": 0,\n",
      "  \"transformers_version\": \"4.26.1\"\n",
      "}\n",
      "\n",
      "All model checkpoint weights were used when initializing T5ForConditionalGeneration.\n",
      "\n",
      "All the weights of T5ForConditionalGeneration were initialized from the model checkpoint at ../datasets/med_fine_tuning/test-trainer.\n",
      "If your task is similar to the task the model of the checkpoint was trained on, you can already use T5ForConditionalGeneration for predictions without further training.\n",
      "loading configuration file ../datasets/med_fine_tuning/test-trainer\\generation_config.json\n",
      "Generate config GenerationConfig {\n",
      "  \"_from_model_config\": true,\n",
      "  \"decoder_start_token_id\": 0,\n",
      "  \"eos_token_id\": 1,\n",
      "  \"pad_token_id\": 0,\n",
      "  \"transformers_version\": \"4.26.1\"\n",
      "}\n",
      "\n"
     ]
    }
   ],
   "source": [
    "fine_tuned_model = transformers.AutoModelForSeq2SeqLM.from_pretrained(final_model_path)"
   ]
  },
  {
   "cell_type": "code",
   "execution_count": 51,
   "id": "f84561c0",
   "metadata": {},
   "outputs": [
    {
     "name": "stderr",
     "output_type": "stream",
     "text": [
      "Generate config GenerationConfig {\n",
      "  \"decoder_start_token_id\": 0,\n",
      "  \"eos_token_id\": 1,\n",
      "  \"pad_token_id\": 0,\n",
      "  \"transformers_version\": \"4.26.1\"\n",
      "}\n",
      "\n",
      "C:\\Users\\Sealion\\anaconda3\\lib\\site-packages\\transformers\\generation\\utils.py:1273: UserWarning: Neither `max_length` nor `max_new_tokens` has been set, `max_length` will default to 20 (`generation_config.max_length`). Controlling `max_length` via the config is deprecated and `max_length` will be removed from the config in v5 of Transformers -- we recommend using `max_new_tokens` to control the maximum length of the generation.\n",
      "  warnings.warn(\n"
     ]
    }
   ],
   "source": [
    "documents = [\"\"\"\n",
    "The patient is brought in by an assistant with some of his food diary sheets.  They wonder if the patient needs to lose anymore weight.,OBJECTIVE:,  The patient's weight today is 186-1/2 pounds, which is down 1-1/2 pounds in the past month.  He has lost a total of 34-1/2 pounds.  I praised this.  I went over his food diary and praised all of his positive food choices reported, especially his use of sugar-free Kool-Aid, sugar-free pudding, and diet pop.  I encouraged him to continue all of that, as well as his regular physical activity.,ASSESSMENT:,  The patient is losing weight at an acceptable rate.  He needs to continue keeping a food diary and his regular physical activity.,PLAN:,  The patient plans to see Dr. XYZ at the end of May 2005.  I recommended that they ask Dr. XYZ what weight he would like for the patient to be at.  Follow up will be with me June 13, 2005.diets and nutritions, weight, kool-aid, food diary sheets, diary sheets, physical activity, food diary, dietary, sheets, diary, food\n",
    "\"\"\"]\n",
    "inputs = tokenizer(documents, return_tensors=\"pt\", truncation=True, padding=True)\n",
    "pred = fine_tuned_model.generate(\n",
    "    input_ids=inputs[\"input_ids\"], attention_mask=inputs[\"attention_mask\"]\n",
    ")"
   ]
  },
  {
   "cell_type": "code",
   "execution_count": 52,
   "id": "ff7ae6d2",
   "metadata": {},
   "outputs": [
    {
     "data": {
      "text/html": [
       "<div>\n",
       "<style scoped>\n",
       "    .dataframe tbody tr th:only-of-type {\n",
       "        vertical-align: middle;\n",
       "    }\n",
       "\n",
       "    .dataframe tbody tr th {\n",
       "        vertical-align: top;\n",
       "    }\n",
       "\n",
       "    .dataframe thead th {\n",
       "        text-align: right;\n",
       "    }\n",
       "</style>\n",
       "<table border=\"1\" class=\"dataframe\">\n",
       "  <thead>\n",
       "    <tr style=\"text-align: right;\">\n",
       "      <th></th>\n",
       "      <th>documents</th>\n",
       "      <th>class</th>\n",
       "    </tr>\n",
       "  </thead>\n",
       "  <tbody>\n",
       "    <tr>\n",
       "      <th>0</th>\n",
       "      <td>\\nThe patient is brought in by an assistant wi...</td>\n",
       "      <td>Medical Records</td>\n",
       "    </tr>\n",
       "  </tbody>\n",
       "</table>\n",
       "</div>"
      ],
      "text/plain": [
       "                                           documents            class\n",
       "0  \\nThe patient is brought in by an assistant wi...  Medical Records"
      ]
     },
     "metadata": {},
     "output_type": "display_data"
    }
   ],
   "source": [
    "pdf = pd.DataFrame(\n",
    "    zip(documents, tokenizer.batch_decode(pred, skip_special_tokens=True)), \n",
    "    columns=[\"documents\", \"class\"],\n",
    ")\n",
    "display(pdf)"
   ]
  },
  {
   "cell_type": "code",
   "execution_count": 53,
   "id": "4ea9379a",
   "metadata": {},
   "outputs": [
    {
     "data": {
      "text/plain": [
       "0    Medical Records\n",
       "Name: class, dtype: object"
      ]
     },
     "execution_count": 53,
     "metadata": {},
     "output_type": "execute_result"
    }
   ],
   "source": [
    "pdf['class']"
   ]
  },
  {
   "cell_type": "markdown",
   "id": "b7cb3d50",
   "metadata": {},
   "source": [
    "[Note]: Many thanks to Databricks' (edx courses) method and idea."
   ]
  },
  {
   "cell_type": "code",
   "execution_count": null,
   "id": "09c3d6be",
   "metadata": {},
   "outputs": [],
   "source": []
  }
 ],
 "metadata": {
  "kernelspec": {
   "display_name": "Python 3 (ipykernel)",
   "language": "python",
   "name": "python3"
  },
  "language_info": {
   "codemirror_mode": {
    "name": "ipython",
    "version": 3
   },
   "file_extension": ".py",
   "mimetype": "text/x-python",
   "name": "python",
   "nbconvert_exporter": "python",
   "pygments_lexer": "ipython3",
   "version": "3.9.7"
  },
  "varInspector": {
   "cols": {
    "lenName": 16,
    "lenType": 16,
    "lenVar": 40
   },
   "kernels_config": {
    "python": {
     "delete_cmd_postfix": "",
     "delete_cmd_prefix": "del ",
     "library": "var_list.py",
     "varRefreshCmd": "print(var_dic_list())"
    },
    "r": {
     "delete_cmd_postfix": ") ",
     "delete_cmd_prefix": "rm(",
     "library": "var_list.r",
     "varRefreshCmd": "cat(var_dic_list()) "
    }
   },
   "types_to_exclude": [
    "module",
    "function",
    "builtin_function_or_method",
    "instance",
    "_Feature"
   ],
   "window_display": false
  }
 },
 "nbformat": 4,
 "nbformat_minor": 5
}
